{
 "cells": [
  {
   "cell_type": "code",
   "execution_count": 1,
   "metadata": {},
   "outputs": [
    {
     "name": "stdout",
     "output_type": "stream",
     "text": [
      "file path ../feature/stacking_pkl_file/2leve_lgb_stacking3.pkl\n",
      "(102277, 19) (102277, 19)\n",
      "file path ../feature/stacking_pkl_file/Capsule.pkl\n",
      "(102277, 19) (102277, 19)\n",
      "file path ../feature/stacking_pkl_file/capsule_all_shuffle.pkl\n",
      "(102277, 19) (102277, 19)\n",
      "file path ../feature/stacking_pkl_file/capsule_shuffle.pkl\n",
      "(102277, 19) (102277, 19)\n",
      "file path ../feature/stacking_pkl_file/cnn.pkl\n",
      "(102277, 19) (102277, 19)\n",
      "file path ../feature/stacking_pkl_file/mlp.pkl\n",
      "(102277, 19) (102277, 19)\n",
      "file path ../feature/stacking_pkl_file/mlp_shuffle.pkl\n",
      "(102277, 19) (102277, 19)\n",
      "file path ../feature/stacking_pkl_file/pseudo_rnn2.pkl\n",
      "(102277, 19) (102277, 19)\n",
      "file path ../feature/stacking_pkl_file/rnn7879.pkl\n",
      "(102277, 19) (102277, 19)\n",
      "file path ../feature/stacking_pkl_file/rnn_all_shuffle_all.pkl\n",
      "(102277, 19) (102277, 19)\n",
      "file path ../feature/stacking_pkl_file/rnn_cnn.pkl\n",
      "(102277, 19) (102277, 19)\n",
      "file path ../feature/stacking_pkl_file/rnn_pseudo1.pkl\n",
      "(102277, 19) (102277, 19)\n",
      "file path ../feature/stacking_pkl_file/rnn_shuffle1.pkl\n",
      "(102277, 19) (102277, 19)\n",
      "file path ../feature/stacking_pkl_file/rnn_shuffle2.pkl\n",
      "(102277, 19) (102277, 19)\n"
     ]
    }
   ],
   "source": [
    "import pickle\n",
    "import glob\n",
    "import pandas as pd\n",
    "import numpy as np\n",
    "from sklearn.linear_model import LogisticRegression\n",
    "from sklearn.metrics import log_loss\n",
    "import lightgbm as lgb\n",
    "from sklearn.metrics import f1_score\n",
    "# import time\n",
    "# print('sleeping')\n",
    "# time.sleep(7200)\n",
    "# print('sleep done =======================')\n",
    "# load feats\n",
    "train_x,test_x = [],[]\n",
    "for feat in sorted(glob.glob('../feature/stacking_pkl_file/*')):\n",
    "    if 'fm2.pkl' in feat or 'ligbm' in  feat :\n",
    "        continue\n",
    "    print('file path',feat)\n",
    "    a,b = pickle.load(open(feat,'rb'))\n",
    "    print(a.shape,b.shape)\n",
    "    train_x.append(a)\n",
    "    test_x.append(b)\n",
    "    "
   ]
  },
  {
   "cell_type": "code",
   "execution_count": 2,
   "metadata": {},
   "outputs": [
    {
     "name": "stdout",
     "output_type": "stream",
     "text": [
      "file path ../feature/other_features/features-vinson/bnb_prob_10w.csv\n",
      "(102277, 19) (102277, 19)\n",
      "file path ../feature/other_features/features-vinson/lr_prob.csv\n",
      "(102277, 19) (102277, 19)\n",
      "file path ../feature/other_features/features-vinson/lr_prob_0.778620.csv\n",
      "(102277, 19) (102277, 19)\n",
      "file path ../feature/other_features/features-vinson/mnb_prob_10w.csv\n",
      "(102277, 19) (102277, 19)\n",
      "file path ../feature/other_features/features-vinson/nn_ensemble_0.775597.csv\n",
      "(102277, 19) (102277, 19)\n",
      "file path ../feature/other_features/features-vinson/svc_prob.csv\n",
      "(102277, 19) (102277, 19)\n",
      "file path ../feature/other_features/features-vinson/svc_prob_0.778881.csv\n",
      "(102277, 19) (102277, 19)\n",
      "file path ../feature/other_features/features-vinson/word_fasttext_0.760225.csv\n",
      "(102277, 19) (102277, 19)\n",
      "(102277, 418)\n"
     ]
    }
   ],
   "source": [
    "for feat in sorted(glob.glob('../feature/other_features/features-vinson/*')):\n",
    "    if 'fm2.pkl' in feat or 'w2v' in feat or 'lda' in feat or 'lsi' in feat:\n",
    "        continue\n",
    "    print('file path',feat)\n",
    "    file=pd.read_csv(feat)\n",
    "    a = file.iloc[:102277,:]\n",
    "    b = file.iloc[102277:,:]\n",
    "    a = a.values\n",
    "    b = b.values\n",
    "    print(a.shape,b.shape)\n",
    "    train_x.append(a)\n",
    "    test_x.append(b)\n",
    "train_x = np.nan_to_num(np.hstack(train_x))\n",
    "test_x = np.nan_to_num(np.hstack(test_x))\n",
    "print(train_x.shape)"
   ]
  },
  {
   "cell_type": "code",
   "execution_count": 3,
   "metadata": {},
   "outputs": [
    {
     "name": "stderr",
     "output_type": "stream",
     "text": [
      "/usr/local/lib/python3.5/dist-packages/pandas/core/computation/check.py:17: UserWarning: The installed version of numexpr 2.4.3 is not supported in pandas and will be not be used\n",
      "The minimum supported version is 2.4.6\n",
      "\n",
      "  ver=ver, min_ver=_MIN_NUMEXPR_VERSION), UserWarning)\n"
     ]
    },
    {
     "data": {
      "text/plain": [
       "7"
      ]
     },
     "execution_count": 3,
     "metadata": {},
     "output_type": "execute_result"
    }
   ],
   "source": [
    "import pandas as pd\n",
    "import numpy as np\n",
    "train = pd.read_csv(\"../input/new_data/train_set.csv\")\n",
    "y=(train[\"class\"]-1).astype(int)\n",
    "del train\n",
    "import gc\n",
    "gc.collect()"
   ]
  },
  {
   "cell_type": "code",
   "execution_count": 4,
   "metadata": {},
   "outputs": [
    {
     "name": "stderr",
     "output_type": "stream",
     "text": [
      "/usr/local/lib/python3.5/dist-packages/h5py/__init__.py:36: FutureWarning: Conversion of the second argument of issubdtype from `float` to `np.floating` is deprecated. In future, it will be treated as `np.float64 == np.dtype(float).type`.\n",
      "  from ._conv import register_converters as _register_converters\n",
      "Using TensorFlow backend.\n"
     ]
    }
   ],
   "source": [
    "\n",
    "from keras.utils import np_utils\n",
    "train_y=np_utils.to_categorical(y,num_classes=19)"
   ]
  },
  {
   "cell_type": "code",
   "execution_count": 5,
   "metadata": {},
   "outputs": [],
   "source": [
    "def self_f1_score(data, y_hat):\n",
    "    y_true = data\n",
    "    y_hat = np.round(y_hat) # scikits f1 doesn't like probabilities\n",
    "    return f1_score(y_true, y_hat, average='macro')\n",
    "\n",
    "def lgb_f1_score(y_hat, data):\n",
    "    y_true = data.get_label()\n",
    "    y_hat = np.round(y_hat) # scikits f1 doesn't like probabilities\n",
    "    return 'f1', f1_score(y_true, y_hat, average='macro'), True"
   ]
  },
  {
   "cell_type": "code",
   "execution_count": 54,
   "metadata": {},
   "outputs": [],
   "source": [
    "def self_f1_score(data, y_hat):\n",
    "    y_true = data\n",
    "    y_hat = np.round(y_hat) # scikits f1 doesn't like probabilities\n",
    "    return f1_score(y_true, y_hat, average='macro')"
   ]
  },
  {
   "cell_type": "code",
   "execution_count": 57,
   "metadata": {},
   "outputs": [],
   "source": [
    "from sklearn.metrics import roc_auc_score\n",
    "def fit_cv(estimator, params, train, test, y, label_id, n_splits=10):\n",
    "    estimators,scores, test_predictions, f1_sco = [],[],[],[]\n",
    "    kf = StratifiedKFold(n_splits=n_splits, shuffle=True, random_state=233)\n",
    "    for train_index, test_index in kf.split(train_x, y[:, label_id]):\n",
    "#         (X_train, y_train), (X_valid, y_valid), X_test = get_fold_xy(train, test, LABEL_COLUMNS,i)\n",
    "\n",
    "        curr_x,curr_y = train[train_index],y[train_index]\n",
    "        hold_out_x,hold_out_y = train[test_index],y[test_index]\n",
    "        d_train = lgb.Dataset(curr_x, curr_y[:,label_id])\n",
    "        d_valid = lgb.Dataset(hold_out_x, hold_out_y[:,label_id])\n",
    "        watchlist = [d_train, d_valid]\n",
    "        estimator_ = estimator\n",
    "        model = estimator_.train(params, #                       feval=lgb_f1_score,\n",
    "                      train_set=d_train,\n",
    "                      num_boost_round=2000,\n",
    "                      valid_sets=watchlist,\n",
    "                      early_stopping_rounds=100,\n",
    "                      verbose_eval=None)        \n",
    "        y_valid_pred = model.predict(hold_out_x)\n",
    "        y_test_pred = model.predict(test)\n",
    "        score = roc_auc_score(hold_out_y[:,label_id], y_valid_pred)\n",
    "#         curr_train_f1 = self_f1_score(curr_y[:,i],train_pred)\n",
    "        curr_val_f1 = self_f1_score(hold_out_y[:,label_id],y_valid_pred)\n",
    "        estimators.append(estimator_)\n",
    "        scores.append(score)\n",
    "        f1_sco.append(curr_val_f1)\n",
    "        test_predictions.append(y_test_pred)\n",
    "    return scores, estimators, test_predictions,f1_sco"
   ]
  },
  {
   "cell_type": "code",
   "execution_count": 60,
   "metadata": {},
   "outputs": [],
   "source": [
    "from itertools import product\n",
    "import lightgbm as lgb\n",
    "\n",
    "estimator = lgb\n",
    "def make_grid(param_grid):\n",
    "    keys, values = zip(*param_grid.items())\n",
    "    param_dicts = [dict(zip(keys, v)) for v in product(*values)]\n",
    "    return param_dicts      \n",
    "param_grid = dict(\n",
    "                  metric=['binary_logloss'],\n",
    "                    scale_pos_weight = [100],\n",
    "                  num_leaves= [8, 12, 15, 16, 24],\n",
    "                  max_depth = [3,4,5,6],\n",
    "                  learning_rate= [0.03, 0.04, 0.05],\n",
    "#                   max_depth= [2,3,4,5],\n",
    "                  min_child_weight= [1,3,5,7],\n",
    "#                   gamma=[0.01,0.05,0.1,0.5],\n",
    "                  bagging_fraction= [1.0,0.8,0.6],\n",
    "                  feature_fraction= [0.4,0.6,0.8,1.0], \n",
    "#                   reg_lambda= [0.0,0.01,0.1,0.5,1.0], #1.0\n",
    "#                   reg_alpha= [0.0],\n",
    "                  num_threads=[4]\n",
    "                 )\n",
    "\n",
    "label_id = 0\n",
    "nr_runs = 50\n",
    "grid_sample = np.random.choice(make_grid(param_grid), nr_runs, replace=False)\n"
   ]
  },
  {
   "cell_type": "code",
   "execution_count": 39,
   "metadata": {},
   "outputs": [],
   "source": [
    "from tqdm import tqdm"
   ]
  },
  {
   "cell_type": "code",
   "execution_count": 61,
   "metadata": {},
   "outputs": [
    {
     "name": "stderr",
     "output_type": "stream",
     "text": [
      "  0%|          | 0/50 [00:00<?, ?it/s]/usr/local/lib/python3.5/dist-packages/lightgbm/basic.py:186: UserWarning: Usage subset(sliced data) of np.ndarray is not recommended due to it will double the peak memory cost in LightGBM.\n",
      "  warnings.warn(\"Usage subset(sliced data) of np.ndarray is not recommended due to it will double the peak memory cost in LightGBM.\")\n",
      "/usr/local/lib/python3.5/dist-packages/sklearn/metrics/classification.py:1135: UndefinedMetricWarning: F-score is ill-defined and being set to 0.0 in labels with no predicted samples.\n",
      "  'precision', 'predicted', average, warn_for)\n",
      "  2%|▏         | 1/50 [02:25<1:58:50, 145.53s/it]"
     ]
    },
    {
     "name": "stdout",
     "output_type": "stream",
     "text": [
      "mean 0.9355577547830819 std 0.044407811996916464\n",
      "mean 0.7676253212151011 std0.09375661015108874\n"
     ]
    },
    {
     "name": "stderr",
     "output_type": "stream",
     "text": [
      "\r",
      "  4%|▍         | 2/50 [05:01<2:00:40, 150.83s/it]"
     ]
    },
    {
     "name": "stdout",
     "output_type": "stream",
     "text": [
      "mean 0.934934523952405 std 0.04466555741981172\n",
      "mean 0.7677538036085533 std0.09386498517199761\n"
     ]
    },
    {
     "name": "stderr",
     "output_type": "stream",
     "text": [
      "\r",
      "  6%|▌         | 3/50 [07:20<1:54:57, 146.76s/it]"
     ]
    },
    {
     "name": "stdout",
     "output_type": "stream",
     "text": [
      "mean 0.939196269290916 std 0.0333118210081809\n",
      "mean 0.7677342044867732 std0.0938002435315559\n"
     ]
    },
    {
     "name": "stderr",
     "output_type": "stream",
     "text": [
      "\r",
      "  8%|▊         | 4/50 [10:22<1:59:16, 155.58s/it]"
     ]
    },
    {
     "name": "stdout",
     "output_type": "stream",
     "text": [
      "mean 0.9353881238756602 std 0.042974259327750584\n",
      "mean 0.7686578929213982 std0.09414509682678664\n"
     ]
    },
    {
     "name": "stderr",
     "output_type": "stream",
     "text": [
      "\r",
      " 10%|█         | 5/50 [13:58<2:05:45, 167.68s/it]"
     ]
    },
    {
     "name": "stdout",
     "output_type": "stream",
     "text": [
      "mean 0.9461666286613413 std 0.011991559143863597\n",
      "mean 0.7677598766553543 std0.09389362399407922\n"
     ]
    },
    {
     "name": "stderr",
     "output_type": "stream",
     "text": [
      "\r",
      " 12%|█▏        | 6/50 [16:25<2:00:25, 164.23s/it]"
     ]
    },
    {
     "name": "stdout",
     "output_type": "stream",
     "text": [
      "mean 0.9447339169797262 std 0.016743051277889352\n",
      "mean 0.7679576755642225 std0.09392572748308028\n"
     ]
    },
    {
     "name": "stderr",
     "output_type": "stream",
     "text": [
      "\r",
      " 14%|█▍        | 7/50 [18:33<1:54:01, 159.11s/it]"
     ]
    },
    {
     "name": "stdout",
     "output_type": "stream",
     "text": [
      "mean 0.8928327530554705 std 0.17098115018360607\n",
      "mean 0.7684127983478871 std0.09413063840969835\n"
     ]
    },
    {
     "name": "stderr",
     "output_type": "stream",
     "text": [
      "\r",
      " 16%|█▌        | 8/50 [21:11<1:51:15, 158.95s/it]"
     ]
    },
    {
     "name": "stdout",
     "output_type": "stream",
     "text": [
      "mean 0.9375032882281467 std 0.0372522406388058\n",
      "mean 0.7678132108193781 std0.09388170169963816\n"
     ]
    },
    {
     "name": "stderr",
     "output_type": "stream",
     "text": [
      "\r",
      " 18%|█▊        | 9/50 [23:41<1:47:55, 157.95s/it]"
     ]
    },
    {
     "name": "stdout",
     "output_type": "stream",
     "text": [
      "mean 0.9395780568347736 std 0.031815449637691326\n",
      "mean 0.7692301599904623 std0.09435874746328395\n"
     ]
    },
    {
     "name": "stderr",
     "output_type": "stream",
     "text": [
      "\r",
      " 20%|██        | 10/50 [25:59<1:43:56, 155.90s/it]"
     ]
    },
    {
     "name": "stdout",
     "output_type": "stream",
     "text": [
      "mean 0.892493432102275 std 0.17086307305166415\n",
      "mean 0.768595483728457 std0.09413274035029627\n"
     ]
    },
    {
     "name": "stderr",
     "output_type": "stream",
     "text": [
      "\r",
      " 22%|██▏       | 11/50 [29:10<1:43:26, 159.15s/it]"
     ]
    },
    {
     "name": "stdout",
     "output_type": "stream",
     "text": [
      "mean 0.947739114880054 std 0.008084416526057599\n",
      "mean 0.7679763876470201 std0.09391331196706626\n"
     ]
    },
    {
     "name": "stderr",
     "output_type": "stream",
     "text": [
      "\r",
      " 24%|██▍       | 12/50 [31:20<1:39:15, 156.72s/it]"
     ]
    },
    {
     "name": "stdout",
     "output_type": "stream",
     "text": [
      "mean 0.9442227898952605 std 0.016786234816402578\n",
      "mean 0.7685785881690774 std0.0941680437614188\n"
     ]
    },
    {
     "name": "stderr",
     "output_type": "stream",
     "text": [
      "\r",
      " 26%|██▌       | 13/50 [36:42<1:44:28, 169.42s/it]"
     ]
    },
    {
     "name": "stdout",
     "output_type": "stream",
     "text": [
      "mean 0.9391659524145822 std 0.03372958966879564\n",
      "mean 0.7676368820019841 std0.09381514294492302\n"
     ]
    },
    {
     "name": "stderr",
     "output_type": "stream",
     "text": [
      "\r",
      " 28%|██▊       | 14/50 [40:24<1:43:55, 173.21s/it]"
     ]
    },
    {
     "name": "stdout",
     "output_type": "stream",
     "text": [
      "mean 0.944689988434134 std 0.01663815658483769\n",
      "mean 0.7676089571303859 std0.09384210127209337\n"
     ]
    },
    {
     "name": "stderr",
     "output_type": "stream",
     "text": [
      "\r",
      " 30%|███       | 15/50 [44:17<1:43:20, 177.16s/it]"
     ]
    },
    {
     "name": "stdout",
     "output_type": "stream",
     "text": [
      "mean 0.944689988434134 std 0.01663815658483769\n",
      "mean 0.7676089571303859 std0.09384210127209337\n"
     ]
    },
    {
     "name": "stderr",
     "output_type": "stream",
     "text": [
      "\r",
      " 32%|███▏      | 16/50 [48:43<1:43:31, 182.69s/it]"
     ]
    },
    {
     "name": "stdout",
     "output_type": "stream",
     "text": [
      "mean 0.8960360921775177 std 0.16095996667691576\n",
      "mean 0.7678656815740214 std0.09384848506043376\n"
     ]
    },
    {
     "name": "stderr",
     "output_type": "stream",
     "text": [
      "\r",
      " 34%|███▍      | 17/50 [54:45<1:46:18, 193.28s/it]"
     ]
    },
    {
     "name": "stdout",
     "output_type": "stream",
     "text": [
      "mean 0.9482217748942322 std 0.006749597698673127\n",
      "mean 0.7675839237236142 std0.09377655029702242\n"
     ]
    },
    {
     "name": "stderr",
     "output_type": "stream",
     "text": [
      "\r",
      " 36%|███▌      | 18/50 [59:25<1:45:38, 198.07s/it]"
     ]
    },
    {
     "name": "stdout",
     "output_type": "stream",
     "text": [
      "mean 0.9459129337111853 std 0.01119796989866851\n",
      "mean 0.7682148774708747 std0.09402609516806527\n"
     ]
    },
    {
     "name": "stderr",
     "output_type": "stream",
     "text": [
      "\r",
      " 38%|███▊      | 19/50 [1:03:15<1:43:12, 199.74s/it]"
     ]
    },
    {
     "name": "stdout",
     "output_type": "stream",
     "text": [
      "mean 0.9364458748216459 std 0.04001530099146324\n",
      "mean 0.767735129253315 std0.09384228102794516\n"
     ]
    },
    {
     "name": "stderr",
     "output_type": "stream",
     "text": [
      "\r",
      " 40%|████      | 20/50 [1:08:28<1:42:42, 205.41s/it]"
     ]
    },
    {
     "name": "stdout",
     "output_type": "stream",
     "text": [
      "mean 0.9366121677006175 std 0.040895055724229884\n",
      "mean 0.768309969547561 std0.09401731338785621\n"
     ]
    },
    {
     "name": "stderr",
     "output_type": "stream",
     "text": [
      "\r",
      " 42%|████▏     | 21/50 [1:13:19<1:41:15, 209.49s/it]"
     ]
    },
    {
     "name": "stdout",
     "output_type": "stream",
     "text": [
      "mean 0.9476677506576884 std 0.008089349168276206\n",
      "mean 0.7673014951543664 std0.09370753714606299\n"
     ]
    },
    {
     "name": "stderr",
     "output_type": "stream",
     "text": [
      "\r",
      " 44%|████▍     | 22/50 [1:19:07<1:40:41, 215.78s/it]"
     ]
    },
    {
     "name": "stdout",
     "output_type": "stream",
     "text": [
      "mean 0.946058535092033 std 0.01115094677900363\n",
      "mean 0.7671852868875539 std0.09374227888111307\n"
     ]
    },
    {
     "name": "stderr",
     "output_type": "stream",
     "text": [
      "\r",
      " 46%|████▌     | 23/50 [1:23:03<1:37:30, 216.68s/it]"
     ]
    },
    {
     "name": "stdout",
     "output_type": "stream",
     "text": [
      "mean 0.9364859960514063 std 0.041036829083927626\n",
      "mean 0.7677946865476061 std0.09384509170171157\n"
     ]
    },
    {
     "name": "stderr",
     "output_type": "stream",
     "text": [
      "\r",
      " 48%|████▊     | 24/50 [1:28:36<1:35:59, 221.53s/it]"
     ]
    },
    {
     "name": "stdout",
     "output_type": "stream",
     "text": [
      "mean 0.8926399164724916 std 0.17092074279062758\n",
      "mean 0.7686740247027941 std0.09418745852392303\n"
     ]
    },
    {
     "name": "stderr",
     "output_type": "stream",
     "text": [
      "\r",
      " 50%|█████     | 25/50 [1:32:44<1:32:44, 222.59s/it]"
     ]
    },
    {
     "name": "stdout",
     "output_type": "stream",
     "text": [
      "mean 0.9384406853649411 std 0.03485954965911348\n",
      "mean 0.7677818735707389 std0.09386801594054356\n"
     ]
    },
    {
     "name": "stderr",
     "output_type": "stream",
     "text": [
      "\r",
      " 52%|█████▏    | 26/50 [1:36:58<1:29:30, 223.77s/it]"
     ]
    },
    {
     "name": "stdout",
     "output_type": "stream",
     "text": [
      "mean 0.9393041862582854 std 0.032976927288248234\n",
      "mean 0.7682698131064952 std0.09409306908408227\n"
     ]
    },
    {
     "name": "stderr",
     "output_type": "stream",
     "text": [
      "\r",
      " 54%|█████▍    | 27/50 [1:41:54<1:26:48, 226.46s/it]"
     ]
    },
    {
     "name": "stdout",
     "output_type": "stream",
     "text": [
      "mean 0.9379534536765147 std 0.037000890249773925\n",
      "mean 0.7687892860704686 std0.09414154086031505\n"
     ]
    },
    {
     "name": "stderr",
     "output_type": "stream",
     "text": [
      "\r",
      " 56%|█████▌    | 28/50 [1:46:57<1:24:01, 229.18s/it]"
     ]
    },
    {
     "name": "stdout",
     "output_type": "stream",
     "text": [
      "mean 0.9478077600829005 std 0.008229134473327687\n",
      "mean 0.7682483070956154 std0.09400616958603696\n"
     ]
    },
    {
     "name": "stderr",
     "output_type": "stream",
     "text": [
      "\r",
      " 58%|█████▊    | 29/50 [1:51:44<1:20:54, 231.19s/it]"
     ]
    },
    {
     "name": "stdout",
     "output_type": "stream",
     "text": [
      "mean 0.9481514247248753 std 0.006628077446753769\n",
      "mean 0.7683445703951726 std0.09401399190269194\n"
     ]
    },
    {
     "name": "stderr",
     "output_type": "stream",
     "text": [
      "\r",
      " 60%|██████    | 30/50 [1:56:20<1:17:33, 232.69s/it]"
     ]
    },
    {
     "name": "stdout",
     "output_type": "stream",
     "text": [
      "mean 0.8969401853999555 std 0.15986345809290706\n",
      "mean 0.7683826346126241 std0.09409536137544436\n"
     ]
    },
    {
     "name": "stderr",
     "output_type": "stream",
     "text": [
      "\r",
      " 62%|██████▏   | 31/50 [2:00:24<1:13:48, 233.06s/it]"
     ]
    },
    {
     "name": "stdout",
     "output_type": "stream",
     "text": [
      "mean 0.9384406853649411 std 0.03485954965911348\n",
      "mean 0.7677818735707389 std0.09386801594054356\n"
     ]
    },
    {
     "name": "stderr",
     "output_type": "stream",
     "text": [
      "\r",
      " 64%|██████▍   | 32/50 [2:05:51<1:10:47, 235.99s/it]"
     ]
    },
    {
     "name": "stdout",
     "output_type": "stream",
     "text": [
      "mean 0.9354057873561008 std 0.0443568563233177\n",
      "mean 0.7676967331130865 std0.09383940482929329\n"
     ]
    },
    {
     "name": "stderr",
     "output_type": "stream",
     "text": [
      "\r",
      " 66%|██████▌   | 33/50 [2:10:33<1:07:15, 237.37s/it]"
     ]
    },
    {
     "name": "stdout",
     "output_type": "stream",
     "text": [
      "mean 0.9476677506576884 std 0.008089349168276206\n",
      "mean 0.7673014951543664 std0.09370753714606299\n"
     ]
    },
    {
     "name": "stderr",
     "output_type": "stream",
     "text": [
      "\r",
      " 68%|██████▊   | 34/50 [2:14:16<1:03:11, 236.95s/it]"
     ]
    },
    {
     "name": "stdout",
     "output_type": "stream",
     "text": [
      "mean 0.9364859960514063 std 0.041036829083927626\n",
      "mean 0.7677946865476061 std0.09384509170171157\n"
     ]
    },
    {
     "name": "stderr",
     "output_type": "stream",
     "text": [
      "\r",
      " 70%|███████   | 35/50 [2:20:39<1:00:16, 241.12s/it]"
     ]
    },
    {
     "name": "stdout",
     "output_type": "stream",
     "text": [
      "mean 0.9444311641528398 std 0.017831267477740574\n",
      "mean 0.7677839175369481 std0.09387674899654569\n"
     ]
    },
    {
     "name": "stderr",
     "output_type": "stream",
     "text": [
      "\r",
      " 72%|███████▏  | 36/50 [2:25:11<56:27, 241.98s/it]  "
     ]
    },
    {
     "name": "stdout",
     "output_type": "stream",
     "text": [
      "mean 0.9350570577744106 std 0.04559686297389089\n",
      "mean 0.7670786450328924 std0.09364272575780402\n"
     ]
    },
    {
     "name": "stderr",
     "output_type": "stream",
     "text": [
      "\r",
      " 74%|███████▍  | 37/50 [2:30:41<52:56, 244.37s/it]"
     ]
    },
    {
     "name": "stdout",
     "output_type": "stream",
     "text": [
      "mean 0.8926399164724916 std 0.17092074279062758\n",
      "mean 0.7686740247027941 std0.09418745852392303\n"
     ]
    },
    {
     "name": "stderr",
     "output_type": "stream",
     "text": [
      "\r",
      " 76%|███████▌  | 38/50 [2:34:36<48:49, 244.12s/it]"
     ]
    },
    {
     "name": "stdout",
     "output_type": "stream",
     "text": [
      "mean 0.9478769011708715 std 0.007963746379854444\n",
      "mean 0.7674608688269868 std0.09376874839327112\n"
     ]
    },
    {
     "name": "stderr",
     "output_type": "stream",
     "text": [
      "\r",
      " 78%|███████▊  | 39/50 [2:39:16<44:55, 245.04s/it]"
     ]
    },
    {
     "name": "stdout",
     "output_type": "stream",
     "text": [
      "mean 0.9443647152112739 std 0.016736814909572066\n",
      "mean 0.7681994623679691 std0.09401510413901447\n"
     ]
    },
    {
     "name": "stderr",
     "output_type": "stream",
     "text": [
      "\r",
      " 80%|████████  | 40/50 [2:44:33<41:08, 246.85s/it]"
     ]
    },
    {
     "name": "stdout",
     "output_type": "stream",
     "text": [
      "mean 0.9353881238756602 std 0.042974259327750584\n",
      "mean 0.7686578929213982 std0.09414509682678664\n"
     ]
    },
    {
     "name": "stderr",
     "output_type": "stream",
     "text": [
      "\r",
      " 82%|████████▏ | 41/50 [2:50:08<37:20, 248.98s/it]"
     ]
    },
    {
     "name": "stdout",
     "output_type": "stream",
     "text": [
      "mean 0.8926399164724916 std 0.17092074279062758\n",
      "mean 0.7686740247027941 std0.09418745852392303\n"
     ]
    },
    {
     "name": "stderr",
     "output_type": "stream",
     "text": [
      "\r",
      " 84%|████████▍ | 42/50 [2:55:52<33:29, 251.24s/it]"
     ]
    },
    {
     "name": "stdout",
     "output_type": "stream",
     "text": [
      "mean 0.946058535092033 std 0.01115094677900363\n",
      "mean 0.7671852868875539 std0.09374227888111307\n"
     ]
    },
    {
     "name": "stderr",
     "output_type": "stream",
     "text": [
      "\r",
      " 86%|████████▌ | 43/50 [2:58:47<29:06, 249.47s/it]"
     ]
    },
    {
     "name": "stdout",
     "output_type": "stream",
     "text": [
      "mean 0.8928327530554705 std 0.17098115018360607\n",
      "mean 0.7684127983478871 std0.09413063840969835\n"
     ]
    },
    {
     "name": "stderr",
     "output_type": "stream",
     "text": [
      "\r",
      " 88%|████████▊ | 44/50 [3:02:05<24:49, 248.32s/it]"
     ]
    },
    {
     "name": "stdout",
     "output_type": "stream",
     "text": [
      "mean 0.9391506342991531 std 0.03409939987625554\n",
      "mean 0.7686089213143428 std0.09409751948805316\n"
     ]
    },
    {
     "name": "stderr",
     "output_type": "stream",
     "text": [
      "\r",
      " 90%|█████████ | 45/50 [3:04:19<20:28, 245.76s/it]"
     ]
    },
    {
     "name": "stdout",
     "output_type": "stream",
     "text": [
      "mean 0.9458065636191616 std 0.012828959386280954\n",
      "mean 0.7682902084863923 std0.09404978834807405\n"
     ]
    },
    {
     "name": "stderr",
     "output_type": "stream",
     "text": [
      "\r",
      " 92%|█████████▏| 46/50 [3:07:22<16:17, 244.40s/it]"
     ]
    },
    {
     "name": "stdout",
     "output_type": "stream",
     "text": [
      "mean 0.9375232178792986 std 0.03627608108042916\n",
      "mean 0.7681379022296964 std0.09401450423657098\n"
     ]
    },
    {
     "name": "stderr",
     "output_type": "stream",
     "text": [
      "\r",
      " 94%|█████████▍| 47/50 [3:10:35<12:09, 243.32s/it]"
     ]
    },
    {
     "name": "stdout",
     "output_type": "stream",
     "text": [
      "mean 0.942192020454003 std 0.023820439114099604\n",
      "mean 0.7679763840606194 std0.09391417670892528\n"
     ]
    },
    {
     "name": "stderr",
     "output_type": "stream",
     "text": [
      "\r",
      " 96%|█████████▌| 48/50 [3:13:33<08:03, 241.94s/it]"
     ]
    },
    {
     "name": "stdout",
     "output_type": "stream",
     "text": [
      "mean 0.9396376459563838 std 0.03177858982564365\n",
      "mean 0.7685714483761711 std0.09412138906027824\n"
     ]
    },
    {
     "name": "stderr",
     "output_type": "stream",
     "text": [
      "\r",
      " 98%|█████████▊| 49/50 [3:16:27<04:00, 240.56s/it]"
     ]
    },
    {
     "name": "stdout",
     "output_type": "stream",
     "text": [
      "mean 0.8961828710558823 std 0.1609966899653193\n",
      "mean 0.768348944720306 std0.09405614769383874\n"
     ]
    },
    {
     "name": "stderr",
     "output_type": "stream",
     "text": [
      "\r",
      "100%|██████████| 50/50 [3:19:24<00:00, 239.28s/it]"
     ]
    },
    {
     "name": "stdout",
     "output_type": "stream",
     "text": [
      "mean 0.8965589613208875 std 0.16112697081328753\n",
      "mean 0.7679052151066272 std0.09391258708529736\n"
     ]
    },
    {
     "name": "stderr",
     "output_type": "stream",
     "text": [
      "\n"
     ]
    }
   ],
   "source": [
    "from sklearn.model_selection import KFold, StratifiedKFold\n",
    "grid_scores = []\n",
    "for params in tqdm(grid_sample):\n",
    "    scores, estimators, test_prediction, f1_sco = fit_cv(estimator, params, train_x, test_x, train_y,0, n_splits=10)  \n",
    "    print('mean {} std {}'.format(np.mean(scores), np.std(scores)))\n",
    "    print('mean {} std{}'.format(np.mean(f1_sco), np.std(f1_sco)))\n",
    "    grid_scores.append((params, np.mean(scores), np.mean(f1_sco)))\n"
   ]
  },
  {
   "cell_type": "code",
   "execution_count": 63,
   "metadata": {},
   "outputs": [
    {
     "name": "stdout",
     "output_type": "stream",
     "text": [
      "({'num_leaves': 8, 'max_depth': 5, 'verbose': 1, 'num_threads': 4, 'feature_fraction': 0.4, 'min_child_weight': 1, 'learning_rate': 0.03, 'scale_pos_weight': 100, 'metric': 'binary_logloss', 'bagging_fraction': 0.8}, 0.9482217748942322, 0.7675839237236142)\n"
     ]
    }
   ],
   "source": [
    "    \n",
    "best_params = sorted(grid_scores, key= lambda x: x[1])[-1]\n",
    "print(best_params)"
   ]
  },
  {
   "cell_type": "code",
   "execution_count": 62,
   "metadata": {},
   "outputs": [
    {
     "data": {
      "text/plain": [
       "[({'bagging_fraction': 0.6,\n",
       "   'feature_fraction': 0.8,\n",
       "   'learning_rate': 0.05,\n",
       "   'max_depth': 5,\n",
       "   'metric': 'binary_logloss',\n",
       "   'min_child_weight': 7,\n",
       "   'num_leaves': 16,\n",
       "   'num_threads': 4,\n",
       "   'scale_pos_weight': 100,\n",
       "   'verbose': 1},\n",
       "  0.9355577547830819,\n",
       "  0.7676253212151011),\n",
       " ({'bagging_fraction': 0.6,\n",
       "   'feature_fraction': 0.8,\n",
       "   'learning_rate': 0.05,\n",
       "   'max_depth': 4,\n",
       "   'metric': 'binary_logloss',\n",
       "   'min_child_weight': 3,\n",
       "   'num_leaves': 15,\n",
       "   'num_threads': 4,\n",
       "   'scale_pos_weight': 100,\n",
       "   'verbose': 1},\n",
       "  0.934934523952405,\n",
       "  0.7677538036085533),\n",
       " ({'bagging_fraction': 0.6,\n",
       "   'feature_fraction': 0.6,\n",
       "   'learning_rate': 0.04,\n",
       "   'max_depth': 4,\n",
       "   'metric': 'binary_logloss',\n",
       "   'min_child_weight': 7,\n",
       "   'num_leaves': 12,\n",
       "   'num_threads': 4,\n",
       "   'scale_pos_weight': 100,\n",
       "   'verbose': 1},\n",
       "  0.939196269290916,\n",
       "  0.7677342044867732),\n",
       " ({'bagging_fraction': 0.6,\n",
       "   'feature_fraction': 0.8,\n",
       "   'learning_rate': 0.03,\n",
       "   'max_depth': 3,\n",
       "   'metric': 'binary_logloss',\n",
       "   'min_child_weight': 5,\n",
       "   'num_leaves': 24,\n",
       "   'num_threads': 4,\n",
       "   'scale_pos_weight': 100,\n",
       "   'verbose': 1},\n",
       "  0.9353881238756602,\n",
       "  0.7686578929213982),\n",
       " ({'bagging_fraction': 0.6,\n",
       "   'feature_fraction': 0.4,\n",
       "   'learning_rate': 0.03,\n",
       "   'max_depth': 5,\n",
       "   'metric': 'binary_logloss',\n",
       "   'min_child_weight': 3,\n",
       "   'num_leaves': 12,\n",
       "   'num_threads': 4,\n",
       "   'scale_pos_weight': 100,\n",
       "   'verbose': 1},\n",
       "  0.9461666286613413,\n",
       "  0.7677598766553543),\n",
       " ({'bagging_fraction': 1.0,\n",
       "   'feature_fraction': 0.6,\n",
       "   'learning_rate': 0.05,\n",
       "   'max_depth': 5,\n",
       "   'metric': 'binary_logloss',\n",
       "   'min_child_weight': 3,\n",
       "   'num_leaves': 12,\n",
       "   'num_threads': 4,\n",
       "   'scale_pos_weight': 100,\n",
       "   'verbose': 1},\n",
       "  0.9447339169797262,\n",
       "  0.7679576755642225),\n",
       " ({'bagging_fraction': 0.8,\n",
       "   'feature_fraction': 1.0,\n",
       "   'learning_rate': 0.04,\n",
       "   'max_depth': 3,\n",
       "   'metric': 'binary_logloss',\n",
       "   'min_child_weight': 5,\n",
       "   'num_leaves': 8,\n",
       "   'num_threads': 4,\n",
       "   'scale_pos_weight': 100,\n",
       "   'verbose': 1},\n",
       "  0.8928327530554705,\n",
       "  0.7684127983478871),\n",
       " ({'bagging_fraction': 0.6,\n",
       "   'feature_fraction': 0.8,\n",
       "   'learning_rate': 0.05,\n",
       "   'max_depth': 4,\n",
       "   'metric': 'binary_logloss',\n",
       "   'min_child_weight': 3,\n",
       "   'num_leaves': 24,\n",
       "   'num_threads': 4,\n",
       "   'scale_pos_weight': 100,\n",
       "   'verbose': 1},\n",
       "  0.9375032882281467,\n",
       "  0.7678132108193781),\n",
       " ({'bagging_fraction': 1.0,\n",
       "   'feature_fraction': 0.4,\n",
       "   'learning_rate': 0.04,\n",
       "   'max_depth': 5,\n",
       "   'metric': 'binary_logloss',\n",
       "   'min_child_weight': 3,\n",
       "   'num_leaves': 15,\n",
       "   'num_threads': 4,\n",
       "   'scale_pos_weight': 100,\n",
       "   'verbose': 1},\n",
       "  0.9395780568347736,\n",
       "  0.7692301599904623),\n",
       " ({'bagging_fraction': 1.0,\n",
       "   'feature_fraction': 1.0,\n",
       "   'learning_rate': 0.05,\n",
       "   'max_depth': 3,\n",
       "   'metric': 'binary_logloss',\n",
       "   'min_child_weight': 7,\n",
       "   'num_leaves': 16,\n",
       "   'num_threads': 4,\n",
       "   'scale_pos_weight': 100,\n",
       "   'verbose': 1},\n",
       "  0.892493432102275,\n",
       "  0.768595483728457),\n",
       " ({'bagging_fraction': 1.0,\n",
       "   'feature_fraction': 0.6,\n",
       "   'learning_rate': 0.03,\n",
       "   'max_depth': 6,\n",
       "   'metric': 'binary_logloss',\n",
       "   'min_child_weight': 7,\n",
       "   'num_leaves': 15,\n",
       "   'num_threads': 4,\n",
       "   'scale_pos_weight': 100,\n",
       "   'verbose': 1},\n",
       "  0.947739114880054,\n",
       "  0.7679763876470201),\n",
       " ({'bagging_fraction': 0.8,\n",
       "   'feature_fraction': 0.4,\n",
       "   'learning_rate': 0.05,\n",
       "   'max_depth': 4,\n",
       "   'metric': 'binary_logloss',\n",
       "   'min_child_weight': 5,\n",
       "   'num_leaves': 8,\n",
       "   'num_threads': 4,\n",
       "   'scale_pos_weight': 100,\n",
       "   'verbose': 1},\n",
       "  0.9442227898952605,\n",
       "  0.7685785881690774),\n",
       " ({'bagging_fraction': 0.6,\n",
       "   'feature_fraction': 0.6,\n",
       "   'learning_rate': 0.04,\n",
       "   'max_depth': 6,\n",
       "   'metric': 'binary_logloss',\n",
       "   'min_child_weight': 5,\n",
       "   'num_leaves': 24,\n",
       "   'num_threads': 4,\n",
       "   'scale_pos_weight': 100,\n",
       "   'verbose': 1},\n",
       "  0.9391659524145822,\n",
       "  0.7676368820019841),\n",
       " ({'bagging_fraction': 0.8,\n",
       "   'feature_fraction': 0.6,\n",
       "   'learning_rate': 0.05,\n",
       "   'max_depth': 6,\n",
       "   'metric': 'binary_logloss',\n",
       "   'min_child_weight': 5,\n",
       "   'num_leaves': 12,\n",
       "   'num_threads': 4,\n",
       "   'scale_pos_weight': 100,\n",
       "   'verbose': 1},\n",
       "  0.944689988434134,\n",
       "  0.7676089571303859),\n",
       " ({'bagging_fraction': 1.0,\n",
       "   'feature_fraction': 0.6,\n",
       "   'learning_rate': 0.05,\n",
       "   'max_depth': 6,\n",
       "   'metric': 'binary_logloss',\n",
       "   'min_child_weight': 7,\n",
       "   'num_leaves': 12,\n",
       "   'num_threads': 4,\n",
       "   'scale_pos_weight': 100,\n",
       "   'verbose': 1},\n",
       "  0.944689988434134,\n",
       "  0.7676089571303859),\n",
       " ({'bagging_fraction': 0.6,\n",
       "   'feature_fraction': 1.0,\n",
       "   'learning_rate': 0.05,\n",
       "   'max_depth': 4,\n",
       "   'metric': 'binary_logloss',\n",
       "   'min_child_weight': 3,\n",
       "   'num_leaves': 15,\n",
       "   'num_threads': 4,\n",
       "   'scale_pos_weight': 100,\n",
       "   'verbose': 1},\n",
       "  0.8960360921775177,\n",
       "  0.7678656815740214),\n",
       " ({'bagging_fraction': 0.8,\n",
       "   'feature_fraction': 0.4,\n",
       "   'learning_rate': 0.03,\n",
       "   'max_depth': 5,\n",
       "   'metric': 'binary_logloss',\n",
       "   'min_child_weight': 1,\n",
       "   'num_leaves': 8,\n",
       "   'num_threads': 4,\n",
       "   'scale_pos_weight': 100,\n",
       "   'verbose': 1},\n",
       "  0.9482217748942322,\n",
       "  0.7675839237236142),\n",
       " ({'bagging_fraction': 1.0,\n",
       "   'feature_fraction': 0.4,\n",
       "   'learning_rate': 0.04,\n",
       "   'max_depth': 3,\n",
       "   'metric': 'binary_logloss',\n",
       "   'min_child_weight': 3,\n",
       "   'num_leaves': 8,\n",
       "   'num_threads': 4,\n",
       "   'scale_pos_weight': 100,\n",
       "   'verbose': 1},\n",
       "  0.9459129337111853,\n",
       "  0.7682148774708747),\n",
       " ({'bagging_fraction': 1.0,\n",
       "   'feature_fraction': 0.4,\n",
       "   'learning_rate': 0.05,\n",
       "   'max_depth': 3,\n",
       "   'metric': 'binary_logloss',\n",
       "   'min_child_weight': 7,\n",
       "   'num_leaves': 8,\n",
       "   'num_threads': 4,\n",
       "   'scale_pos_weight': 100,\n",
       "   'verbose': 1},\n",
       "  0.9364458748216459,\n",
       "  0.767735129253315),\n",
       " ({'bagging_fraction': 0.8,\n",
       "   'feature_fraction': 0.8,\n",
       "   'learning_rate': 0.03,\n",
       "   'max_depth': 5,\n",
       "   'metric': 'binary_logloss',\n",
       "   'min_child_weight': 1,\n",
       "   'num_leaves': 12,\n",
       "   'num_threads': 4,\n",
       "   'scale_pos_weight': 100,\n",
       "   'verbose': 1},\n",
       "  0.9366121677006175,\n",
       "  0.768309969547561),\n",
       " ({'bagging_fraction': 1.0,\n",
       "   'feature_fraction': 0.6,\n",
       "   'learning_rate': 0.04,\n",
       "   'max_depth': 6,\n",
       "   'metric': 'binary_logloss',\n",
       "   'min_child_weight': 7,\n",
       "   'num_leaves': 15,\n",
       "   'num_threads': 4,\n",
       "   'scale_pos_weight': 100,\n",
       "   'verbose': 1},\n",
       "  0.9476677506576884,\n",
       "  0.7673014951543664),\n",
       " ({'bagging_fraction': 1.0,\n",
       "   'feature_fraction': 0.4,\n",
       "   'learning_rate': 0.03,\n",
       "   'max_depth': 3,\n",
       "   'metric': 'binary_logloss',\n",
       "   'min_child_weight': 1,\n",
       "   'num_leaves': 15,\n",
       "   'num_threads': 4,\n",
       "   'scale_pos_weight': 100,\n",
       "   'verbose': 1},\n",
       "  0.946058535092033,\n",
       "  0.7671852868875539),\n",
       " ({'bagging_fraction': 1.0,\n",
       "   'feature_fraction': 0.8,\n",
       "   'learning_rate': 0.05,\n",
       "   'max_depth': 5,\n",
       "   'metric': 'binary_logloss',\n",
       "   'min_child_weight': 3,\n",
       "   'num_leaves': 12,\n",
       "   'num_threads': 4,\n",
       "   'scale_pos_weight': 100,\n",
       "   'verbose': 1},\n",
       "  0.9364859960514063,\n",
       "  0.7677946865476061),\n",
       " ({'bagging_fraction': 0.8,\n",
       "   'feature_fraction': 1.0,\n",
       "   'learning_rate': 0.03,\n",
       "   'max_depth': 3,\n",
       "   'metric': 'binary_logloss',\n",
       "   'min_child_weight': 1,\n",
       "   'num_leaves': 15,\n",
       "   'num_threads': 4,\n",
       "   'scale_pos_weight': 100,\n",
       "   'verbose': 1},\n",
       "  0.8926399164724916,\n",
       "  0.7686740247027941),\n",
       " ({'bagging_fraction': 0.8,\n",
       "   'feature_fraction': 0.6,\n",
       "   'learning_rate': 0.05,\n",
       "   'max_depth': 4,\n",
       "   'metric': 'binary_logloss',\n",
       "   'min_child_weight': 7,\n",
       "   'num_leaves': 15,\n",
       "   'num_threads': 4,\n",
       "   'scale_pos_weight': 100,\n",
       "   'verbose': 1},\n",
       "  0.9384406853649411,\n",
       "  0.7677818735707389),\n",
       " ({'bagging_fraction': 0.6,\n",
       "   'feature_fraction': 0.6,\n",
       "   'learning_rate': 0.05,\n",
       "   'max_depth': 6,\n",
       "   'metric': 'binary_logloss',\n",
       "   'min_child_weight': 7,\n",
       "   'num_leaves': 16,\n",
       "   'num_threads': 4,\n",
       "   'scale_pos_weight': 100,\n",
       "   'verbose': 1},\n",
       "  0.9393041862582854,\n",
       "  0.7682698131064952),\n",
       " ({'bagging_fraction': 1.0,\n",
       "   'feature_fraction': 0.4,\n",
       "   'learning_rate': 0.04,\n",
       "   'max_depth': 5,\n",
       "   'metric': 'binary_logloss',\n",
       "   'min_child_weight': 7,\n",
       "   'num_leaves': 16,\n",
       "   'num_threads': 4,\n",
       "   'scale_pos_weight': 100,\n",
       "   'verbose': 1},\n",
       "  0.9379534536765147,\n",
       "  0.7687892860704686),\n",
       " ({'bagging_fraction': 0.6,\n",
       "   'feature_fraction': 0.4,\n",
       "   'learning_rate': 0.04,\n",
       "   'max_depth': 5,\n",
       "   'metric': 'binary_logloss',\n",
       "   'min_child_weight': 1,\n",
       "   'num_leaves': 12,\n",
       "   'num_threads': 4,\n",
       "   'scale_pos_weight': 100,\n",
       "   'verbose': 1},\n",
       "  0.9478077600829005,\n",
       "  0.7682483070956154),\n",
       " ({'bagging_fraction': 0.6,\n",
       "   'feature_fraction': 0.4,\n",
       "   'learning_rate': 0.04,\n",
       "   'max_depth': 6,\n",
       "   'metric': 'binary_logloss',\n",
       "   'min_child_weight': 5,\n",
       "   'num_leaves': 8,\n",
       "   'num_threads': 4,\n",
       "   'scale_pos_weight': 100,\n",
       "   'verbose': 1},\n",
       "  0.9481514247248753,\n",
       "  0.7683445703951726),\n",
       " ({'bagging_fraction': 1.0,\n",
       "   'feature_fraction': 1.0,\n",
       "   'learning_rate': 0.05,\n",
       "   'max_depth': 6,\n",
       "   'metric': 'binary_logloss',\n",
       "   'min_child_weight': 7,\n",
       "   'num_leaves': 24,\n",
       "   'num_threads': 4,\n",
       "   'scale_pos_weight': 100,\n",
       "   'verbose': 1},\n",
       "  0.8969401853999555,\n",
       "  0.7683826346126241),\n",
       " ({'bagging_fraction': 0.6,\n",
       "   'feature_fraction': 0.6,\n",
       "   'learning_rate': 0.05,\n",
       "   'max_depth': 4,\n",
       "   'metric': 'binary_logloss',\n",
       "   'min_child_weight': 7,\n",
       "   'num_leaves': 15,\n",
       "   'num_threads': 4,\n",
       "   'scale_pos_weight': 100,\n",
       "   'verbose': 1},\n",
       "  0.9384406853649411,\n",
       "  0.7677818735707389),\n",
       " ({'bagging_fraction': 0.6,\n",
       "   'feature_fraction': 0.8,\n",
       "   'learning_rate': 0.03,\n",
       "   'max_depth': 5,\n",
       "   'metric': 'binary_logloss',\n",
       "   'min_child_weight': 5,\n",
       "   'num_leaves': 16,\n",
       "   'num_threads': 4,\n",
       "   'scale_pos_weight': 100,\n",
       "   'verbose': 1},\n",
       "  0.9354057873561008,\n",
       "  0.7676967331130865),\n",
       " ({'bagging_fraction': 1.0,\n",
       "   'feature_fraction': 0.6,\n",
       "   'learning_rate': 0.04,\n",
       "   'max_depth': 6,\n",
       "   'metric': 'binary_logloss',\n",
       "   'min_child_weight': 5,\n",
       "   'num_leaves': 15,\n",
       "   'num_threads': 4,\n",
       "   'scale_pos_weight': 100,\n",
       "   'verbose': 1},\n",
       "  0.9476677506576884,\n",
       "  0.7673014951543664),\n",
       " ({'bagging_fraction': 0.8,\n",
       "   'feature_fraction': 0.8,\n",
       "   'learning_rate': 0.05,\n",
       "   'max_depth': 5,\n",
       "   'metric': 'binary_logloss',\n",
       "   'min_child_weight': 5,\n",
       "   'num_leaves': 12,\n",
       "   'num_threads': 4,\n",
       "   'scale_pos_weight': 100,\n",
       "   'verbose': 1},\n",
       "  0.9364859960514063,\n",
       "  0.7677946865476061),\n",
       " ({'bagging_fraction': 0.8,\n",
       "   'feature_fraction': 0.4,\n",
       "   'learning_rate': 0.03,\n",
       "   'max_depth': 4,\n",
       "   'metric': 'binary_logloss',\n",
       "   'min_child_weight': 3,\n",
       "   'num_leaves': 16,\n",
       "   'num_threads': 4,\n",
       "   'scale_pos_weight': 100,\n",
       "   'verbose': 1},\n",
       "  0.9444311641528398,\n",
       "  0.7677839175369481),\n",
       " ({'bagging_fraction': 0.8,\n",
       "   'feature_fraction': 0.8,\n",
       "   'learning_rate': 0.05,\n",
       "   'max_depth': 5,\n",
       "   'metric': 'binary_logloss',\n",
       "   'min_child_weight': 1,\n",
       "   'num_leaves': 24,\n",
       "   'num_threads': 4,\n",
       "   'scale_pos_weight': 100,\n",
       "   'verbose': 1},\n",
       "  0.9350570577744106,\n",
       "  0.7670786450328924),\n",
       " ({'bagging_fraction': 0.8,\n",
       "   'feature_fraction': 1.0,\n",
       "   'learning_rate': 0.03,\n",
       "   'max_depth': 3,\n",
       "   'metric': 'binary_logloss',\n",
       "   'min_child_weight': 1,\n",
       "   'num_leaves': 24,\n",
       "   'num_threads': 4,\n",
       "   'scale_pos_weight': 100,\n",
       "   'verbose': 1},\n",
       "  0.8926399164724916,\n",
       "  0.7686740247027941),\n",
       " ({'bagging_fraction': 0.6,\n",
       "   'feature_fraction': 0.6,\n",
       "   'learning_rate': 0.05,\n",
       "   'max_depth': 6,\n",
       "   'metric': 'binary_logloss',\n",
       "   'min_child_weight': 5,\n",
       "   'num_leaves': 15,\n",
       "   'num_threads': 4,\n",
       "   'scale_pos_weight': 100,\n",
       "   'verbose': 1},\n",
       "  0.9478769011708715,\n",
       "  0.7674608688269868),\n",
       " ({'bagging_fraction': 0.8,\n",
       "   'feature_fraction': 0.4,\n",
       "   'learning_rate': 0.05,\n",
       "   'max_depth': 6,\n",
       "   'metric': 'binary_logloss',\n",
       "   'min_child_weight': 5,\n",
       "   'num_leaves': 8,\n",
       "   'num_threads': 4,\n",
       "   'scale_pos_weight': 100,\n",
       "   'verbose': 1},\n",
       "  0.9443647152112739,\n",
       "  0.7681994623679691),\n",
       " ({'bagging_fraction': 0.8,\n",
       "   'feature_fraction': 0.8,\n",
       "   'learning_rate': 0.03,\n",
       "   'max_depth': 3,\n",
       "   'metric': 'binary_logloss',\n",
       "   'min_child_weight': 7,\n",
       "   'num_leaves': 12,\n",
       "   'num_threads': 4,\n",
       "   'scale_pos_weight': 100,\n",
       "   'verbose': 1},\n",
       "  0.9353881238756602,\n",
       "  0.7686578929213982),\n",
       " ({'bagging_fraction': 0.6,\n",
       "   'feature_fraction': 1.0,\n",
       "   'learning_rate': 0.03,\n",
       "   'max_depth': 3,\n",
       "   'metric': 'binary_logloss',\n",
       "   'min_child_weight': 7,\n",
       "   'num_leaves': 12,\n",
       "   'num_threads': 4,\n",
       "   'scale_pos_weight': 100,\n",
       "   'verbose': 1},\n",
       "  0.8926399164724916,\n",
       "  0.7686740247027941),\n",
       " ({'bagging_fraction': 0.8,\n",
       "   'feature_fraction': 0.4,\n",
       "   'learning_rate': 0.03,\n",
       "   'max_depth': 3,\n",
       "   'metric': 'binary_logloss',\n",
       "   'min_child_weight': 7,\n",
       "   'num_leaves': 24,\n",
       "   'num_threads': 4,\n",
       "   'scale_pos_weight': 100,\n",
       "   'verbose': 1},\n",
       "  0.946058535092033,\n",
       "  0.7671852868875539),\n",
       " ({'bagging_fraction': 1.0,\n",
       "   'feature_fraction': 1.0,\n",
       "   'learning_rate': 0.04,\n",
       "   'max_depth': 3,\n",
       "   'metric': 'binary_logloss',\n",
       "   'min_child_weight': 5,\n",
       "   'num_leaves': 24,\n",
       "   'num_threads': 4,\n",
       "   'scale_pos_weight': 100,\n",
       "   'verbose': 1},\n",
       "  0.8928327530554705,\n",
       "  0.7684127983478871),\n",
       " ({'bagging_fraction': 0.8,\n",
       "   'feature_fraction': 0.6,\n",
       "   'learning_rate': 0.03,\n",
       "   'max_depth': 5,\n",
       "   'metric': 'binary_logloss',\n",
       "   'min_child_weight': 1,\n",
       "   'num_leaves': 16,\n",
       "   'num_threads': 4,\n",
       "   'scale_pos_weight': 100,\n",
       "   'verbose': 1},\n",
       "  0.9391506342991531,\n",
       "  0.7686089213143428),\n",
       " ({'bagging_fraction': 1.0,\n",
       "   'feature_fraction': 0.8,\n",
       "   'learning_rate': 0.05,\n",
       "   'max_depth': 4,\n",
       "   'metric': 'binary_logloss',\n",
       "   'min_child_weight': 7,\n",
       "   'num_leaves': 8,\n",
       "   'num_threads': 4,\n",
       "   'scale_pos_weight': 100,\n",
       "   'verbose': 1},\n",
       "  0.9458065636191616,\n",
       "  0.7682902084863923),\n",
       " ({'bagging_fraction': 0.6,\n",
       "   'feature_fraction': 0.6,\n",
       "   'learning_rate': 0.03,\n",
       "   'max_depth': 3,\n",
       "   'metric': 'binary_logloss',\n",
       "   'min_child_weight': 7,\n",
       "   'num_leaves': 15,\n",
       "   'num_threads': 4,\n",
       "   'scale_pos_weight': 100,\n",
       "   'verbose': 1},\n",
       "  0.9375232178792986,\n",
       "  0.7681379022296964),\n",
       " ({'bagging_fraction': 1.0,\n",
       "   'feature_fraction': 0.6,\n",
       "   'learning_rate': 0.03,\n",
       "   'max_depth': 4,\n",
       "   'metric': 'binary_logloss',\n",
       "   'min_child_weight': 7,\n",
       "   'num_leaves': 24,\n",
       "   'num_threads': 4,\n",
       "   'scale_pos_weight': 100,\n",
       "   'verbose': 1},\n",
       "  0.942192020454003,\n",
       "  0.7679763840606194),\n",
       " ({'bagging_fraction': 1.0,\n",
       "   'feature_fraction': 0.4,\n",
       "   'learning_rate': 0.04,\n",
       "   'max_depth': 6,\n",
       "   'metric': 'binary_logloss',\n",
       "   'min_child_weight': 3,\n",
       "   'num_leaves': 16,\n",
       "   'num_threads': 4,\n",
       "   'scale_pos_weight': 100,\n",
       "   'verbose': 1},\n",
       "  0.9396376459563838,\n",
       "  0.7685714483761711),\n",
       " ({'bagging_fraction': 0.6,\n",
       "   'feature_fraction': 1.0,\n",
       "   'learning_rate': 0.04,\n",
       "   'max_depth': 5,\n",
       "   'metric': 'binary_logloss',\n",
       "   'min_child_weight': 3,\n",
       "   'num_leaves': 16,\n",
       "   'num_threads': 4,\n",
       "   'scale_pos_weight': 100,\n",
       "   'verbose': 1},\n",
       "  0.8961828710558823,\n",
       "  0.768348944720306),\n",
       " ({'bagging_fraction': 0.8,\n",
       "   'feature_fraction': 1.0,\n",
       "   'learning_rate': 0.04,\n",
       "   'max_depth': 6,\n",
       "   'metric': 'binary_logloss',\n",
       "   'min_child_weight': 7,\n",
       "   'num_leaves': 16,\n",
       "   'num_threads': 4,\n",
       "   'scale_pos_weight': 100,\n",
       "   'verbose': 1},\n",
       "  0.8965589613208875,\n",
       "  0.7679052151066272)]"
      ]
     },
     "execution_count": 62,
     "metadata": {},
     "output_type": "execute_result"
    }
   ],
   "source": [
    "grid_scores"
   ]
  },
  {
   "cell_type": "code",
   "execution_count": null,
   "metadata": {},
   "outputs": [],
   "source": []
  }
 ],
 "metadata": {
  "kernelspec": {
   "display_name": "Python 3",
   "language": "python",
   "name": "python3"
  },
  "language_info": {
   "codemirror_mode": {
    "name": "ipython",
    "version": 3
   },
   "file_extension": ".py",
   "mimetype": "text/x-python",
   "name": "python",
   "nbconvert_exporter": "python",
   "pygments_lexer": "ipython3",
   "version": "3.5.2"
  }
 },
 "nbformat": 4,
 "nbformat_minor": 2
}

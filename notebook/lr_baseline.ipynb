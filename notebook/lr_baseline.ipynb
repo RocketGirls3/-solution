{
 "cells": [
  {
   "cell_type": "code",
   "execution_count": 1,
   "metadata": {},
   "outputs": [
    {
     "name": "stderr",
     "output_type": "stream",
     "text": [
      "/usr/local/lib/python3.5/dist-packages/h5py/__init__.py:36: FutureWarning: Conversion of the second argument of issubdtype from `float` to `np.floating` is deprecated. In future, it will be treated as `np.float64 == np.dtype(float).type`.\n",
      "  from ._conv import register_converters as _register_converters\n",
      "Using TensorFlow backend.\n"
     ]
    }
   ],
   "source": [
    "import pandas as pd, numpy as np\n",
    "from sklearn.linear_model import LogisticRegression\n",
    "from sklearn.feature_extraction.text import CountVectorizer, TfidfVectorizer\n",
    "import time\n",
    "from sklearn.model_selection import train_test_split\n",
    "from sklearn.metrics import f1_score\n",
    "from sklearn.decomposition import TruncatedSVD\n",
    "from scipy.sparse import csr_matrix, hstack\n",
    "from keras.utils import np_utils\n",
    "from sklearn.model_selection import KFold\n",
    "import pickle"
   ]
  },
  {
   "cell_type": "code",
   "execution_count": 2,
   "metadata": {},
   "outputs": [],
   "source": [
    "k_fold = False\n",
    "if k_fold:\n",
    "    pro_output = '../10fold_pro/10foldprob_lr_baseline.csv'\n",
    "else:\n",
    "    pro_output = '../pro/prob_lr_baseline2.csv'\n",
    "output = '../output/prob_lr_baseline2.csv'\n",
    "modify_tifi = False\n",
    "tifi_dir = '../feature/tifi_min4.pkl'"
   ]
  },
  {
   "cell_type": "code",
   "execution_count": 3,
   "metadata": {},
   "outputs": [],
   "source": [
    "t1=time.time()\n",
    "train = pd.read_csv('../input/new_data/train_set.csv')\n",
    "test = pd.read_csv('../input/new_data/test_set.csv')\n",
    "test_id = pd.read_csv('../input/new_data/test_set.csv')[[\"id\"]].copy()"
   ]
  },
  {
   "cell_type": "code",
   "execution_count": 4,
   "metadata": {},
   "outputs": [
    {
     "name": "stderr",
     "output_type": "stream",
     "text": [
      "/usr/local/lib/python3.5/dist-packages/pandas/core/computation/check.py:17: UserWarning: The installed version of numexpr 2.4.3 is not supported in pandas and will be not be used\n",
      "The minimum supported version is 2.4.6\n",
      "\n",
      "  ver=ver, min_ver=_MIN_NUMEXPR_VERSION), UserWarning)\n"
     ]
    }
   ],
   "source": [
    "y=(train[\"class\"]-1).astype(int)"
   ]
  },
  {
   "cell_type": "code",
   "execution_count": 5,
   "metadata": {},
   "outputs": [],
   "source": [
    "if modify_tifi:\n",
    "    column=\"word_seg\"\n",
    "    vec = TfidfVectorizer(ngram_range=(1,2),min_df=4, max_df=0.9,use_idf=1,smooth_idf=1, sublinear_tf=1)\n",
    "    trn_term_doc = vec.fit_transform(train[column])\n",
    "    test_term_doc = vec.transform(test[column])\n",
    "    with open(tifi_dir,'wb') as fout:\n",
    "        pickle.dump([trn_term_doc,test_term_doc],fout)\n",
    "else:\n",
    "     trn_term_doc, test_term_doc= pickle.load(open(tifi_dir,'rb'))"
   ]
  },
  {
   "cell_type": "code",
   "execution_count": null,
   "metadata": {},
   "outputs": [],
   "source": []
  },
  {
   "cell_type": "code",
   "execution_count": 6,
   "metadata": {},
   "outputs": [],
   "source": [
    "def kf_train(fold_cnt=3,rnd=1):\n",
    "    now_nfold=0\n",
    "    kf = KFold(n_splits=fold_cnt, shuffle=False, random_state=233*rnd)\n",
    "    train_pred, test_pred = np.zeros((102277,19)),np.zeros((102277,19))\n",
    "    for train_index, test_index in kf.split(train):\n",
    "        now_nfold+=1\n",
    "        print (\"now is {} fold\".format(now_nfold))\n",
    "        curr_x1 = trn_term_doc[train_index]\n",
    "        hold_out_x1=trn_term_doc[test_index]\n",
    "        \n",
    "        curr_y, hold_out_y = y[train_index], y[test_index]\n",
    "        clf = LogisticRegression(C=4, dual=True)\n",
    "        clf.fit(curr_x1, curr_y)\n",
    "        y_test = clf.predict_proba(test_term_doc)\n",
    "        test_pred += y_test\n",
    "        hold_out_pred = clf.predict_proba(hold_out_x1)\n",
    "        train_pred[test_index] = hold_out_pred\n",
    "    test_pred = test_pred / fold_cnt\n",
    "    return train_pred, test_pred"
   ]
  },
  {
   "cell_type": "code",
   "execution_count": 7,
   "metadata": {},
   "outputs": [
    {
     "name": "stdout",
     "output_type": "stream",
     "text": [
      "start\n",
      "CPU times: user 5min 49s, sys: 356 ms, total: 5min 49s\n",
      "Wall time: 5min 49s\n"
     ]
    }
   ],
   "source": [
    "%%time\n",
    "import time\n",
    "import pickle\n",
    "model_time = time.time()\n",
    "print(\"start\")\n",
    "if k_fold:\n",
    "    train_pred,test_pred = kf_train(fold_cnt=10,rnd=4)\n",
    "    print (train_pred.shape,test_pred.shape)\n",
    "    print (\"[{}] finished nn model\".format((time.time()-model_time)/3600))\n",
    "    val_result = np.argmax(train_pred,axis=1)\n",
    "    print ('score is {}'.format(f1_score(y, val_result, average='macro')))\n",
    "else:\n",
    "#     X_train, X_valid, Y_train, Y_valid = train_test_split(trn_term_doc, y, test_size=0.15, random_state=42)\n",
    "    clf = LogisticRegression(C=4, dual=True)\n",
    "    clf.fit(trn_term_doc, y)\n",
    "#     vaild = clf.predict_proba(X_valid)\n",
    "#     val_result = np.argmax(vaild,axis=1)\n",
    "#     print ('score is {}'.format(f1_score(Y_valid, val_result, average='macro')))\n",
    "    test_pred = clf.predict_proba(test_term_doc)"
   ]
  },
  {
   "cell_type": "code",
   "execution_count": 8,
   "metadata": {},
   "outputs": [],
   "source": [
    "train_pred = clf.predict_proba(trn_term_doc)"
   ]
  },
  {
   "cell_type": "code",
   "execution_count": 9,
   "metadata": {},
   "outputs": [],
   "source": [
    "with open('../feature/stackint_pkl_file/lr.pkl','wb') as fout:\n",
    "    pickle.dump([train_pred,test_pred],fout)"
   ]
  },
  {
   "cell_type": "code",
   "execution_count": 10,
   "metadata": {},
   "outputs": [],
   "source": [
    "test_prob=pd.DataFrame(test_pred)\n",
    "test_prob.columns=[\"class_prob_%s\"%i for i in range(1,20)]\n",
    "test_prob[\"id\"]=list(test_id[\"id\"])\n",
    "test_prob.to_csv(pro_output,index=None)"
   ]
  },
  {
   "cell_type": "code",
   "execution_count": 9,
   "metadata": {},
   "outputs": [
    {
     "name": "stdout",
     "output_type": "stream",
     "text": [
      "(102277, 1)\n",
      "(102277, 1)\n",
      "time use: 3140.9321308135986\n"
     ]
    }
   ],
   "source": [
    "preds=np.argmax(test_pred,axis=1)\n",
    "test_pred=pd.DataFrame(preds)\n",
    "test_pred.columns=[\"class\"]\n",
    "test_pred[\"class\"]=(test_pred[\"class\"]+1).astype(int)\n",
    "print(test_pred.shape)\n",
    "print(test_id.shape)\n",
    "test_pred[\"id\"]=list(test_id[\"id\"])\n",
    "test_pred[[\"id\",\"class\"]].to_csv(output,index=None)\n",
    "t2=time.time()\n",
    "print(\"time use:\",t2-t1)"
   ]
  },
  {
   "cell_type": "code",
   "execution_count": null,
   "metadata": {},
   "outputs": [],
   "source": []
  },
  {
   "cell_type": "code",
   "execution_count": null,
   "metadata": {},
   "outputs": [],
   "source": []
  },
  {
   "cell_type": "code",
   "execution_count": null,
   "metadata": {},
   "outputs": [],
   "source": []
  },
  {
   "cell_type": "code",
   "execution_count": null,
   "metadata": {},
   "outputs": [],
   "source": []
  },
  {
   "cell_type": "code",
   "execution_count": null,
   "metadata": {},
   "outputs": [],
   "source": []
  },
  {
   "cell_type": "code",
   "execution_count": null,
   "metadata": {},
   "outputs": [],
   "source": []
  },
  {
   "cell_type": "code",
   "execution_count": null,
   "metadata": {},
   "outputs": [],
   "source": []
  },
  {
   "cell_type": "code",
   "execution_count": null,
   "metadata": {},
   "outputs": [],
   "source": []
  },
  {
   "cell_type": "code",
   "execution_count": null,
   "metadata": {},
   "outputs": [],
   "source": []
  },
  {
   "cell_type": "code",
   "execution_count": null,
   "metadata": {},
   "outputs": [],
   "source": []
  },
  {
   "cell_type": "code",
   "execution_count": null,
   "metadata": {},
   "outputs": [],
   "source": []
  },
  {
   "cell_type": "code",
   "execution_count": null,
   "metadata": {},
   "outputs": [],
   "source": []
  },
  {
   "cell_type": "code",
   "execution_count": null,
   "metadata": {},
   "outputs": [],
   "source": []
  }
 ],
 "metadata": {
  "kernelspec": {
   "display_name": "Python 3",
   "language": "python",
   "name": "python3"
  },
  "language_info": {
   "codemirror_mode": {
    "name": "ipython",
    "version": 3
   },
   "file_extension": ".py",
   "mimetype": "text/x-python",
   "name": "python",
   "nbconvert_exporter": "python",
   "pygments_lexer": "ipython3",
   "version": "3.6.5"
  }
 },
 "nbformat": 4,
 "nbformat_minor": 2
}

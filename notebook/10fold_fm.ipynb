{
 "cells": [
  {
   "cell_type": "code",
   "execution_count": 1,
   "metadata": {},
   "outputs": [
    {
     "name": "stderr",
     "output_type": "stream",
     "text": [
      "/usr/local/lib/python3.5/dist-packages/randomstate-1.14.0-py3.5-linux-x86_64.egg/randomstate/__init__.py:66: RandomStateDeprecationWarning: \n",
      "**End-of-life notification**\n",
      "\n",
      "This library was designed to bring alternative generators to the NumPy \n",
      "infrastructure. It as been successful in advancing the conversation \n",
      "for a future implementation of a new random number API in NumPy which \n",
      "will allow new algorithms and/or generators. The next step\n",
      "in this process is to separate the basic (or core RNG) from the \n",
      "functions that transform random bits into useful random numbers.\n",
      "This has been implemented in a successor project  **randomgen** \n",
      "available on GitHub\n",
      "\n",
      "https://github.com/bashtage/randomgen\n",
      "\n",
      "or PyPi\n",
      "\n",
      "https://pypi.org/project/randomstate/.\n",
      "\n",
      "randomgen has a slightly different API, so please see the randomgen documentation\n",
      "\n",
      "https://bashtage.github.io/randomgen.\n",
      "\n",
      "  warnings.warn(DEPRECATION_MESSAGE, RandomStateDeprecationWarning)\n"
     ]
    }
   ],
   "source": [
    "import pandas as pd, numpy as np\n",
    "from sklearn.feature_extraction.text import CountVectorizer, TfidfVectorizer\n",
    "from sklearn.feature_extraction.text import CountVectorizer   \n",
    "from sklearn.naive_bayes import MultinomialNB\n",
    "from sklearn.model_selection import train_test_split\n",
    "from sklearn.metrics import classification_report\n",
    "from sklearn.metrics import f1_score\n",
    "from sklearn import svm\n",
    "from sklearn.model_selection import cross_validate\n",
    "from sklearn.preprocessing import LabelEncoder\n",
    "from sklearn.feature_selection import SelectKBest, chi2\n",
    "from sklearn.model_selection import StratifiedKFold\n",
    "from sklearn import preprocessing\n",
    "from sklearn.metrics import roc_auc_score\n",
    "from sklearn.linear_model import LogisticRegression\n",
    "from scipy.sparse import hstack\n",
    "from scipy import sparse\n",
    "from sklearn.model_selection import train_test_split\n",
    "import lightgbm as lgb\n",
    "from sklearn.feature_selection import SelectFromModel\n",
    "from wordbatch.extractors import WordHash, WordBag\n",
    "from wordbatch.models import FM_FTRL,FTRL"
   ]
  },
  {
   "cell_type": "code",
   "execution_count": 2,
   "metadata": {},
   "outputs": [
    {
     "name": "stderr",
     "output_type": "stream",
     "text": [
      "/usr/local/lib/python3.5/dist-packages/pandas/core/computation/check.py:17: UserWarning: The installed version of numexpr 2.4.3 is not supported in pandas and will be not be used\n",
      "The minimum supported version is 2.4.6\n",
      "\n",
      "  ver=ver, min_ver=_MIN_NUMEXPR_VERSION), UserWarning)\n"
     ]
    }
   ],
   "source": [
    "column = \"word_seg\"\n",
    "train = pd.read_csv('../input/new_data/train_set.csv')\n",
    "test = pd.read_csv('../input/new_data/test_set.csv')\n",
    "test_id = test[\"id\"].copy()\n",
    "y_all = (pd.Series(train['class'])-1).astype(int)"
   ]
  },
  {
   "cell_type": "code",
   "execution_count": 3,
   "metadata": {},
   "outputs": [],
   "source": [
    "# trn_term_doc = sparse.load_npz('../feature/text_tifi/trn_term_doc.npz')\n",
    "# trn_term_word = sparse.load_npz('../feature/text_tifi/trn_term_word.npz')\n",
    "# trn_term_word_three = sparse.load_npz('../feature/text_tifi/trn_term_word_three.npz')\n",
    "# train_feaure =  hstack([trn_term_doc,trn_term_word,trn_term_word_three]).tocsr()\n",
    "# del trn_term_doc,trn_term_word,trn_term_word_three\n",
    "# import gc\n",
    "# gc.collect()\n",
    "# trn_term_word_four = sparse.load_npz('../feature/text_tifi/trn_term_word_four.npz')\n",
    "# # trn_term_word_five = sparse.load_npz('../feature/text_tifi/trn_term_word_five.npz')\n",
    "# trn_char = sparse.load_npz('../feature/text_tifi/trn_char.npz')\n",
    "# docLen  =pd.DataFrame( np.array(train[column].map(lambda x : len(x.split(\" \")))/39759).reshape(-1,1))\n",
    "# doclen_word = pd.DataFrame( np.array(train['article'].map(lambda x : len(x.split(\" \")))/train[column].map(lambda x : len(x.split(\" \")))).reshape(-1,1))\n",
    "# docLen_test  =pd.DataFrame( np.array(test[column].map(lambda x : len(x.split(\" \")))/39759).reshape(-1,1))\n",
    "# doclen_word_test = pd.DataFrame( np.array(test['article'].map(lambda x : len(x.split(\" \")))/test[column].map(lambda x : len(x.split(\" \")))).reshape(-1,1))"
   ]
  },
  {
   "cell_type": "code",
   "execution_count": 4,
   "metadata": {},
   "outputs": [],
   "source": [
    "# import gc\n",
    "# del train, test\n",
    "# gc.collect()"
   ]
  },
  {
   "cell_type": "code",
   "execution_count": 5,
   "metadata": {},
   "outputs": [
    {
     "name": "stderr",
     "output_type": "stream",
     "text": [
      "/usr/local/lib/python3.5/dist-packages/h5py/__init__.py:36: FutureWarning: Conversion of the second argument of issubdtype from `float` to `np.floating` is deprecated. In future, it will be treated as `np.float64 == np.dtype(float).type`.\n",
      "  from ._conv import register_converters as _register_converters\n",
      "Using TensorFlow backend.\n"
     ]
    }
   ],
   "source": [
    "from keras.utils import np_utils\n",
    "one_y_train=np_utils.to_categorical(y_all,num_classes=20)"
   ]
  },
  {
   "cell_type": "code",
   "execution_count": 6,
   "metadata": {},
   "outputs": [],
   "source": [
    "# train_feaure =  hstack([train_feaure, trn_term_word_four,trn_char,doclen_word]).tocsr()\n",
    "# del trn_term_word_four,trn_char,doclen_word\n",
    "# gc.collect()"
   ]
  },
  {
   "cell_type": "code",
   "execution_count": 7,
   "metadata": {},
   "outputs": [],
   "source": [
    "# test_term_doc = sparse.load_npz('../feature/text_tifi/test_term_doc.npz')\n",
    "# test_term_word = sparse.load_npz('../feature/text_tifi/test_term_word.npz')\n",
    "# test_term_word_three = sparse.load_npz('../feature/text_tifi/test_term_word_three.npz')\n",
    "# test_term_word_four = sparse.load_npz('../feature/text_tifi/test_term_word_four.npz')\n",
    "# # test_term_word_five = sparse.load_npz('../feature/text_tifi/test_term_word_five.npz')\n",
    "# test_char = sparse.load_npz('../feature/text_tifi/test_char.npz')\n",
    "# test_festure =  hstack([test_term_doc,test_term_word,test_term_word_three,test_term_word_four,test_char,doclen_word_test]).tocsr()\n",
    "# del test_term_doc,test_term_word,test_term_word_three,test_term_word_four,test_char,doclen_word_test\n",
    "# gc.collect()"
   ]
  },
  {
   "cell_type": "code",
   "execution_count": 8,
   "metadata": {},
   "outputs": [],
   "source": [
    "import pickle\n",
    "svd_dir = '../feature/svd_5.pkl'\n",
    "tifi_dir = '../feature/tifi_min4.pkl'\n",
    "train_svd, test_svd= pickle.load(open(svd_dir,'rb'))\n",
    "trn_term_doc, test_term_doc= pickle.load(open(tifi_dir,'rb'))\n",
    "train_feaure = hstack((trn_term_doc, train_svd)).tocsr()\n",
    "test_festure = hstack((test_term_doc, test_svd)).tocsr()"
   ]
  },
  {
   "cell_type": "code",
   "execution_count": 9,
   "metadata": {},
   "outputs": [],
   "source": [
    "# X_train, X_valid, Y_train, Y_valid = train_test_split(train_feaure, y_all, test_size=0.15, random_state=42)"
   ]
  },
  {
   "cell_type": "code",
   "execution_count": 11,
   "metadata": {},
   "outputs": [],
   "source": [
    "name = [\"class_prob_%s\"%i for i in range(1,20)]\n",
    "one_y_train=np_utils.to_categorical(y_all,num_classes=20)\n",
    "\n"
   ]
  },
  {
   "cell_type": "code",
   "execution_count": 12,
   "metadata": {},
   "outputs": [],
   "source": [
    "def ridge_f1_score(y_hat, data):\n",
    "    y_true = data\n",
    "    y_hat = np.round(y_hat) # scikits f1 doesn't like probabilities\n",
    "    return f1_score(y_true, y_hat, average='macro')"
   ]
  },
  {
   "cell_type": "code",
   "execution_count": 15,
   "metadata": {},
   "outputs": [],
   "source": [
    "from tqdm import tqdm\n",
    "from sklearn.linear_model import Ridge\n",
    "from tqdm import tqdm\n",
    "from sklearn.model_selection import KFold\n",
    "\n",
    "def kf_train(fold_cnt=3,rnd=1):\n",
    "    now_nfold=0\n",
    "    kf = KFold(n_splits=fold_cnt, shuffle=False, random_state=233*rnd)\n",
    "    train_pred, test_pred = np.zeros((102277,19)),np.zeros((102277,19))\n",
    "    for train_index, test_index in kf.split(train_feaure):\n",
    "        now_nfold+=1\n",
    "        print (\"now is {} fold\".format(now_nfold))\n",
    "        curr_x1, hold_out_x1 = train_feaure[train_index], train_feaure[test_index]\n",
    "        curr_y, hold_out_y = one_y_train[train_index], one_y_train[test_index]\n",
    "        for i in tqdm(range(19)):\n",
    "            model = FM_FTRL(alpha=0.01, beta=0.01, L1=0.00001, L2=0.1, D=curr_x1.shape[1], alpha_fm=0.01, L2_fm=0.0, init_fm=0.01,\n",
    "                            D_fm=100, e_noise=0.0001, iters=17, inv_link=\"identity\", threads=4)\n",
    "\n",
    "            model.fit(curr_x1, curr_y[:,i])\n",
    "            test_pred[:,i] += model.predict(test_festure)\n",
    "            ypred = model.predict(hold_out_x1)\n",
    "            print (\"{}line f1 score is {}\".format(i, ridge_f1_score(ypred, hold_out_y[:,i])))\n",
    "            train_pred[test_index,i] = ypred\n",
    "    test_pred = test_pred / fold_cnt\n",
    "    return train_pred, test_pred"
   ]
  },
  {
   "cell_type": "code",
   "execution_count": 16,
   "metadata": {},
   "outputs": [
    {
     "name": "stdout",
     "output_type": "stream",
     "text": [
      "now is 1 fold\n"
     ]
    },
    {
     "name": "stderr",
     "output_type": "stream",
     "text": [
      "\r",
      "  0%|          | 0/19 [00:00<?, ?it/s]"
     ]
    },
    {
     "name": "stdout",
     "output_type": "stream",
     "text": [
      "Total e: 8110.007504816352\n",
      "Total e: 6555.108862789603\n",
      "Total e: 5840.125333879967\n",
      "Total e: 5344.704239171087\n",
      "Total e: 4959.871717240193\n",
      "Total e: 4642.466116564272\n",
      "Total e: 4371.208183286963\n",
      "Total e: 4134.06072900261\n",
      "Total e: 3922.9914169765398\n",
      "Total e: 3732.953974727354\n",
      "Total e: 3560.268957057683\n",
      "Total e: 3402.311259578946\n",
      "Total e: 3256.908827517338\n",
      "Total e: 3122.415765938058\n",
      "Total e: 2997.520673692213\n",
      "Total e: 2881.2184311597284\n",
      "Total e: 2772.550611909928\n"
     ]
    },
    {
     "name": "stderr",
     "output_type": "stream",
     "text": [
      "\r",
      "  5%|▌         | 1/19 [04:34<1:22:29, 275.00s/it]"
     ]
    },
    {
     "name": "stdout",
     "output_type": "stream",
     "text": [
      "0line f1 score is 0.7300770938175059\n",
      "Total e: 4378.744427452854\n",
      "Total e: 3296.0222940560384\n",
      "Total e: 2820.728916890075\n",
      "Total e: 2496.018127474563\n",
      "Total e: 2248.5027678692854\n",
      "Total e: 2048.3813857486994\n",
      "Total e: 1880.8852714780978\n",
      "Total e: 1737.1901983964956\n",
      "Total e: 1611.6867482225996\n",
      "Total e: 1500.8767822296777\n",
      "Total e: 1402.1522161267378\n",
      "Total e: 1313.5328668754926\n",
      "Total e: 1233.5232822819075\n",
      "Total e: 1160.9548408206879\n",
      "Total e: 1094.8406297597191\n",
      "Total e: 1034.4063224581835\n",
      "Total e: 978.9765390969495\n"
     ]
    },
    {
     "name": "stderr",
     "output_type": "stream",
     "text": [
      "\r",
      " 11%|█         | 2/19 [09:03<1:16:57, 271.64s/it]"
     ]
    },
    {
     "name": "stdout",
     "output_type": "stream",
     "text": [
      "1line f1 score is 0.8562998763628189\n",
      "Total e: 9765.392588310624\n",
      "Total e: 6940.944872702662\n",
      "Total e: 5855.773192868203\n",
      "Total e: 5172.475203628709\n",
      "Total e: 4674.513722342643\n",
      "Total e: 4283.43699713786\n",
      "Total e: 3962.7349422207803\n",
      "Total e: 3691.3428978347397\n",
      "Total e: 3456.9317367338554\n",
      "Total e: 3251.1587224883087\n",
      "Total e: 3068.4316381516664\n",
      "Total e: 2904.884824799037\n",
      "Total e: 2757.2858609117266\n",
      "Total e: 2623.0374702095764\n",
      "Total e: 2500.340401913868\n",
      "Total e: 2387.7659613252044\n",
      "Total e: 2284.028893031136\n"
     ]
    },
    {
     "name": "stderr",
     "output_type": "stream",
     "text": [
      "/usr/local/lib/python3.5/dist-packages/sklearn/metrics/classification.py:1137: UndefinedMetricWarning: F-score is ill-defined and being set to 0.0 in labels with no true samples.\n",
      "  'recall', 'true', average, warn_for)\n",
      "\r",
      " 16%|█▌        | 3/19 [13:32<1:12:11, 270.74s/it]"
     ]
    },
    {
     "name": "stdout",
     "output_type": "stream",
     "text": [
      "2line f1 score is 0.6280306104534872\n",
      "Total e: 5163.966520708351\n",
      "Total e: 3730.3841450071604\n",
      "Total e: 3139.926873497\n",
      "Total e: 2753.8102378797976\n",
      "Total e: 2467.430818414861\n",
      "Total e: 2240.124192412664\n",
      "Total e: 2052.8013866234355\n",
      "Total e: 1894.1191925861492\n",
      "Total e: 1757.3139823479148\n",
      "Total e: 1637.5716625560501\n",
      "Total e: 1531.722838450446\n",
      "Total e: 1437.297455155004\n",
      "Total e: 1352.5330038885122\n",
      "Total e: 1275.963927920566\n",
      "Total e: 1206.4435650386197\n",
      "Total e: 1143.0508401660607\n",
      "Total e: 1085.0161076127472\n"
     ]
    },
    {
     "name": "stderr",
     "output_type": "stream",
     "text": [
      "\r",
      " 21%|██        | 4/19 [18:10<1:08:07, 272.53s/it]"
     ]
    },
    {
     "name": "stdout",
     "output_type": "stream",
     "text": [
      "3line f1 score is 0.8879284315921729\n",
      "Total e: 3663.254337376761\n",
      "Total e: 2665.7528042548206\n",
      "Total e: 2239.6241485347987\n",
      "Total e: 1957.8624358201303\n",
      "Total e: 1749.3362825550116\n",
      "Total e: 1585.2082158182566\n",
      "Total e: 1450.9170288504647\n",
      "Total e: 1337.9768106114789\n",
      "Total e: 1240.8690889990346\n",
      "Total e: 1156.4190677178935\n",
      "Total e: 1082.019683913839\n",
      "Total e: 1015.9106789282482\n",
      "Total e: 956.7543533816793\n",
      "Total e: 903.4845442808581\n",
      "Total e: 855.2849805095811\n",
      "Total e: 811.4591007189439\n",
      "Total e: 771.4470461542769\n"
     ]
    },
    {
     "name": "stderr",
     "output_type": "stream",
     "text": [
      "\r",
      " 26%|██▋       | 5/19 [22:49<1:03:54, 273.90s/it]"
     ]
    },
    {
     "name": "stdout",
     "output_type": "stream",
     "text": [
      "4line f1 score is 0.8686424918164838\n",
      "Total e: 7734.787273315615\n",
      "Total e: 5096.894615779632\n",
      "Total e: 4202.699668310185\n",
      "Total e: 3655.319282160533\n",
      "Total e: 3262.2721305213995\n",
      "Total e: 2958.0047020146967\n",
      "Total e: 2711.4426947381194\n",
      "Total e: 2505.0895601211346\n",
      "Total e: 2328.3634843933837\n",
      "Total e: 2174.3669242633155\n",
      "Total e: 2038.3850824982167\n",
      "Total e: 1917.1926838901688\n",
      "Total e: 1808.336238909148\n",
      "Total e: 1709.904231503013\n",
      "Total e: 1620.400874739938\n",
      "Total e: 1538.5921932817016\n",
      "Total e:"
     ]
    },
    {
     "name": "stderr",
     "output_type": "stream",
     "text": [
      "\r",
      " 32%|███▏      | 6/19 [27:23<59:21, 273.93s/it]  "
     ]
    },
    {
     "name": "stdout",
     "output_type": "stream",
     "text": [
      " 1463.489269566288\n",
      "5line f1 score is 0.6262679126741006\n",
      "Total e: 4857.147218440334\n",
      "Total e: 3781.639733312323\n",
      "Total e: 3285.015307685781\n",
      "Total e: 2944.2210323790505\n",
      "Total e: 2683.7477509587898\n",
      "Total e: 2472.0554347065527\n",
      "Total e: 2293.637686944584\n",
      "Total e: 2139.7760368415147\n",
      "Total e: 2004.6914117199308\n",
      "Total e: 1884.6862460988991\n",
      "Total e: 1777.096436986131\n",
      "Total e: 1679.8649186030261\n",
      "Total e: 1591.541602129045\n",
      "Total e: 1510.8693573207358\n",
      "Total e: 1436.8902245243767\n",
      "Total e: 1368.8049453444517\n",
      "Total e: 1305.9272449445102\n"
     ]
    },
    {
     "name": "stderr",
     "output_type": "stream",
     "text": [
      "\r",
      " 37%|███▋      | 7/19 [31:58<54:49, 274.10s/it]"
     ]
    },
    {
     "name": "stdout",
     "output_type": "stream",
     "text": [
      "6line f1 score is 0.8086877110224553\n",
      "Total e: 8787.373669406285\n",
      "Total e: 6806.038851743409\n",
      "Total e: 6013.433291409566\n",
      "Total e: 5472.595746173547\n",
      "Total e: 5055.798570436491\n",
      "Total e: 4715.017576696213\n",
      "Total e: 4426.026646641888\n",
      "Total e: 4174.637047652938\n",
      "Total e: 3952.1802063447285\n",
      "Total e: 3753.0600360742455\n",
      "Total e: 3573.259771875114\n",
      "Total e: 3409.480795469851\n",
      "Total e: 3259.345591964427\n",
      "Total e: 3121.0585593860283\n",
      "Total e: 2993.124770072339\n",
      "Total e: 2874.3310635472344\n",
      "Total e: 2763.743534693444\n"
     ]
    },
    {
     "name": "stderr",
     "output_type": "stream",
     "text": [
      "\r",
      " 42%|████▏     | 8/19 [36:36<50:19, 274.52s/it]"
     ]
    },
    {
     "name": "stdout",
     "output_type": "stream",
     "text": [
      "7line f1 score is 0.8253228495042687\n",
      "Total e: 6631.943868123347\n",
      "Total e: 4299.404896675772\n",
      "Total e: 3546.7457508575817\n",
      "Total e: 3072.919921301696\n",
      "Total e: 2729.0312544279623\n",
      "Total e: 2461.6181435574194\n",
      "Total e: 2244.6811348776496\n",
      "Total e: 2063.4001522587037\n",
      "Total e: 1908.6750480216251\n",
      "Total e: 1774.6264456772944\n",
      "Total e: 1656.9078640269554\n",
      "Total e: 1552.5065475535173\n",
      "Total e: 1459.1368834986795\n",
      "Total e: 1375.023547496517\n",
      "Total e: 1298.9432797453876\n",
      "Total e: 1229.7961307711853\n",
      "Total e: 1166.6896595494186\n"
     ]
    },
    {
     "name": "stderr",
     "output_type": "stream",
     "text": [
      "\r",
      " 47%|████▋     | 9/19 [41:12<45:46, 274.70s/it]"
     ]
    },
    {
     "name": "stdout",
     "output_type": "stream",
     "text": [
      "8line f1 score is 0.9630096177758138\n",
      "Total e: 7277.468763024746\n",
      "Total e: 5666.127715125339\n",
      "Total e: 4969.267577433498\n",
      "Total e: 4490.260184513122\n",
      "Total e: 4120.663473819866\n",
      "Total e: 3818.347883367377\n",
      "Total e: 3561.875109867069\n",
      "Total e: 3339.1311300687166\n",
      "Total e: 3142.6775416323967\n",
      "Total e: 2967.1082216450873\n",
      "Total e: 2808.800454056846\n",
      "Total e: 2664.9870740492397\n",
      "Total e: 2533.5035390796447\n",
      "Total e: 2412.6279741215976\n",
      "Total e: 2301.1307729379587\n",
      "Total e: 2197.870454138054\n",
      "Total e: 2101.9182241124386\n"
     ]
    },
    {
     "name": "stderr",
     "output_type": "stream",
     "text": [
      "\r",
      " 53%|█████▎    | 10/19 [45:46<41:12, 274.68s/it]"
     ]
    },
    {
     "name": "stdout",
     "output_type": "stream",
     "text": [
      "9line f1 score is 0.8062560436393545\n",
      "Total e: 6018.32401451093\n",
      "Total e: 4845.543115321251\n",
      "Total e: 4248.002985887734\n",
      "Total e: 3823.689484826182\n",
      "Total e: 3495.210880511852\n",
      "Total e: 3228.8075798202754\n",
      "Total e: 3006.0101558421266\n",
      "Total e: 2815.186893368136\n",
      "Total e: 2649.1317253507978\n",
      "Total e: 2502.708541772347\n",
      "Total e: 2372.487057796659\n",
      "Total e: 2255.600487270682\n",
      "Total e: 2149.9096524685006\n",
      "Total e: 2053.7596071482376\n",
      "Total e: 1965.783572408424\n",
      "Total e: 1885.0018500527417\n",
      "Total e: 1810.5083082828924\n"
     ]
    },
    {
     "name": "stderr",
     "output_type": "stream",
     "text": [
      "\r",
      " 58%|█████▊    | 11/19 [50:20<36:36, 274.57s/it]"
     ]
    },
    {
     "name": "stdout",
     "output_type": "stream",
     "text": [
      "10line f1 score is 0.8058913272870583\n",
      "Total e: 7971.567316682109\n",
      "Total e: 6414.539437830203\n",
      "Total e: 5679.962670406903\n",
      "Total e: 5164.573309791737\n",
      "Total e: 4764.510470949784\n",
      "Total e: 4436.367839673489\n",
      "Total e: 4158.104061525173\n",
      "Total e: 3916.567240783999\n",
      "Total e: 3703.567134634374\n",
      "Total e: 3513.5558641665452\n",
      "Total e: 3342.2564762084235\n",
      "Total e: 3186.5822773957807\n",
      "Total e: 3044.2473249154355\n",
      "Total e: 2913.311444863304\n",
      "Total e: 2792.34281751943\n",
      "Total e: 2680.164567658586\n",
      "Total e: 2575.7930343948547\n"
     ]
    },
    {
     "name": "stderr",
     "output_type": "stream",
     "text": [
      "\r",
      " 63%|██████▎   | 12/19 [55:00<32:05, 275.02s/it]"
     ]
    },
    {
     "name": "stdout",
     "output_type": "stream",
     "text": [
      "11line f1 score is 0.5172863600185323\n",
      "Total e: 9564.94402523756\n",
      "Total e: 7294.185271801219\n",
      "Total e: 6409.8786801147135\n",
      "Total e: 5812.668942844836\n",
      "Total e: 5354.617184893445\n",
      "Total e: 4981.239104166809\n",
      "Total e: 4665.617513535074\n",
      "Total e: 4392.629555065384\n",
      "Total e: 4152.063775947253\n",
      "Total e: 3937.494581585956\n",
      "Total e: 3743.9955150735527\n",
      "Total e: 3568.08482799561\n",
      "Total e: 3407.10697577132\n",
      "Total e: 3259.0995143033774\n",
      "Total e: 3122.385930761528\n",
      "Total e: 2995.6397028469682\n",
      "Total e: 2877.7892829168954\n"
     ]
    },
    {
     "name": "stderr",
     "output_type": "stream",
     "text": [
      "\r",
      " 68%|██████▊   | 13/19 [59:38<27:31, 275.28s/it]"
     ]
    },
    {
     "name": "stdout",
     "output_type": "stream",
     "text": [
      "12line f1 score is 0.5668363475856554\n",
      "Total e: 7963.462954020528\n",
      "Total e: 5947.706921125567\n",
      "Total e: 5187.764334629038\n",
      "Total e: 4681.388019732299\n",
      "Total e: 4295.192540589707\n",
      "Total e: 3981.075744944053\n",
      "Total e: 3715.7550645820215\n",
      "Total e: 3486.138911233824\n",
      "Total e: 3283.8377600121844\n",
      "Total e: 3103.2652645384833\n",
      "Total e: 2940.299930546192\n",
      "Total e: 2792.106465762272\n",
      "Total e: 2656.6056805798507\n",
      "Total e: 2532.06532597718\n",
      "Total e: 2417.1160145342888\n",
      "Total e: 2310.579271867681\n",
      "Total e: 2211.5475738831437\n"
     ]
    },
    {
     "name": "stderr",
     "output_type": "stream",
     "text": [
      "\r",
      " 74%|███████▎  | 14/19 [1:04:17<22:57, 275.54s/it]"
     ]
    },
    {
     "name": "stdout",
     "output_type": "stream",
     "text": [
      "13line f1 score is 0.8736110179420848\n",
      "Total e: 8438.766402262752\n",
      "Total e: 5707.932494454392\n",
      "Total e: 4751.479520147706\n",
      "Total e: 4160.109859016664\n",
      "Total e: 3732.903138623188\n",
      "Total e: 3400.5293039562443\n",
      "Total e: 3130.199022202399\n",
      "Total e: 2903.7888888917346\n",
      "Total e: 2709.655380189869\n",
      "Total e: 2540.4492483551403\n",
      "Total e: 2391.0464504187185\n",
      "Total e: 2257.745529339779\n",
      "Total e: 2137.8447077928718\n",
      "Total e: 2029.2518465191554\n",
      "Total e: 1930.4205209516183\n",
      "Total e: 1840.0454798527896\n",
      "Total e: 1756.9989884295028\n"
     ]
    },
    {
     "name": "stderr",
     "output_type": "stream",
     "text": [
      "\r",
      " 79%|███████▉  | 15/19 [1:09:00<18:24, 276.05s/it]"
     ]
    },
    {
     "name": "stdout",
     "output_type": "stream",
     "text": [
      "14line f1 score is 0.9384961379687731\n",
      "Total e: 5489.252871213165\n",
      "Total e: 4411.298855017244\n",
      "Total e: 3855.64842421831\n",
      "Total e: 3457.6679623198834\n",
      "Total e: 3145.3636544752676\n",
      "Total e: 2889.217300716658\n",
      "Total e: 2673.076022637363\n",
      "Total e: 2487.527442871502\n",
      "Total e: 2325.6715626428\n",
      "Total e: 2183.0550749260938\n",
      "Total e: 2056.408309358713\n",
      "Total e: 1943.0272583580795\n",
      "Total e: 1840.9367079722028\n",
      "Total e: 1748.4499809509714\n",
      "Total e: 1664.2202032565237\n",
      "Total e: 1587.3458190415229\n",
      "Total e:"
     ]
    },
    {
     "name": "stderr",
     "output_type": "stream",
     "text": [
      "\r",
      " 84%|████████▍ | 16/19 [1:13:40<13:48, 276.28s/it]"
     ]
    },
    {
     "name": "stdout",
     "output_type": "stream",
     "text": [
      " 1516.8700057758565\n",
      "15line f1 score is 0.532865507835992\n",
      "Total e: 4544.081510700895\n",
      "Total e: 3387.8878674181906\n",
      "Total e: 2922.244664996938\n",
      "Total e: 2611.443853386257\n",
      "Total e: 2375.5287899783566\n",
      "Total e: 2184.4734125958585\n",
      "Total e: 2024.0734111534366\n",
      "Total e: 1886.0448632025511\n",
      "Total e: 1765.2283520263188\n",
      "Total e: 1658.329373209256\n",
      "Total e: 1562.8485091426858\n",
      "Total e: 1476.7577451772454\n",
      "Total e: 1398.7183176904982\n",
      "Total e: 1327.5777565083768\n",
      "Total e: 1262.442303304265\n",
      "Total e: 1202.6115528129922\n",
      "Total e: 1147.4723250547304\n"
     ]
    },
    {
     "name": "stderr",
     "output_type": "stream",
     "text": [
      "\r",
      " 89%|████████▉ | 17/19 [1:18:17<09:12, 276.33s/it]"
     ]
    },
    {
     "name": "stdout",
     "output_type": "stream",
     "text": [
      "16line f1 score is 0.8123392045099393\n",
      "Total e: 7846.211452024243\n",
      "Total e: 5453.935382037788\n",
      "Total e: 4577.408366851996\n",
      "Total e: 4012.6303534768053\n",
      "Total e: 3595.252871971874\n",
      "Total e: 3264.563514995883\n",
      "Total e: 2991.7823248218365\n",
      "Total e: 2760.19856801005\n",
      "Total e: 2559.922945606733\n",
      "Total e: 2384.0597474923115\n",
      "Total e: 2227.875664206839\n",
      "Total e: 2087.9948300803558\n",
      "Total e: 1961.9226140997955\n",
      "Total e: 1847.5283692945604\n",
      "Total e: 1743.2823001363442\n",
      "Total e: 1647.923646005602\n",
      "Total e:"
     ]
    },
    {
     "name": "stderr",
     "output_type": "stream",
     "text": [
      "\r",
      " 95%|█████████▍| 18/19 [1:22:55<04:36, 276.42s/it]"
     ]
    },
    {
     "name": "stdout",
     "output_type": "stream",
     "text": [
      " 1560.3551914291077\n",
      "17line f1 score is 0.6148736843002087\n",
      "Total e: 8486.749961082332\n",
      "Total e: 6879.808008650118\n",
      "Total e: 6087.146431983955\n",
      "Total e: 5528.711891054842\n",
      "Total e: 5093.6254972362685\n",
      "Total e: 4735.804754450347\n",
      "Total e: 4431.289287084056\n",
      "Total e: 4166.312493266539\n",
      "Total e: 3932.128350549097\n",
      "Total e: 3722.406101200617\n",
      "Total e: 3532.9748144226583\n",
      "Total e: 3360.624104786204\n",
      "Total e: 3202.855960654374\n",
      "Total e: 3057.6050936472275\n",
      "Total e: 2923.3352032079265\n",
      "Total e: 2798.7836921557687\n",
      "Total e: 2682.8542538775187\n"
     ]
    },
    {
     "name": "stderr",
     "output_type": "stream",
     "text": [
      "\r",
      "100%|██████████| 19/19 [1:27:28<00:00, 276.24s/it]"
     ]
    },
    {
     "name": "stdout",
     "output_type": "stream",
     "text": [
      "18line f1 score is 0.7225688153026572\n",
      "now is 2 fold\n"
     ]
    },
    {
     "name": "stderr",
     "output_type": "stream",
     "text": [
      "\n",
      "  0%|          | 0/19 [00:00<?, ?it/s]"
     ]
    },
    {
     "name": "stdout",
     "output_type": "stream",
     "text": [
      "Total e: 8179.235550282261\n",
      "Total e: 6597.614277495887\n",
      "Total e: 5878.823446023489\n",
      "Total e: 5381.4475380811655\n",
      "Total e: 4994.196444670774\n",
      "Total e: 4674.876706851361\n",
      "Total e: 4402.113281946371\n",
      "Total e: 4163.586917105268\n",
      "Total e: 3951.1355254788537\n",
      "Total e: 3759.880749163736\n",
      "Total e: 3586.198992212002\n",
      "Total e: 3427.273080276886\n",
      "Total e: 3281.0434867957083\n",
      "Total e: 3145.805025581025\n",
      "Total e: 3020.193303190862\n",
      "Total e: 2903.150942891844\n",
      "Total e:"
     ]
    },
    {
     "name": "stderr",
     "output_type": "stream",
     "text": [
      "\r",
      "  5%|▌         | 1/19 [04:37<1:23:18, 277.68s/it]"
     ]
    },
    {
     "name": "stdout",
     "output_type": "stream",
     "text": [
      " 2793.781390820816\n",
      "0line f1 score is 0.7341031219602175\n",
      "Total e: 4412.737055133265\n",
      "Total e: 3300.5826368286603\n",
      "Total e: 2819.988279887844\n",
      "Total e: 2495.2427607424424\n",
      "Total e: 2247.7955545884515\n",
      "Total e: 2048.0203740117354\n",
      "Total e: 1880.9278779502333\n",
      "Total e: 1737.8225228581225\n",
      "Total e: 1612.8636480175062\n",
      "Total e: 1502.4225137232368\n",
      "Total e: 1404.0447131092988\n",
      "Total e: 1315.7308121282906\n",
      "Total e: 1236.0962170988516\n",
      "Total e: 1163.9225702233307\n",
      "Total e: 1098.1953946688388\n",
      "Total e: 1038.1429872829171\n",
      "Total e:"
     ]
    },
    {
     "name": "stderr",
     "output_type": "stream",
     "text": [
      "\r",
      " 11%|█         | 2/19 [09:15<1:18:41, 277.74s/it]"
     ]
    },
    {
     "name": "stdout",
     "output_type": "stream",
     "text": [
      " 983.1050677782246\n",
      "1line f1 score is 0.8479069206329187\n",
      "Total e: 9755.706739912283\n",
      "Total e: 6921.682623416612\n",
      "Total e: 5838.110732675355\n",
      "Total e: 5154.115738572348\n",
      "Total e: 4655.300945521118\n",
      "Total e: 4264.16716507696\n",
      "Total e: 3943.105512080647\n",
      "Total e: 3671.8804081907706\n",
      "Total e: 3437.7903076143893\n",
      "Total e: 3232.5718931955994\n",
      "Total e: 3050.4417087911283\n",
      "Total e: 2887.369962308631\n",
      "Total e: 2740.1695545365715\n",
      "Total e: 2606.5506217453417\n",
      "Total e: 2484.59804128257\n",
      "Total e: 2372.7326838676177\n",
      "Total e: 2269.6958934199215\n"
     ]
    },
    {
     "name": "stderr",
     "output_type": "stream",
     "text": [
      "\r",
      " 16%|█▌        | 3/19 [13:48<1:13:39, 276.19s/it]"
     ]
    },
    {
     "name": "stdout",
     "output_type": "stream",
     "text": [
      "2line f1 score is 0.6152736224754355\n",
      "Total e: 5154.256907538594\n",
      "Total e: 3748.4012108316097\n",
      "Total e: 3156.5302302699383\n",
      "Total e: 2768.8582630069077\n",
      "Total e: 2482.5509861618257\n",
      "Total e: 2255.829676172748\n",
      "Total e: 2068.7850690590994\n",
      "Total e: 1910.3491168837113\n",
      "Total e: 1773.468610508468\n",
      "Total e: 1653.6509581742594\n",
      "Total e: 1547.5426824645415\n",
      "Total e: 1452.8342877887249\n",
      "Total e: 1367.80428803811\n",
      "Total e: 1290.932769965302\n",
      "Total e: 1221.1204257847685\n",
      "Total e: 1157.3900951293608\n",
      "Total e: 1099.0061429547127\n"
     ]
    },
    {
     "name": "stderr",
     "output_type": "stream",
     "text": [
      "\r",
      " 21%|██        | 4/19 [18:23<1:08:57, 275.84s/it]"
     ]
    },
    {
     "name": "stdout",
     "output_type": "stream",
     "text": [
      "3line f1 score is 0.9112362965053812\n",
      "Total e: 3636.517720048398\n",
      "Total e: 2667.271805530206\n",
      "Total e: 2240.733505035831\n",
      "Total e: 1959.1129888375106\n",
      "Total e: 1751.5216922871211\n",
      "Total e: 1588.0854643195391\n",
      "Total e: 1454.4044314951768\n",
      "Total e: 1342.069527189082\n",
      "Total e: 1245.4514099980781\n",
      "Total e: 1161.3215340775055\n",
      "Total e: 1087.3394185268453\n",
      "Total e: 1021.6166469436841\n",
      "Total e: 962.7389634321192\n",
      "Total e: 909.7223759597998\n",
      "Total e: 861.7011581277981\n",
      "Total e: 818.0256167603\n",
      "Total e:"
     ]
    },
    {
     "name": "stderr",
     "output_type": "stream",
     "text": [
      "\r",
      " 26%|██▋       | 5/19 [23:03<1:04:33, 276.66s/it]"
     ]
    },
    {
     "name": "stdout",
     "output_type": "stream",
     "text": [
      " 778.1651912312484\n",
      "4line f1 score is 0.8790368963163391\n",
      "Total e: 7803.248753905685\n",
      "Total e: 5129.508506433375\n",
      "Total e: 4235.016169044963\n",
      "Total e: 3686.1296074984734\n",
      "Total e: 3293.2251669519483\n",
      "Total e: 2988.954379820566\n",
      "Total e: 2741.9416325042725\n",
      "Total e: 2534.7632401014553\n",
      "Total e: 2356.9928312152674\n",
      "Total e: 2201.996027757241\n",
      "Total e: 2065.097910025005\n",
      "Total e: 1943.0195417155321\n",
      "Total e: 1833.2858116681557\n",
      "Total e: 1733.9535320246139\n",
      "Total e: 1643.5348180623473\n",
      "Total e: 1560.826075824768\n",
      "Total e: 1484.8574283526243\n"
     ]
    },
    {
     "name": "stderr",
     "output_type": "stream",
     "text": [
      "\r",
      " 32%|███▏      | 6/19 [27:40<59:58, 276.81s/it]  "
     ]
    },
    {
     "name": "stdout",
     "output_type": "stream",
     "text": [
      "5line f1 score is 0.6288779249257047\n",
      "Total e: 4905.281675724133\n",
      "Total e: 3794.014096927313\n",
      "Total e: 3296.268055756175\n",
      "Total e: 2955.998870417045\n",
      "Total e: 2695.7834615759766\n",
      "Total e: 2483.935210625641\n",
      "Total e: 2305.5181338373104\n",
      "Total e: 2151.550319011258\n",
      "Total e: 2016.407191731211\n",
      "Total e: 1896.417508654336\n",
      "Total e: 1788.7633557710108\n",
      "Total e: 1691.3951527213396\n",
      "Total e: 1602.8111144772338\n",
      "Total e: 1521.8549317339132\n",
      "Total e: 1447.6020746247327\n",
      "Total e: 1379.2019845058228\n",
      "Total e: 1315.9763919110599\n"
     ]
    },
    {
     "name": "stderr",
     "output_type": "stream",
     "text": [
      "\r",
      " 37%|███▋      | 7/19 [32:06<55:01, 275.15s/it]"
     ]
    },
    {
     "name": "stdout",
     "output_type": "stream",
     "text": [
      "6line f1 score is 0.7943263276396619\n",
      "Total e: 8736.11111246043\n",
      "Total e: 6758.119842723638\n",
      "Total e: 5968.415692558949\n",
      "Total e: 5430.496052760575\n",
      "Total e: 5016.124102687621\n",
      "Total e: 4676.894312937043\n",
      "Total e: 4389.090313256998\n",
      "Total e: 4138.62786339614\n",
      "Total e: 3917.0987180146954\n",
      "Total e: 3718.841631021072\n",
      "Total e: 3539.5392501701294\n",
      "Total e: 3376.172346915713\n",
      "Total e: 3226.508768049145\n",
      "Total e: 3088.7115143826873\n",
      "Total e: 2961.2681798262006\n",
      "Total e: 2843.0288056555805\n",
      "Total e: 2732.9419353303215\n"
     ]
    },
    {
     "name": "stderr",
     "output_type": "stream",
     "text": [
      "\r",
      " 42%|████▏     | 8/19 [36:28<50:08, 273.51s/it]"
     ]
    },
    {
     "name": "stdout",
     "output_type": "stream",
     "text": [
      "7line f1 score is 0.8153769272288008\n",
      "Total e: 6626.228078619542\n",
      "Total e: 4301.762091812791\n",
      "Total e: 3550.790907094108\n",
      "Total e: 3077.718549488113\n",
      "Total e: 2734.2173910179417\n",
      "Total e: 2467.5305035566\n",
      "Total e: 2251.094559439686\n",
      "Total e: 2070.1952525997954\n",
      "Total e: 1915.7551801092984\n",
      "Total e: 1781.6260857337954\n",
      "Total e: 1663.7910553339718\n",
      "Total e: 1559.1811577440485\n",
      "Total e: 1465.693657583574\n",
      "Total e: 1381.5698409202103\n",
      "Total e: 1305.4611508688388\n",
      "Total e: 1236.304769023732\n",
      "Total e: 1173.1025666484938\n"
     ]
    },
    {
     "name": "stderr",
     "output_type": "stream",
     "text": [
      "\r",
      " 47%|████▋     | 9/19 [40:51<45:23, 272.35s/it]"
     ]
    },
    {
     "name": "stdout",
     "output_type": "stream",
     "text": [
      "8line f1 score is 0.9602219644319681\n",
      "Total e: 7182.690321447476\n",
      "Total e: 5612.564916769158\n",
      "Total e: 4921.159267995583\n",
      "Total e: 4445.8941979575275\n",
      "Total e: 4078.833850376503\n",
      "Total e: 3778.2422954713843\n",
      "Total e: 3523.0346472296224\n",
      "Total e: 3301.7408659386865\n",
      "Total e: 3106.5702823658103\n",
      "Total e: 2932.312761760084\n",
      "Total e: 2775.122637935737\n",
      "Total e: 2632.3205378489592\n",
      "Total e: 2501.777833270179\n",
      "Total e: 2381.8522036020386\n",
      "Total e: 2271.22505844934\n",
      "Total e: 2168.8148987541754\n",
      "Total e: 2073.7193049845732\n"
     ]
    },
    {
     "name": "stderr",
     "output_type": "stream",
     "text": [
      "\r",
      " 53%|█████▎    | 10/19 [45:17<40:46, 271.80s/it]"
     ]
    },
    {
     "name": "stdout",
     "output_type": "stream",
     "text": [
      "9line f1 score is 0.7996688964193304\n",
      "Total e: 6003.6386129521925\n",
      "Total e: 4853.804655371275\n",
      "Total e: 4256.177729873209\n",
      "Total e: 3833.1868686864123\n",
      "Total e: 3505.0374826604093\n",
      "Total e: 3238.0341948876426\n",
      "Total e: 3014.9110925917885\n",
      "Total e: 2823.786120963945\n",
      "Total e: 2657.643498492128\n",
      "Total e: 2511.181763267415\n",
      "Total e: 2380.7165673953004\n",
      "Total e: 2263.4166708719927\n",
      "Total e: 2157.3052371672684\n",
      "Total e: 2060.753017582694\n",
      "Total e: 1972.4284853200024\n",
      "Total e: 1891.341210012723\n",
      "Total e: 1816.6260145727551\n"
     ]
    },
    {
     "name": "stderr",
     "output_type": "stream",
     "text": [
      "\r",
      " 58%|█████▊    | 11/19 [49:44<36:10, 271.34s/it]"
     ]
    },
    {
     "name": "stdout",
     "output_type": "stream",
     "text": [
      "10line f1 score is 0.8254862363815187\n",
      "Total e: 8016.212487955416\n",
      "Total e: 6473.023873700867\n",
      "Total e: 5741.694867994394\n",
      "Total e: 5225.130157029729\n",
      "Total e: 4823.109706041056\n",
      "Total e: 4492.978441819935\n",
      "Total e: 4212.573431500825\n",
      "Total e: 3969.026950518668\n",
      "Total e: 3754.0436822876177\n",
      "Total e: 3562.0342437867694\n",
      "Total e: 3388.7574625158345\n",
      "Total e: 3231.1730665462383\n",
      "Total e: 3087.0250723381755\n",
      "Total e: 2954.52568726258\n",
      "Total e: 2832.0571122526235\n",
      "Total e: 2718.369660468267\n",
      "Total e: 2612.564962096136\n"
     ]
    },
    {
     "name": "stderr",
     "output_type": "stream",
     "text": [
      "\r",
      " 63%|██████▎   | 12/19 [54:09<31:35, 270.79s/it]"
     ]
    },
    {
     "name": "stdout",
     "output_type": "stream",
     "text": [
      "11line f1 score is 0.8082007758529404\n",
      "Total e: 9563.805027453474\n",
      "Total e: 7289.193186639219\n",
      "Total e: 6406.752189276464\n",
      "Total e: 5812.231011273102\n",
      "Total e: 5356.900685034492\n",
      "Total e: 4986.1209263401715\n",
      "Total e: 4672.305968796901\n",
      "Total e: 4399.923845736717\n",
      "Total e: 4159.976204204151\n",
      "Total e: 3945.6938989045507\n",
      "Total e: 3752.5912039406176\n",
      "Total e: 3577.1230501951172\n",
      "Total e: 3416.5235078237483\n",
      "Total e: 3268.686373197317\n",
      "Total e: 3132.000327933508\n",
      "Total e: 3005.172311067359\n",
      "Total e: 2887.1546113461673\n"
     ]
    },
    {
     "name": "stderr",
     "output_type": "stream",
     "text": [
      "\r",
      " 68%|██████▊   | 13/19 [58:39<27:04, 270.71s/it]"
     ]
    },
    {
     "name": "stdout",
     "output_type": "stream",
     "text": [
      "12line f1 score is 0.8546938637329526\n",
      "Total e: 7883.964703870309\n",
      "Total e: 5898.244015832472\n",
      "Total e: 5141.475407394668\n",
      "Total e: 4636.18244762906\n",
      "Total e: 4251.266273978194\n",
      "Total e: 3938.960600025779\n",
      "Total e: 3675.3672702976864\n",
      "Total e: 3447.448470156533\n",
      "Total e: 3246.9067247006737\n",
      "Total e: 3068.0141103737483\n",
      "Total e: 2906.733274172211\n",
      "Total e: 2760.3699956874802\n",
      "Total e: 2626.5872583541923\n",
      "Total e: 2503.7332951793824\n",
      "Total e: 2390.46060660794\n",
      "Total e: 2285.5200941300654\n",
      "Total e: 2188.0232258411543\n"
     ]
    },
    {
     "name": "stderr",
     "output_type": "stream",
     "text": [
      "\r",
      " 74%|███████▎  | 14/19 [1:03:02<22:30, 270.16s/it]"
     ]
    },
    {
     "name": "stdout",
     "output_type": "stream",
     "text": [
      "13line f1 score is 0.8581153320078057\n",
      "Total e: 8441.581346800396\n",
      "Total e: 5713.25225663133\n",
      "Total e: 4765.451468017066\n",
      "Total e: 4175.813999464364\n",
      "Total e: 3748.383668088942\n",
      "Total e: 3415.9227622500853\n",
      "Total e: 3145.3369758515623\n",
      "Total e: 2918.572170732881\n",
      "Total e: 2724.14681307467\n",
      "Total e: 2554.4834958258266\n",
      "Total e: 2404.8029564279846\n",
      "Total e: 2271.2271965568198\n",
      "Total e: 2151.022516232201\n",
      "Total e: 2042.2174231898375\n",
      "Total e: 1943.1825426432347\n",
      "Total e:"
     ]
    },
    {
     "name": "stderr",
     "output_type": "stream",
     "text": [
      "\r",
      " 79%|███████▉  | 15/19 [1:07:28<17:59, 269.89s/it]"
     ]
    },
    {
     "name": "stdout",
     "output_type": "stream",
     "text": [
      " 1852.548292919976\n",
      "Total e: 1769.2190111945863\n",
      "14line f1 score is 0.6269034869038483\n",
      "Total e: 5464.841908814307\n",
      "Total e: 4386.762995610251\n",
      "Total e: 3831.3496979385754\n",
      "Total e: 3433.054729232209\n",
      "Total e: 3120.4996148133\n",
      "Total e: 2864.2569175664244\n",
      "Total e: 2648.359225999341\n",
      "Total e: 2462.987063907896\n",
      "Total e: 2301.5343012166672\n",
      "Total e: 2159.2641000890426\n",
      "Total e: 2032.8028778830574\n",
      "Total e: 1919.5728717770903\n",
      "Total e: 1817.4795032288182\n",
      "Total e: 1724.9625229445369\n",
      "Total e: 1640.729242012826\n",
      "Total e: 1563.7664921574897\n",
      "Total e: 1493.2076503484727\n"
     ]
    },
    {
     "name": "stderr",
     "output_type": "stream",
     "text": [
      "\r",
      " 84%|████████▍ | 16/19 [1:11:55<13:29, 269.74s/it]"
     ]
    },
    {
     "name": "stdout",
     "output_type": "stream",
     "text": [
      "15line f1 score is 0.7736310105796229\n",
      "Total e: 4546.18614334346\n",
      "Total e: 3397.667042950401\n",
      "Total e: 2928.390646005603\n",
      "Total e: 2615.7849577100633\n",
      "Total e: 2378.487610634781\n",
      "Total e: 2186.605146282259\n",
      "Total e: 2025.583846854072\n",
      "Total e: 1887.0295445217885\n",
      "Total e: 1765.838673222404\n",
      "Total e: 1658.4779860022106\n",
      "Total e: 1562.5125133650533\n",
      "Total e: 1476.0470854669222\n",
      "Total e: 1397.598241578942\n",
      "Total e: 1326.0756005334204\n",
      "Total e: 1260.6498070429595\n",
      "Total e: 1200.5672338386007\n",
      "Total e: 1145.1854030777529\n"
     ]
    },
    {
     "name": "stderr",
     "output_type": "stream",
     "text": [
      "\r",
      " 89%|████████▉ | 17/19 [1:16:22<08:59, 269.58s/it]"
     ]
    },
    {
     "name": "stdout",
     "output_type": "stream",
     "text": [
      "16line f1 score is 0.8379455783606329\n",
      "Total e: 7858.7878122330185\n",
      "Total e: 5472.966110191443\n",
      "Total e: 4592.7598564976215\n",
      "Total e: 4026.4449738378034\n",
      "Total e: 3607.7225190499644\n",
      "Total e: 3276.3972895763873\n",
      "Total e: 3003.211639018872\n",
      "Total e: 2771.3327581754193\n",
      "Total e: 2570.512626103837\n",
      "Total e: 2394.0920061480983\n",
      "Total e: 2237.4821988812814\n",
      "Total e: 2097.2392587207564\n",
      "Total e: 1970.6739180993818\n",
      "Total e: 1855.8372714618313\n",
      "Total e: 1751.152501296272\n",
      "Total e: 1655.4064850373454\n",
      "Total e: 1567.5727558324222\n"
     ]
    },
    {
     "name": "stderr",
     "output_type": "stream",
     "text": [
      "\r",
      " 95%|█████████▍| 18/19 [1:20:46<04:29, 269.24s/it]"
     ]
    },
    {
     "name": "stdout",
     "output_type": "stream",
     "text": [
      "17line f1 score is 0.921345716865617\n",
      "Total e: 8544.24352219889\n",
      "Total e: 6915.205719169776\n",
      "Total e: 6119.0526729059\n",
      "Total e: 5557.833784018939\n",
      "Total e: 5120.67355220797\n",
      "Total e: 4761.694081503161\n",
      "Total e: 4456.719126572003\n",
      "Total e: 4191.337628644092\n",
      "Total e: 3956.669921687913\n",
      "Total e: 3746.7325127758268\n",
      "Total e: 3557.066752316242\n",
      "Total e: 3384.4841740925162\n",
      "Total e: 3226.414022206178\n",
      "Total e: 3080.95616916448\n",
      "Total e: 2946.5261925987534\n",
      "Total e: 2821.721955723225\n",
      "Total e: 2705.5223618557357\n"
     ]
    },
    {
     "name": "stderr",
     "output_type": "stream",
     "text": [
      "\r",
      "100%|██████████| 19/19 [1:25:10<00:00, 268.96s/it]"
     ]
    },
    {
     "name": "stdout",
     "output_type": "stream",
     "text": [
      "18line f1 score is 0.7281136097578431\n",
      "now is 3 fold\n"
     ]
    },
    {
     "name": "stderr",
     "output_type": "stream",
     "text": [
      "\n",
      "  0%|          | 0/19 [00:00<?, ?it/s]"
     ]
    },
    {
     "name": "stdout",
     "output_type": "stream",
     "text": [
      "Total e: 8151.444874768059\n",
      "Total e: 6581.876080441182\n",
      "Total e: 5863.812618194843\n",
      "Total e: 5367.300492379919\n",
      "Total e: 4982.0343019847605\n",
      "Total e: 4664.343984673804\n",
      "Total e: 4392.9093870743345\n",
      "Total e: 4155.303154830536\n",
      "Total e: 3943.9796125611097\n",
      "Total e: 3753.8969717371174\n",
      "Total e: 3581.169369837349\n",
      "Total e: 3423.0490953523663\n",
      "Total e: 3277.6062269069175\n",
      "Total e: 3143.071862389269\n",
      "Total e: 3018.158829548382\n",
      "Total e: 2901.8321267507426\n",
      "Total e: 2793.121688381492\n"
     ]
    },
    {
     "name": "stderr",
     "output_type": "stream",
     "text": [
      "\r",
      "  5%|▌         | 1/19 [04:27<1:20:23, 267.96s/it]"
     ]
    },
    {
     "name": "stdout",
     "output_type": "stream",
     "text": [
      "0line f1 score is 0.7327502224884543\n",
      "Total e: 4398.985645247217\n",
      "Total e: 3288.9056844823695\n",
      "Total e: 2811.5521678023256\n",
      "Total e: 2487.8441273568333\n",
      "Total e: 2241.772606715258\n",
      "Total e: 2043.3417196605371\n",
      "Total e: 1877.2037035185035\n",
      "Total e: 1734.639381622108\n",
      "Total e: 1610.3094991695807\n",
      "Total e: 1500.4705397142293\n",
      "Total e: 1402.6307763619059\n",
      "Total e: 1314.7654058986332\n",
      "Total e: 1235.4239279383594\n",
      "Total e: 1163.4621068743143\n",
      "Total e: 1097.8918815515576\n",
      "Total e: 1037.969874795654\n",
      "Total e: 983.0364971959754\n"
     ]
    },
    {
     "name": "stderr",
     "output_type": "stream",
     "text": [
      "\r",
      " 11%|█         | 2/19 [08:53<1:15:36, 266.86s/it]"
     ]
    },
    {
     "name": "stdout",
     "output_type": "stream",
     "text": [
      "1line f1 score is 0.8449414619711968\n",
      "Total e: 9726.265768535115\n",
      "Total e: 6903.4415067260425\n",
      "Total e: 5822.9972368733615\n",
      "Total e: 5140.929117348504\n",
      "Total e: 4643.462323205286\n",
      "Total e: 4252.432905222242\n",
      "Total e: 3931.4405793337614\n",
      "Total e: 3660.5146836704866\n",
      "Total e: 3427.0379094975087\n",
      "Total e: 3222.375403868453\n",
      "Total e: 3040.6819130691915\n",
      "Total e: 2878.0979131493555\n",
      "Total e: 2731.3107308641606\n",
      "Total e: 2597.9498257132686\n",
      "Total e: 2476.1286633973327\n",
      "Total e: 2364.335715420437\n",
      "Total e:"
     ]
    },
    {
     "name": "stderr",
     "output_type": "stream",
     "text": [
      "\r",
      " 16%|█▌        | 3/19 [13:21<1:11:13, 267.08s/it]"
     ]
    },
    {
     "name": "stdout",
     "output_type": "stream",
     "text": [
      " 2261.355178652611\n",
      "2line f1 score is 0.9291486677452354\n",
      "Total e: 5157.288834066104\n",
      "Total e: 3735.2281887264817\n",
      "Total e: 3146.687298213435\n",
      "Total e: 2760.9116592036144\n",
      "Total e: 2474.481181656969\n",
      "Total e: 2247.404416748575\n",
      "Total e: 2060.2864182194726\n",
      "Total e: 1902.1014566096467\n",
      "Total e: 1765.7330495580736\n",
      "Total e: 1646.5196754262033\n",
      "Total e: 1541.030171936992\n",
      "Total e: 1446.871452456888\n",
      "Total e: 1362.1551192247762\n",
      "Total e: 1285.6162083053512\n",
      "Total e: 1216.151834221967\n",
      "Total e: 1152.824729838585\n",
      "Total e: 1094.9215496408544\n"
     ]
    },
    {
     "name": "stderr",
     "output_type": "stream",
     "text": [
      "\r",
      " 21%|██        | 4/19 [17:46<1:06:38, 266.55s/it]"
     ]
    },
    {
     "name": "stdout",
     "output_type": "stream",
     "text": [
      "3line f1 score is 0.8857094328827861\n",
      "Total e: 3667.3913599711955\n",
      "Total e: 2673.065894179591\n",
      "Total e: 2245.342265388107\n",
      "Total e: 1963.3358082061793\n",
      "Total e: 1755.1650444051409\n",
      "Total e: 1590.998758335353\n",
      "Total e: 1456.686817323735\n",
      "Total e: 1343.846476902971\n",
      "Total e: 1247.0016937950627\n",
      "Total e: 1162.6775307160408\n",
      "Total e: 1088.4922140882752\n",
      "Total e: 1022.5326228951831\n",
      "Total e: 963.4512092771492\n",
      "Total e: 910.2763025205342\n",
      "Total e: 862.1890484552324\n",
      "Total e: 818.5101892126255\n",
      "Total e: 778.6315131369802\n"
     ]
    },
    {
     "name": "stderr",
     "output_type": "stream",
     "text": [
      "\r",
      " 26%|██▋       | 5/19 [22:09<1:02:02, 265.93s/it]"
     ]
    },
    {
     "name": "stdout",
     "output_type": "stream",
     "text": [
      "4line f1 score is 0.8760280068971351\n",
      "Total e: 7770.109485218121\n",
      "Total e: 5122.998553628513\n",
      "Total e: 4231.834454906482\n",
      "Total e: 3684.4170545637244\n",
      "Total e: 3290.949981115536\n",
      "Total e: 2986.1658724063595\n",
      "Total e: 2738.9033242491705\n",
      "Total e: 2531.4876257925616\n",
      "Total e: 2353.701336380855\n",
      "Total e: 2198.6856337032323\n",
      "Total e: 2061.825543019815\n",
      "Total e: 1939.9572450872301\n",
      "Total e: 1830.3412094624607\n",
      "Total e: 1731.1672348397744\n",
      "Total e: 1640.9276445164062\n",
      "Total e: 1558.4521513259829\n",
      "Total e: 1482.698313193105\n"
     ]
    },
    {
     "name": "stderr",
     "output_type": "stream",
     "text": [
      "\r",
      " 32%|███▏      | 6/19 [26:33<57:32, 265.60s/it]  "
     ]
    },
    {
     "name": "stdout",
     "output_type": "stream",
     "text": [
      "5line f1 score is 0.944591487723578\n",
      "Total e: 4864.764259919323\n",
      "Total e: 3773.8039003414688\n",
      "Total e: 3276.769588310523\n",
      "Total e: 2936.6645879645203\n",
      "Total e: 2676.6213600848278\n",
      "Total e: 2465.6520774636574\n",
      "Total e: 2287.5286905226917\n",
      "Total e: 2133.6964324353557\n",
      "Total e: 1998.7709965704278\n",
      "Total e: 1878.859727554316\n",
      "Total e: 1771.2972845273905\n",
      "Total e: 1674.1694227730075\n",
      "Total e: 1585.9511178615364\n",
      "Total e: 1505.3971863132379\n",
      "Total e: 1431.52760655975\n",
      "Total e: 1363.5891983460351\n",
      "Total e: 1300.868360642011\n"
     ]
    },
    {
     "name": "stderr",
     "output_type": "stream",
     "text": [
      "\r",
      " 37%|███▋      | 7/19 [30:56<53:03, 265.28s/it]"
     ]
    },
    {
     "name": "stdout",
     "output_type": "stream",
     "text": [
      "6line f1 score is 0.803053126361397\n",
      "Total e: 8744.203164107148\n",
      "Total e: 6775.192659030148\n",
      "Total e: 5987.71044964455\n",
      "Total e: 5450.9643830207015\n",
      "Total e: 5037.335578419822\n",
      "Total e: 4699.014471249215\n",
      "Total e: 4411.459077062883\n",
      "Total e: 4160.877941421266\n",
      "Total e: 3938.9351083724673\n",
      "Total e: 3740.1694556472567\n",
      "Total e: 3560.48906379295\n",
      "Total e: 3396.829797924976\n",
      "Total e: 3246.848204684554\n",
      "Total e: 3108.7446193188784\n",
      "Total e: 2980.9392458829125\n",
      "Total e:"
     ]
    },
    {
     "name": "stderr",
     "output_type": "stream",
     "text": [
      "\r",
      " 42%|████▏     | 8/19 [35:18<48:32, 264.78s/it]"
     ]
    },
    {
     "name": "stdout",
     "output_type": "stream",
     "text": [
      " 2862.2824227054234\n",
      "Total e: 2751.8103691191127\n",
      "7line f1 score is 0.8233362731576592\n",
      "Total e: 6613.688406059706\n",
      "Total e: 4300.8333129715265\n",
      "Total e: 3549.249118093419\n",
      "Total e: 3075.859070649243\n",
      "Total e: 2732.1068820605174\n",
      "Total e: 2465.154585371904\n",
      "Total e: 2248.3052969694636\n",
      "Total e: 2066.7840621656405\n",
      "Total e: 1911.4970323229352\n",
      "Total e: 1776.6999540665843\n",
      "Total e: 1658.41722247438\n",
      "Total e: 1553.4920780454488\n",
      "Total e: 1459.7068319628622\n",
      "Total e: 1375.3265689286827\n",
      "Total e: 1298.9265658080863\n",
      "Total e: 1229.5008314889244\n",
      "Total e: 1166.1728858391903\n"
     ]
    },
    {
     "name": "stderr",
     "output_type": "stream",
     "text": [
      "\r",
      " 47%|████▋     | 9/19 [39:45<44:10, 265.06s/it]"
     ]
    },
    {
     "name": "stdout",
     "output_type": "stream",
     "text": [
      "8line f1 score is 0.6433548533840638\n",
      "Total e: 7231.178382297844\n",
      "Total e: 5645.105184042974\n",
      "Total e: 4949.41242535669\n",
      "Total e: 4469.964949276215\n",
      "Total e: 4099.525210028475\n",
      "Total e: 3796.182746374351\n",
      "Total e: 3538.9712675476326\n",
      "Total e: 3315.9944178424\n",
      "Total e: 3119.588736559696\n",
      "Total e: 2944.445833538724\n",
      "Total e: 2786.6375218326857\n",
      "Total e: 2643.3264557754446\n",
      "Total e: 2512.2738737870327\n",
      "Total e: 2391.893525587292\n",
      "Total e: 2280.911442965885\n",
      "Total e: 2178.198898899558\n",
      "Total e: 2082.836580634517\n"
     ]
    },
    {
     "name": "stderr",
     "output_type": "stream",
     "text": [
      "\r",
      " 53%|█████▎    | 10/19 [44:13<39:47, 265.32s/it]"
     ]
    },
    {
     "name": "stdout",
     "output_type": "stream",
     "text": [
      "9line f1 score is 0.5335164161484686\n",
      "Total e: 6022.862505040806\n",
      "Total e: 4863.110799628414\n",
      "Total e: 4265.223415059064\n",
      "Total e: 3841.2838122106673\n",
      "Total e: 3513.0883829712725\n",
      "Total e: 3246.6378813455817\n",
      "Total e: 3023.4040154575046\n",
      "Total e: 2832.4089262236116\n",
      "Total e: 2666.1497855977204\n",
      "Total e: 2519.625560206953\n",
      "Total e: 2389.1031106319156\n",
      "Total e: 2271.950234874271\n",
      "Total e: 2165.94222704126\n",
      "Total e: 2069.42716781945\n",
      "Total e: 1981.154462490228\n",
      "Total e: 1899.990032946586\n",
      "Total e: 1825.1593565687745\n"
     ]
    },
    {
     "name": "stderr",
     "output_type": "stream",
     "text": [
      "\r",
      " 58%|█████▊    | 11/19 [48:34<35:19, 264.96s/it]"
     ]
    },
    {
     "name": "stdout",
     "output_type": "stream",
     "text": [
      "10line f1 score is 0.8273987859917343\n",
      "Total e: 8012.93973799908\n",
      "Total e: 6450.230235597797\n",
      "Total e: 5711.644839277176\n",
      "Total e: 5191.717839831312\n",
      "Total e: 4787.844711621622\n",
      "Total e: 4457.50064362985\n",
      "Total e: 4177.790846881189\n",
      "Total e: 3935.266701109818\n",
      "Total e: 3721.3847939121642\n",
      "Total e: 3530.44453687597\n",
      "Total e: 3358.240372421438\n",
      "Total e: 3201.793061196877\n",
      "Total e: 3058.725709139114\n",
      "Total e: 2927.2139316839002\n",
      "Total e: 2805.734535998892\n",
      "Total e: 2693.016843102004\n",
      "Total e: 2588.122660220558\n"
     ]
    },
    {
     "name": "stderr",
     "output_type": "stream",
     "text": [
      "\r",
      " 63%|██████▎   | 12/19 [52:58<30:53, 264.86s/it]"
     ]
    },
    {
     "name": "stdout",
     "output_type": "stream",
     "text": [
      "11line f1 score is 0.7697956790354208\n",
      "Total e: 9633.02490252035\n",
      "Total e: 7332.734363608683\n",
      "Total e: 6448.530378112539\n",
      "Total e: 5851.247549390056\n",
      "Total e: 5393.733025700736\n",
      "Total e: 5020.595168501984\n",
      "Total e: 4704.8981895547995\n",
      "Total e: 4431.121059904977\n",
      "Total e: 4190.008502665705\n",
      "Total e: 3974.7533402024874\n",
      "Total e: 3780.5912317692237\n",
      "Total e: 3604.126864329038\n",
      "Total e: 3442.6472290672355\n",
      "Total e: 3294.1651922194396\n",
      "Total e: 3157.007055087604\n",
      "Total e: 3029.738340069195\n",
      "Total e: 2911.2977308734007\n"
     ]
    },
    {
     "name": "stderr",
     "output_type": "stream",
     "text": [
      "\r",
      " 68%|██████▊   | 13/19 [57:23<26:29, 264.91s/it]"
     ]
    },
    {
     "name": "stdout",
     "output_type": "stream",
     "text": [
      "12line f1 score is 0.8628344452073348\n",
      "Total e: 7897.507523318713\n",
      "Total e: 5889.411154379003\n",
      "Total e: 5131.388350363808\n",
      "Total e: 4627.611878474591\n",
      "Total e: 4245.144327986803\n",
      "Total e: 3934.684201461714\n",
      "Total e: 3672.9765747908377\n",
      "Total e: 3446.5796524842713\n",
      "Total e: 3247.140431123817\n",
      "Total e: 3068.9447241697853\n",
      "Total e: 2908.293595347837\n",
      "Total e: 2762.2211095835087\n",
      "Total e: 2628.697703593648\n",
      "Total e: 2506.016196418023\n",
      "Total e: 2392.7458800615905\n",
      "Total e: 2287.8182530062118\n",
      "Total e: 2190.287463751205\n"
     ]
    },
    {
     "name": "stderr",
     "output_type": "stream",
     "text": [
      "\r",
      " 74%|███████▎  | 14/19 [1:01:47<22:04, 264.81s/it]"
     ]
    },
    {
     "name": "stdout",
     "output_type": "stream",
     "text": [
      "13line f1 score is 0.8556825666777175\n",
      "Total e: 8374.855156119174\n",
      "Total e: 5661.780438169427\n",
      "Total e: 4718.5458626652035\n",
      "Total e: 4132.298776474536\n",
      "Total e: 3708.2897590481816\n",
      "Total e: 3378.274738867371\n",
      "Total e: 3110.0659158793696\n",
      "Total e: 2885.5580161983476\n",
      "Total e: 2692.747168113474\n",
      "Total e: 2524.977396236877\n",
      "Total e: 2376.888006788489\n",
      "Total e: 2244.7164170151236\n",
      "Total e: 2125.838163543429\n",
      "Total e: 2018.1560858885855\n",
      "Total e: 1920.1252520242297\n",
      "Total e: 1830.4451753619705\n",
      "Total e: 1748.0222597241905\n"
     ]
    },
    {
     "name": "stderr",
     "output_type": "stream",
     "text": [
      "\r",
      " 79%|███████▉  | 15/19 [1:06:16<17:40, 265.13s/it]"
     ]
    },
    {
     "name": "stdout",
     "output_type": "stream",
     "text": [
      "14line f1 score is 0.9281238141272619\n",
      "Total e: 5532.595186827178\n",
      "Total e: 4448.4939690074225\n",
      "Total e: 3890.7087980804477\n",
      "Total e: 3490.2990607453517\n",
      "Total e: 3176.0752217965023\n",
      "Total e: 2918.741360910481\n",
      "Total e: 2701.8039434763314\n",
      "Total e: 2515.364766661047\n",
      "Total e: 2352.993577029025\n",
      "Total e: 2210.091913855725\n",
      "Total e: 2082.928123886106\n",
      "Total e: 1969.080961169163\n",
      "Total e: 1866.567461880998\n",
      "Total e: 1773.775241946015\n",
      "Total e: 1689.2835161292535\n",
      "Total e: 1612.011667066884\n",
      "Total e: 1541.112419448876\n"
     ]
    },
    {
     "name": "stderr",
     "output_type": "stream",
     "text": [
      "\r",
      " 84%|████████▍ | 16/19 [1:10:39<13:14, 264.97s/it]"
     ]
    },
    {
     "name": "stdout",
     "output_type": "stream",
     "text": [
      "15line f1 score is 0.8198260022410311\n",
      "Total e: 4532.841961217692\n",
      "Total e: 3390.7467296897926\n",
      "Total e: 2924.7969972090823\n",
      "Total e: 2614.606027029565\n",
      "Total e: 2379.38824185552\n",
      "Total e: 2188.7013531968523\n",
      "Total e: 2028.5161316722276\n",
      "Total e: 1890.6196958935077\n",
      "Total e: 1770.0153355011332\n",
      "Total e: 1663.2515446358325\n",
      "Total e: 1567.693081652258\n",
      "Total e: 1481.4654778225129\n",
      "Total e: 1403.2435874398557\n",
      "Total e: 1331.9741447017739\n",
      "Total e: 1266.769854030446\n",
      "Total e: 1206.8491821110097\n",
      "Total e: 1151.5897552059243\n"
     ]
    },
    {
     "name": "stderr",
     "output_type": "stream",
     "text": [
      "\r",
      " 89%|████████▉ | 17/19 [1:15:04<08:49, 264.99s/it]"
     ]
    },
    {
     "name": "stdout",
     "output_type": "stream",
     "text": [
      "16line f1 score is 0.8395477422050706\n",
      "Total e: 7844.726564164328\n",
      "Total e: 5454.829531483075\n",
      "Total e: 4577.217963282518\n",
      "Total e: 4012.837455015026\n",
      "Total e: 3595.315902923956\n",
      "Total e: 3264.891950182469\n",
      "Total e: 2992.3503376656395\n",
      "Total e: 2761.0158823615507\n",
      "Total e: 2560.755788412394\n",
      "Total e: 2384.974253314117\n",
      "Total e: 2229.069253363436\n",
      "Total e: 2089.528759816251\n",
      "Total e: 1963.636863692056\n",
      "Total e: 1849.3809667203795\n",
      "Total e: 1745.2416879745813\n",
      "Total e: 1650.0102582705986\n",
      "Total e: 1562.5417409578836\n"
     ]
    },
    {
     "name": "stderr",
     "output_type": "stream",
     "text": [
      "\r",
      " 95%|█████████▍| 18/19 [1:19:31<04:25, 265.07s/it]"
     ]
    },
    {
     "name": "stdout",
     "output_type": "stream",
     "text": [
      "17line f1 score is 0.6128405158658458\n",
      "Total e: 8543.08706632336\n",
      "Total e: 6918.591133432833\n",
      "Total e: 6123.926850366225\n",
      "Total e: 5564.349926074831\n",
      "Total e: 5128.2926255970015\n",
      "Total e: 4769.862636499477\n",
      "Total e: 4465.131682965117\n",
      "Total e: 4200.12699831885\n",
      "Total e: 3965.7439557009548\n",
      "Total e: 3755.855235673924\n",
      "Total e: 3566.2501554373475\n",
      "Total e: 3393.6715959435764\n",
      "Total e: 3235.56565508916\n",
      "Total e: 3089.934737061034\n",
      "Total e: 2955.3585940074645\n",
      "Total e: 2830.444090546835\n",
      "Total e: 2714.1740654375417\n"
     ]
    },
    {
     "name": "stderr",
     "output_type": "stream",
     "text": [
      "\r",
      "100%|██████████| 19/19 [1:23:54<00:00, 264.97s/it]"
     ]
    },
    {
     "name": "stdout",
     "output_type": "stream",
     "text": [
      "18line f1 score is 0.7252111456721024\n",
      "now is 4 fold\n"
     ]
    },
    {
     "name": "stderr",
     "output_type": "stream",
     "text": [
      "\n",
      "  0%|          | 0/19 [00:00<?, ?it/s]"
     ]
    },
    {
     "name": "stdout",
     "output_type": "stream",
     "text": [
      "Total e: 8138.223580325986\n",
      "Total e: 6560.056731922593\n",
      "Total e: 5841.042374584255\n",
      "Total e: 5344.091624028316\n",
      "Total e: 4957.495366060069\n",
      "Total e: 4638.407843918129\n",
      "Total e: 4366.107329390505\n",
      "Total e: 4127.929482264655\n",
      "Total e: 3916.2816483312326\n",
      "Total e: 3725.722320765204\n",
      "Total e: 3552.6329649193\n",
      "Total e: 3394.2959164155063\n",
      "Total e: 3248.552899632863\n",
      "Total e: 3113.7462675164716\n",
      "Total e: 2988.598917607884\n",
      "Total e: 2872.070838722576\n",
      "Total e: 2763.222965512485\n"
     ]
    },
    {
     "name": "stderr",
     "output_type": "stream",
     "text": [
      "\r",
      "  5%|▌         | 1/19 [04:21<1:18:33, 261.85s/it]"
     ]
    },
    {
     "name": "stdout",
     "output_type": "stream",
     "text": [
      "0line f1 score is 0.7197677911377053\n",
      "Total e: 4397.647087455814\n",
      "Total e: 3289.814069928917\n",
      "Total e: 2813.1617971330343\n",
      "Total e: 2489.8097624488587\n",
      "Total e: 2243.911563268932\n",
      "Total e: 2044.9959426840853\n",
      "Total e: 1878.3168238833407\n",
      "Total e: 1735.5342729534725\n",
      "Total e: 1611.188776697414\n",
      "Total e: 1501.3881903562556\n",
      "Total e: 1403.4689815850365\n",
      "Total e: 1315.4718506728689\n",
      "Total e: 1235.9638579179357\n",
      "Total e: 1163.872881923977\n",
      "Total e: 1098.1686389676981\n",
      "Total e: 1038.072021485754\n",
      "Total e: 982.9138968514673\n"
     ]
    },
    {
     "name": "stderr",
     "output_type": "stream",
     "text": [
      "\r",
      " 11%|█         | 2/19 [08:47<1:14:42, 263.69s/it]"
     ]
    },
    {
     "name": "stdout",
     "output_type": "stream",
     "text": [
      "1line f1 score is 0.8457649119438211\n",
      "Total e: 9734.313234510777\n",
      "Total e: 6918.225199416101\n",
      "Total e: 5837.390651628536\n",
      "Total e: 5154.963173161751\n",
      "Total e: 4656.7996147981685\n",
      "Total e: 4265.085907720144\n",
      "Total e: 3943.624471757443\n",
      "Total e: 3671.8489832754085\n",
      "Total e: 3437.3710395593944\n",
      "Total e: 3231.6454235020983\n",
      "Total e: 3049.153009707152\n",
      "Total e: 2885.7685005453704\n",
      "Total e: 2738.341159784377\n",
      "Total e: 2604.4388474235393\n",
      "Total e: 2482.206254314633\n",
      "Total e: 2370.1263756779704\n",
      "Total e: 2266.9008499040697\n"
     ]
    },
    {
     "name": "stderr",
     "output_type": "stream",
     "text": [
      "\r",
      " 16%|█▌        | 3/19 [13:13<1:10:33, 264.61s/it]"
     ]
    },
    {
     "name": "stdout",
     "output_type": "stream",
     "text": [
      "2line f1 score is 0.9280701933847184\n",
      "Total e: 5172.203995972752\n",
      "Total e: 3742.8489479342666\n",
      "Total e: 3149.2290161144347\n",
      "Total e: 2761.283561145459\n",
      "Total e: 2473.8270333287555\n",
      "Total e: 2246.584507566219\n",
      "Total e: 2059.2168334468124\n",
      "Total e: 1900.6471928871777\n",
      "Total e: 1763.902782805595\n",
      "Total e: 1644.3005631358199\n",
      "Total e: 1538.326840723244\n",
      "Total e: 1443.773078252942\n",
      "Total e: 1358.8723283168295\n",
      "Total e: 1282.2587261373103\n",
      "Total e: 1212.782522641289\n",
      "Total e: 1149.4647162476645\n",
      "Total e: 1091.4955930662134\n"
     ]
    },
    {
     "name": "stderr",
     "output_type": "stream",
     "text": [
      "\r",
      " 21%|██        | 4/19 [17:35<1:05:59, 263.96s/it]"
     ]
    },
    {
     "name": "stdout",
     "output_type": "stream",
     "text": [
      "3line f1 score is 0.8932209301412912\n",
      "Total e: 3688.3341804689335\n",
      "Total e: 2690.946204459316\n",
      "Total e: 2263.2447476441394\n",
      "Total e: 1980.6734551167835\n",
      "Total e: 1771.587133742802\n",
      "Total e: 1606.6508721787181\n",
      "Total e: 1471.344559814188\n",
      "Total e: 1357.4416680789216\n",
      "Total e: 1259.6285976598447\n",
      "Total e: 1174.452672669327\n",
      "Total e: 1099.4760968291637\n",
      "Total e: 1032.9429206144796\n",
      "Total e: 973.3339878707374\n",
      "Total e: 919.6758557144585\n",
      "Total e: 871.0945723773963\n",
      "Total e: 826.9318241446741\n",
      "Total e: 786.6139083664417\n"
     ]
    },
    {
     "name": "stderr",
     "output_type": "stream",
     "text": [
      "\r",
      " 26%|██▋       | 5/19 [21:58<1:01:32, 263.78s/it]"
     ]
    },
    {
     "name": "stdout",
     "output_type": "stream",
     "text": [
      "4line f1 score is 0.893258234747284\n",
      "Total e: 7776.822412021392\n",
      "Total e: 5122.903967164676\n",
      "Total e: 4227.004442625622\n",
      "Total e: 3677.6211871196747\n",
      "Total e: 3284.6022084799497\n",
      "Total e: 2980.440448097284\n",
      "Total e: 2733.597721072037\n",
      "Total e: 2526.5134979403883\n",
      "Total e: 2349.016468499259\n",
      "Total e: 2194.150858970888\n",
      "Total e: 2057.1562077346352\n",
      "Total e: 1934.9839837497461\n",
      "Total e: 1825.178984527563\n",
      "Total e: 1725.7854814581656\n",
      "Total e: 1635.3610504095468\n",
      "Total e: 1552.665634094772\n",
      "Total e: 1476.7719920922405\n"
     ]
    },
    {
     "name": "stderr",
     "output_type": "stream",
     "text": [
      "\r",
      " 32%|███▏      | 6/19 [26:20<57:04, 263.40s/it]  "
     ]
    },
    {
     "name": "stdout",
     "output_type": "stream",
     "text": [
      "5line f1 score is 0.6307166370197714\n",
      "Total e: 4869.452995925186\n",
      "Total e: 3777.3502582078368\n",
      "Total e: 3280.6340263981415\n",
      "Total e: 2940.304719369024\n",
      "Total e: 2680.2438069376262\n",
      "Total e: 2468.731964168769\n",
      "Total e: 2290.46585136394\n",
      "Total e: 2136.6865125913537\n",
      "Total e: 2001.7972259014853\n",
      "Total e: 1882.0993518239218\n",
      "Total e: 1774.8406986044863\n",
      "Total e: 1677.9466589793988\n",
      "Total e: 1589.9101927586723\n",
      "Total e: 1509.463307942387\n",
      "Total e: 1435.6759095425732\n",
      "Total e: 1367.786995346968\n",
      "Total e: 1305.1459548786588\n"
     ]
    },
    {
     "name": "stderr",
     "output_type": "stream",
     "text": [
      "\r",
      " 37%|███▋      | 7/19 [30:43<52:40, 263.36s/it]"
     ]
    },
    {
     "name": "stdout",
     "output_type": "stream",
     "text": [
      "6line f1 score is 0.8061043616265791\n",
      "Total e: 8776.175032408057\n",
      "Total e: 6797.308443109442\n",
      "Total e: 6004.208656736967\n",
      "Total e: 5463.685797996375\n",
      "Total e: 5047.305292680029\n",
      "Total e: 4706.734519468551\n",
      "Total e: 4417.65355685517\n",
      "Total e: 4166.366018928321\n",
      "Total e: 3943.9496702387114\n",
      "Total e: 3744.6761270521897\n",
      "Total e: 3564.3775358535286\n",
      "Total e: 3400.100306950534\n",
      "Total e: 3249.5311890411044\n",
      "Total e: 3110.68642649874\n",
      "Total e: 2982.3245729961995\n",
      "Total e: 2863.1639549734464\n",
      "Total e: 2752.104937815899\n"
     ]
    },
    {
     "name": "stderr",
     "output_type": "stream",
     "text": [
      "\r",
      " 42%|████▏     | 8/19 [35:09<48:20, 263.64s/it]"
     ]
    },
    {
     "name": "stdout",
     "output_type": "stream",
     "text": [
      "7line f1 score is 0.5407581113102585\n",
      "Total e: 6602.391766188008\n",
      "Total e: 4294.190027918601\n",
      "Total e: 3543.1452942168225\n",
      "Total e: 3069.4506510087217\n",
      "Total e: 2726.438093571246\n",
      "Total e: 2460.6898915396023\n",
      "Total e: 2244.3795152951816\n",
      "Total e: 2063.07636082526\n",
      "Total e: 1908.0912043408357\n",
      "Total e: 1773.653832934746\n",
      "Total e: 1655.5673137361164\n",
      "Total e: 1550.8172675284768\n",
      "Total e: 1457.2022213088421\n",
      "Total e: 1372.9184341066727\n",
      "Total e: 1296.64614480501\n",
      "Total e: 1227.332712023001\n",
      "Total e: 1164.0663079243354\n"
     ]
    },
    {
     "name": "stderr",
     "output_type": "stream",
     "text": [
      "\r",
      " 47%|████▋     | 9/19 [39:34<43:58, 263.84s/it]"
     ]
    },
    {
     "name": "stdout",
     "output_type": "stream",
     "text": [
      "8line f1 score is 0.9570802927099704\n",
      "Total e: 7276.765308720537\n",
      "Total e: 5678.815721159664\n",
      "Total e: 4979.760430251126\n",
      "Total e: 4499.1763343037\n",
      "Total e: 4127.633702889057\n",
      "Total e: 3823.203444186734\n",
      "Total e: 3564.7262867498157\n",
      "Total e: 3340.692181494764\n",
      "Total e: 3143.107719975724\n",
      "Total e: 2966.628405582366\n",
      "Total e: 2807.5231198852716\n",
      "Total e: 2663.033832840731\n",
      "Total e: 2530.964778581934\n",
      "Total e: 2409.6388977552006\n",
      "Total e: 2297.703820321832\n",
      "Total e: 2194.005550819032\n",
      "Total e: 2097.6666603947347\n"
     ]
    },
    {
     "name": "stderr",
     "output_type": "stream",
     "text": [
      "\r",
      " 53%|█████▎    | 10/19 [43:59<39:35, 263.92s/it]"
     ]
    },
    {
     "name": "stdout",
     "output_type": "stream",
     "text": [
      "9line f1 score is 0.7978021809290109\n",
      "Total e: 6098.561562179189\n",
      "Total e: 4916.819321921445\n",
      "Total e: 4310.623506532805\n",
      "Total e: 3882.834354829988\n",
      "Total e: 3551.7366733616486\n",
      "Total e: 3282.469404556274\n",
      "Total e: 3057.46736824079\n",
      "Total e: 2865.3009393837965\n",
      "Total e: 2698.075813492864\n",
      "Total e: 2550.6585746466094\n",
      "Total e: 2419.2178512075016\n",
      "Total e: 2301.1224466324175\n",
      "Total e: 2194.287337304132\n",
      "Total e: 2097.0270143715684\n",
      "Total e: 2008.1022548937801\n",
      "Total e: 1926.4780900197156\n",
      "Total e: 1851.1973888137172\n"
     ]
    },
    {
     "name": "stderr",
     "output_type": "stream",
     "text": [
      "\r",
      " 58%|█████▊    | 11/19 [48:24<35:12, 264.01s/it]"
     ]
    },
    {
     "name": "stdout",
     "output_type": "stream",
     "text": [
      "10line f1 score is 0.8264075698332201\n",
      "Total e: 8015.0675223387825\n",
      "Total e: 6464.993306880065\n",
      "Total e: 5731.304840808362\n",
      "Total e: 5214.179980627737\n",
      "Total e: 4812.028466426367\n",
      "Total e: 4482.404068019903\n",
      "Total e: 4203.144195956686\n",
      "Total e: 3960.6153898628277\n",
      "Total e: 3746.386100654776\n",
      "Total e: 3555.331799279152\n",
      "Total e: 3382.8572042260653\n",
      "Total e: 3225.8652099399037\n",
      "Total e: 3082.173809454863\n",
      "Total e: 2949.940900318713\n",
      "Total e: 2827.750299621895\n",
      "Total e: 2714.4356357151855\n",
      "Total e: 2608.9665860841183\n"
     ]
    },
    {
     "name": "stderr",
     "output_type": "stream",
     "text": [
      "\r",
      " 63%|██████▎   | 12/19 [52:48<30:48, 264.02s/it]"
     ]
    },
    {
     "name": "stdout",
     "output_type": "stream",
     "text": [
      "11line f1 score is 0.5374650738125096\n",
      "Total e: 9564.127807264931\n",
      "Total e: 7275.448288842419\n",
      "Total e: 6391.192140996492\n",
      "Total e: 5795.530129856074\n",
      "Total e: 5339.04611239474\n",
      "Total e: 4966.936181731215\n",
      "Total e: 4652.450840853166\n",
      "Total e: 4379.975708730355\n",
      "Total e: 4139.654109976072\n",
      "Total e: 3924.9572719381263\n",
      "Total e: 3731.538852177685\n",
      "Total e: 3555.6612375192676\n",
      "Total e: 3394.810361899481\n",
      "Total e: 3246.852723716974\n",
      "Total e: 3110.255648185332\n",
      "Total e: 2983.668383562389\n",
      "Total e: 2865.909118752662\n"
     ]
    },
    {
     "name": "stderr",
     "output_type": "stream",
     "text": [
      "\r",
      " 68%|██████▊   | 13/19 [57:10<26:23, 263.92s/it]"
     ]
    },
    {
     "name": "stdout",
     "output_type": "stream",
     "text": [
      "12line f1 score is 0.8410523621471405\n",
      "Total e: 7950.421713150864\n",
      "Total e: 5948.130290258568\n",
      "Total e: 5191.5943053660185\n",
      "Total e: 4686.848994390684\n",
      "Total e: 4301.826714097046\n",
      "Total e: 3988.928605193549\n",
      "Total e: 3724.5247072113457\n",
      "Total e: 3495.7539612803967\n",
      "Total e: 3294.0767262907843\n",
      "Total e: 3113.956394671797\n",
      "Total e: 2951.363396423095\n",
      "Total e: 2803.4700099240413\n",
      "Total e: 2668.187771160331\n",
      "Total e: 2543.8703251561496\n",
      "Total e: 2429.148743510517\n",
      "Total e: 2322.8254693351314\n",
      "Total e: 2223.9079229670824\n"
     ]
    },
    {
     "name": "stderr",
     "output_type": "stream",
     "text": [
      "\r",
      " 74%|███████▎  | 14/19 [1:01:34<21:59, 263.91s/it]"
     ]
    },
    {
     "name": "stdout",
     "output_type": "stream",
     "text": [
      "13line f1 score is 0.8755410295524358\n",
      "Total e: 8439.17863709398\n",
      "Total e: 5725.865590389422\n",
      "Total e: 4778.083276921806\n",
      "Total e: 4186.005989739206\n",
      "Total e: 3758.6005696869065\n",
      "Total e: 3426.082545031418\n",
      "Total e: 3155.07699023272\n",
      "Total e: 2927.650655304961\n",
      "Total e: 2732.7265122154336\n",
      "Total e: 2562.902832916022\n",
      "Total e: 2413.104509421636\n",
      "Total e: 2279.4769813746457\n",
      "Total e: 2159.3551882788747\n",
      "Total e: 2050.388688158127\n",
      "Total e: 1951.099160328535\n",
      "Total e: 1860.330548449047\n",
      "Total e: 1776.9104210634619\n"
     ]
    },
    {
     "name": "stderr",
     "output_type": "stream",
     "text": [
      "\r",
      " 79%|███████▉  | 15/19 [1:05:58<17:35, 263.89s/it]"
     ]
    },
    {
     "name": "stdout",
     "output_type": "stream",
     "text": [
      "14line f1 score is 0.9429893556852085\n",
      "Total e: 5426.56007418936\n",
      "Total e: 4376.922355581721\n",
      "Total e: 3830.1430228656777\n",
      "Total e: 3435.6837182556496\n",
      "Total e: 3125.442174505673\n",
      "Total e: 2870.9781382602464\n",
      "Total e: 2656.3897975461905\n",
      "Total e: 2471.799602815427\n",
      "Total e: 2311.0522700370766\n",
      "Total e: 2169.351293545188\n",
      "Total e: 2043.3679450687914\n",
      "Total e: 1930.6991120916123\n",
      "Total e: 1829.327374444634\n",
      "Total e: 1737.526415734677\n",
      "Total e: 1653.9737809882934\n",
      "Total e: 1577.659596753689\n",
      "Total e:"
     ]
    },
    {
     "name": "stderr",
     "output_type": "stream",
     "text": [
      "\r",
      " 84%|████████▍ | 16/19 [1:10:23<13:11, 263.98s/it]"
     ]
    },
    {
     "name": "stdout",
     "output_type": "stream",
     "text": [
      " 1507.702193814924\n",
      "15line f1 score is 0.7984794475977006\n",
      "Total e: 4573.665661495523\n",
      "Total e: 3423.454300023585\n",
      "Total e: 2953.8056247909735\n",
      "Total e: 2641.251104828662\n",
      "Total e: 2404.7055010572662\n",
      "Total e: 2213.0725709128774\n",
      "Total e: 2052.034384882164\n",
      "Total e: 1913.4774883391156\n",
      "Total e: 1792.0847634852182\n",
      "Total e: 1684.5015651334293\n",
      "Total e: 1588.2498133131269\n",
      "Total e: 1501.4331339435066\n",
      "Total e: 1422.6532168888978\n",
      "Total e: 1350.857256073739\n",
      "Total e: 1285.1192396252347\n",
      "Total e: 1224.6785273108262\n",
      "Total e: 1168.9348030628269\n"
     ]
    },
    {
     "name": "stderr",
     "output_type": "stream",
     "text": [
      "\r",
      " 89%|████████▉ | 17/19 [1:14:47<08:47, 264.00s/it]"
     ]
    },
    {
     "name": "stdout",
     "output_type": "stream",
     "text": [
      "16line f1 score is 0.852947793890322\n",
      "Total e: 7840.052204127753\n",
      "Total e: 5453.9161952712\n",
      "Total e: 4574.653995775803\n",
      "Total e: 4009.700421956143\n",
      "Total e: 3592.202103878762\n",
      "Total e: 3262.1601717145845\n",
      "Total e: 2989.9389769609843\n",
      "Total e: 2758.855724609408\n",
      "Total e: 2558.833433961419\n",
      "Total e: 2383.1509382875656\n",
      "Total e: 2227.191273026587\n",
      "Total e: 2087.4871434307875\n",
      "Total e: 1961.4679279058937\n",
      "Total e: 1847.1366243431642\n",
      "Total e: 1742.9342787323615\n",
      "Total e: 1647.6019422796473\n",
      "Total e:"
     ]
    },
    {
     "name": "stderr",
     "output_type": "stream",
     "text": [
      "\r",
      " 95%|█████████▍| 18/19 [1:19:15<04:24, 264.18s/it]"
     ]
    },
    {
     "name": "stdout",
     "output_type": "stream",
     "text": [
      " 1560.0301266414324\n",
      "17line f1 score is 0.6106587168391271\n",
      "Total e: 8511.231783094569\n",
      "Total e: 6881.674622365998\n",
      "Total e: 6087.958973705237\n",
      "Total e: 5529.608214382785\n",
      "Total e: 5094.7012284372295\n",
      "Total e: 4737.827444122656\n",
      "Total e: 4434.664070206825\n",
      "Total e: 4170.879080179011\n",
      "Total e: 3937.5378297254156\n",
      "Total e: 3728.7279741512007\n",
      "Total e: 3540.2102046430323\n",
      "Total e: 3368.693106760131\n",
      "Total e: 3211.630737541929\n",
      "Total e: 3067.0776363733876\n",
      "Total e: 2933.5617763355112\n",
      "Total e: 2809.7464227927217\n",
      "Total e: 2694.5100209094207\n"
     ]
    },
    {
     "name": "stderr",
     "output_type": "stream",
     "text": [
      "\r",
      "100%|██████████| 19/19 [1:23:38<00:00, 264.15s/it]"
     ]
    },
    {
     "name": "stdout",
     "output_type": "stream",
     "text": [
      "18line f1 score is 0.71572465150914\n",
      "now is 5 fold\n"
     ]
    },
    {
     "name": "stderr",
     "output_type": "stream",
     "text": [
      "\n",
      "  0%|          | 0/19 [00:00<?, ?it/s]"
     ]
    },
    {
     "name": "stdout",
     "output_type": "stream",
     "text": [
      "Total e: 8208.454147925997\n",
      "Total e: 6617.595438634168\n",
      "Total e: 5893.609300536171\n",
      "Total e: 5392.373183195369\n",
      "Total e: 5002.544450257206\n",
      "Total e: 4681.582927154929\n",
      "Total e: 4407.424665397049\n",
      "Total e: 4167.793402998837\n",
      "Total e: 3954.8289778342105\n",
      "Total e: 3763.279006225125\n",
      "Total e: 3589.2957145328273\n",
      "Total e: 3429.9420069281714\n",
      "Total e: 3283.2956250529696\n",
      "Total e: 3147.845365260595\n",
      "Total e: 3022.1256903759945\n",
      "Total e: 2905.025569785606\n",
      "Total e: 2795.644462846843\n"
     ]
    },
    {
     "name": "stderr",
     "output_type": "stream",
     "text": [
      "\r",
      "  5%|▌         | 1/19 [04:30<1:21:05, 270.30s/it]"
     ]
    },
    {
     "name": "stdout",
     "output_type": "stream",
     "text": [
      "0line f1 score is 0.7276655728974963\n",
      "Total e: 4326.343943059065\n",
      "Total e: 3240.8979306780875\n",
      "Total e: 2771.604094085952\n",
      "Total e: 2452.2258488451757\n",
      "Total e: 2208.574804383741\n",
      "Total e: 2011.616805326242\n",
      "Total e: 1846.4607065848343\n",
      "Total e: 1704.8523565679347\n",
      "Total e: 1581.3328840610386\n",
      "Total e: 1472.3535797812144\n",
      "Total e: 1375.337431402357\n",
      "Total e: 1288.2973846066966\n",
      "Total e: 1209.7082499980443\n",
      "Total e: 1138.3881769144898\n",
      "Total e: 1073.4519978884762\n",
      "Total e: 1014.1020330769807\n",
      "Total e:"
     ]
    },
    {
     "name": "stderr",
     "output_type": "stream",
     "text": [
      "\r",
      " 11%|█         | 2/19 [08:54<1:15:42, 267.21s/it]"
     ]
    },
    {
     "name": "stdout",
     "output_type": "stream",
     "text": [
      " 959.686293468107\n",
      "1line f1 score is 0.8335217602443729\n",
      "Total e: 9721.645967702372\n",
      "Total e: 6894.846060077706\n",
      "Total e: 5817.67546674783\n",
      "Total e: 5137.765890797588\n",
      "Total e: 4640.885507834875\n",
      "Total e: 4250.215608048106\n",
      "Total e: 3929.370948050843\n",
      "Total e: 3658.4439437446968\n",
      "Total e: 3424.394348155476\n",
      "Total e: 3218.997525959961\n",
      "Total e: 3036.7515945881073\n",
      "Total e: 2873.545843275861\n",
      "Total e: 2726.1616838003138\n",
      "Total e: 2592.26659626775\n",
      "Total e: 2469.988758457157\n",
      "Total e: 2357.8847684172415\n",
      "Total e: 2254.596602641584\n"
     ]
    },
    {
     "name": "stderr",
     "output_type": "stream",
     "text": [
      "\r",
      " 16%|█▌        | 3/19 [13:22<1:11:22, 267.65s/it]"
     ]
    },
    {
     "name": "stdout",
     "output_type": "stream",
     "text": [
      "2line f1 score is 0.926256776632796\n",
      "Total e: 5175.554490132088\n",
      "Total e: 3747.03220139051\n",
      "Total e: 3153.6817120853807\n",
      "Total e: 2765.185280686484\n",
      "Total e: 2478.0373548142948\n",
      "Total e: 2250.8163465581656\n",
      "Total e: 2063.3241051929795\n",
      "Total e: 1904.3281889025284\n",
      "Total e: 1767.0422147002664\n",
      "Total e: 1646.7921007831787\n",
      "Total e: 1540.3952191896988\n",
      "Total e: 1445.3952212191662\n",
      "Total e: 1360.09715759358\n",
      "Total e: 1283.1182127121158\n",
      "Total e: 1213.273016783059\n",
      "Total e: 1149.5746356223726\n",
      "Total e: 1091.2813925243063\n"
     ]
    },
    {
     "name": "stderr",
     "output_type": "stream",
     "text": [
      "\r",
      " 21%|██        | 4/19 [17:46<1:06:41, 266.75s/it]"
     ]
    },
    {
     "name": "stdout",
     "output_type": "stream",
     "text": [
      "3line f1 score is 0.9023358362613378\n",
      "Total e: 3663.260314974919\n",
      "Total e: 2674.267624449698\n",
      "Total e: 2248.920994723313\n",
      "Total e: 1966.7318871561395\n",
      "Total e: 1757.4108586963828\n",
      "Total e: 1592.6343442294178\n",
      "Total e: 1457.8957049593266\n",
      "Total e: 1344.7553837246148\n",
      "Total e: 1247.44676073\n",
      "Total e: 1162.6938038796725\n",
      "Total e: 1088.0967582448227\n",
      "Total e: 1021.9036161536334\n",
      "Total e: 962.7369195476949\n",
      "Total e: 909.5079839477025\n",
      "Total e: 861.3265763241951\n",
      "Total e: 817.5354548217413\n",
      "Total e: 777.5712861109052\n"
     ]
    },
    {
     "name": "stderr",
     "output_type": "stream",
     "text": [
      "\r",
      " 26%|██▋       | 5/19 [22:08<1:02:00, 265.78s/it]"
     ]
    },
    {
     "name": "stdout",
     "output_type": "stream",
     "text": [
      "4line f1 score is 0.8906696972633594\n",
      "Total e: 7748.708670067875\n",
      "Total e: 5106.494003236508\n",
      "Total e: 4213.467778485178\n",
      "Total e: 3665.5695620204388\n",
      "Total e: 3273.189255124497\n",
      "Total e: 2969.4890015514666\n",
      "Total e: 2723.09515997422\n",
      "Total e: 2516.794900514559\n",
      "Total e: 2339.9408834149517\n",
      "Total e: 2185.8129441920714\n",
      "Total e: 2049.696105715213\n",
      "Total e: 1928.2982288637163\n",
      "Total e: 1819.1486681305796\n",
      "Total e: 1720.3046575350504\n",
      "Total e: 1630.3566287329495\n",
      "Total e: 1548.0778309394032\n",
      "Total e: 1472.499563530432\n"
     ]
    },
    {
     "name": "stderr",
     "output_type": "stream",
     "text": [
      "\r",
      " 32%|███▏      | 6/19 [26:34<57:35, 265.83s/it]  "
     ]
    },
    {
     "name": "stdout",
     "output_type": "stream",
     "text": [
      "5line f1 score is 0.939126598036183\n",
      "Total e: 4907.1357854433\n",
      "Total e: 3806.4214542015843\n",
      "Total e: 3306.5297232652947\n",
      "Total e: 2964.733509541636\n",
      "Total e: 2703.2043190075483\n",
      "Total e: 2490.8026480524077\n",
      "Total e: 2311.681762844586\n",
      "Total e: 2156.932464905403\n",
      "Total e: 2021.160461203863\n",
      "Total e: 1900.5262761427964\n",
      "Total e: 1792.2956039424475\n",
      "Total e: 1694.4961764117904\n",
      "Total e: 1605.5800730971462\n",
      "Total e: 1524.3783502790395\n",
      "Total e: 1449.909129425793\n",
      "Total e: 1381.3166119557557\n",
      "Total e: 1317.9126134523085\n"
     ]
    },
    {
     "name": "stderr",
     "output_type": "stream",
     "text": [
      "\r",
      " 37%|███▋      | 7/19 [31:03<53:14, 266.22s/it]"
     ]
    },
    {
     "name": "stdout",
     "output_type": "stream",
     "text": [
      "6line f1 score is 0.814626877534915\n",
      "Total e: 8812.1830936957\n",
      "Total e: 6836.4112717164135\n",
      "Total e: 6041.511228278894\n",
      "Total e: 5500.596119155426\n",
      "Total e: 5083.804064772413\n",
      "Total e: 4743.064634666505\n",
      "Total e: 4453.588565840087\n",
      "Total e: 4201.918785178134\n",
      "Total e: 3979.106832939269\n",
      "Total e: 3779.3502992932445\n",
      "Total e: 3598.632659661146\n",
      "Total e: 3433.8870960293425\n",
      "Total e: 3282.879262045149\n",
      "Total e: 3143.680644432419\n",
      "Total e: 3014.8441309663986\n",
      "Total e: 2895.236092458746\n",
      "Total e: 2783.8247467071183\n"
     ]
    },
    {
     "name": "stderr",
     "output_type": "stream",
     "text": [
      "\r",
      " 42%|████▏     | 8/19 [35:29<48:48, 266.18s/it]"
     ]
    },
    {
     "name": "stdout",
     "output_type": "stream",
     "text": [
      "7line f1 score is 0.5636867157036958\n",
      "Total e: 6623.007003488184\n",
      "Total e: 4308.516933059072\n",
      "Total e: 3556.264480290757\n",
      "Total e: 3082.8794983743\n",
      "Total e: 2739.468262699493\n",
      "Total e: 2472.5890342400703\n",
      "Total e: 2255.6132904086044\n",
      "Total e: 2073.8863687541984\n",
      "Total e: 1918.6013750266354\n",
      "Total e: 1783.9320564920079\n",
      "Total e: 1665.684349987467\n",
      "Total e: 1560.806080372324\n",
      "Total e: 1467.1296245576932\n",
      "Total e: 1382.901699596327\n",
      "Total e: 1306.7716883943021\n",
      "Total e: 1237.5999928830795\n",
      "Total e:"
     ]
    },
    {
     "name": "stderr",
     "output_type": "stream",
     "text": [
      "\r",
      " 47%|████▋     | 9/19 [39:54<44:20, 266.10s/it]"
     ]
    },
    {
     "name": "stdout",
     "output_type": "stream",
     "text": [
      " 1174.4986066864253\n",
      "8line f1 score is 0.9650241592290001\n",
      "Total e: 7280.422657969112\n",
      "Total e: 5670.392533077235\n",
      "Total e: 4969.403640452459\n",
      "Total e: 4489.272548427978\n",
      "Total e: 4118.611957698367\n",
      "Total e: 3814.7634043071816\n",
      "Total e: 3557.2753508617607\n",
      "Total e: 3333.9599245436984\n",
      "Total e: 3137.086804169717\n",
      "Total e: 2961.2768993287987\n",
      "Total e: 2802.866820908863\n",
      "Total e: 2658.901932432681\n",
      "Total e: 2527.3948539718526\n",
      "Total e: 2406.6296492224706\n",
      "Total e: 2295.22666037488\n",
      "Total e: 2192.0763067442253\n",
      "Total e: 2096.2620189978998\n"
     ]
    },
    {
     "name": "stderr",
     "output_type": "stream",
     "text": [
      "\r",
      " 53%|█████▎    | 10/19 [44:21<39:55, 266.15s/it]"
     ]
    },
    {
     "name": "stdout",
     "output_type": "stream",
     "text": [
      "9line f1 score is 0.7890157204928991\n",
      "Total e: 5995.388527282899\n",
      "Total e: 4831.238515337488\n",
      "Total e: 4233.230991351109\n",
      "Total e: 3810.6016517424337\n",
      "Total e: 3483.1609207536894\n",
      "Total e: 3217.019189378578\n",
      "Total e: 2994.474672618842\n",
      "Total e: 2804.4123944213134\n",
      "Total e: 2639.193111388261\n",
      "Total e: 2493.628905329774\n",
      "Total e: 2363.9371870854598\n",
      "Total e: 2247.3798898818673\n",
      "Total e: 2142.0649473308745\n",
      "Total e: 2046.3312503465786\n",
      "Total e: 1958.7975676080266\n",
      "Total e: 1878.43913735727\n",
      "Total e: 1804.3459450729836\n"
     ]
    },
    {
     "name": "stderr",
     "output_type": "stream",
     "text": [
      "\r",
      " 58%|█████▊    | 11/19 [48:49<35:30, 266.31s/it]"
     ]
    },
    {
     "name": "stdout",
     "output_type": "stream",
     "text": [
      "10line f1 score is 0.8123707809358394\n",
      "Total e: 7984.241350450975\n",
      "Total e: 6430.182849888437\n",
      "Total e: 5695.526075476424\n",
      "Total e: 5178.155210788228\n",
      "Total e: 4776.780216401085\n",
      "Total e: 4448.25328589469\n",
      "Total e: 4169.603618444186\n",
      "Total e: 3927.7736156770397\n",
      "Total e: 3714.326132485523\n",
      "Total e: 3523.6326566954367\n",
      "Total e: 3351.650480063057\n",
      "Total e: 3195.44361959765\n",
      "Total e: 3052.6369048952192\n",
      "Total e: 2921.2670575751463\n",
      "Total e: 2799.9163532517455\n",
      "Total e: 2687.389458571637\n",
      "Total e:"
     ]
    },
    {
     "name": "stderr",
     "output_type": "stream",
     "text": [
      "\r",
      " 63%|██████▎   | 12/19 [53:14<31:03, 266.22s/it]"
     ]
    },
    {
     "name": "stdout",
     "output_type": "stream",
     "text": [
      " 2582.6511732014988\n",
      "11line f1 score is 0.518901849715452\n",
      "Total e: 9605.290512989139\n",
      "Total e: 7310.157061351412\n",
      "Total e: 6425.250940710005\n",
      "Total e: 5828.9040079255865\n",
      "Total e: 5371.933658093868\n",
      "Total e: 4999.587088972456\n",
      "Total e: 4684.8933093989235\n",
      "Total e: 4412.215988134796\n",
      "Total e: 4171.865804104108\n",
      "Total e: 3957.20944742205\n",
      "Total e: 3763.7470853512377\n",
      "Total e: 3587.845922056894\n",
      "Total e: 3426.9057700788503\n",
      "Total e: 3278.899400532087\n",
      "Total e: 3142.1084182158675\n",
      "Total e: 3015.1987724769187\n",
      "Total e:"
     ]
    },
    {
     "name": "stderr",
     "output_type": "stream",
     "text": [
      "\r",
      " 68%|██████▊   | 13/19 [57:41<26:37, 266.23s/it]"
     ]
    },
    {
     "name": "stdout",
     "output_type": "stream",
     "text": [
      " 2897.1347394538025\n",
      "12line f1 score is 0.8487244138723706\n",
      "Total e: 7984.447581516413\n",
      "Total e: 5968.224171511091\n",
      "Total e: 5199.949582769629\n",
      "Total e: 4688.356141087302\n",
      "Total e: 4299.21784191461\n",
      "Total e: 3983.4173227561064\n",
      "Total e: 3717.0707576165996\n",
      "Total e: 3486.6410680099716\n",
      "Total e: 3283.687588548064\n",
      "Total e: 3102.541131650094\n",
      "Total e: 2939.3382579707604\n",
      "Total e: 2791.272409487094\n",
      "Total e: 2655.9629065355216\n",
      "Total e: 2531.5866194286336\n",
      "Total e: 2416.903203029419\n",
      "Total e: 2310.6187801525843\n",
      "Total e: 2211.807079399948\n"
     ]
    },
    {
     "name": "stderr",
     "output_type": "stream",
     "text": [
      "\r",
      " 74%|███████▎  | 14/19 [1:02:05<22:10, 266.13s/it]"
     ]
    },
    {
     "name": "stdout",
     "output_type": "stream",
     "text": [
      "13line f1 score is 0.8680954853898353\n",
      "Total e: 8393.800897468469\n",
      "Total e: 5679.424673360132\n",
      "Total e: 4733.097301776076\n",
      "Total e: 4144.282034098428\n",
      "Total e: 3718.705987775059\n",
      "Total e: 3387.9947313553944\n",
      "Total e: 3118.9400360962395\n",
      "Total e: 2893.557619850218\n",
      "Total e: 2700.381679986467\n",
      "Total e: 2532.1265802952103\n",
      "Total e: 2383.475375091636\n",
      "Total e: 2250.8141618504587\n",
      "Total e: 2131.5129619877116\n",
      "Total e: 2023.4960445403335\n",
      "Total e: 1925.1354851381336\n",
      "Total e: 1835.1674300932941\n",
      "Total e: 1752.5057628239756\n"
     ]
    },
    {
     "name": "stderr",
     "output_type": "stream",
     "text": [
      "\r",
      " 79%|███████▉  | 15/19 [1:06:33<17:45, 266.25s/it]"
     ]
    },
    {
     "name": "stdout",
     "output_type": "stream",
     "text": [
      "14line f1 score is 0.9372602344739305\n",
      "Total e: 5475.488565997122\n",
      "Total e: 4406.076093657319\n",
      "Total e: 3848.945944405176\n",
      "Total e: 3448.9059316683924\n",
      "Total e: 3135.403645338325\n",
      "Total e: 2878.4613522725676\n",
      "Total e: 2662.2523312137473\n",
      "Total e: 2476.886581385566\n",
      "Total e: 2315.5703184374547\n",
      "Total e: 2173.5007761109387\n",
      "Total e: 2047.2950229442656\n",
      "Total e: 1934.4968934072701\n",
      "Total e: 1832.8642164844593\n",
      "Total e: 1740.8158069177753\n",
      "Total e: 1657.177262464853\n",
      "Total e: 1580.7712569705104\n",
      "Total e: 1510.712125957895\n"
     ]
    },
    {
     "name": "stderr",
     "output_type": "stream",
     "text": [
      "\r",
      " 84%|████████▍ | 16/19 [1:11:00<13:18, 266.31s/it]"
     ]
    },
    {
     "name": "stdout",
     "output_type": "stream",
     "text": [
      "15line f1 score is 0.7859537156542796\n",
      "Total e: 4518.152990748629\n",
      "Total e: 3367.420185406704\n",
      "Total e: 2901.692394214239\n",
      "Total e: 2592.2337833735555\n",
      "Total e: 2357.666771673366\n",
      "Total e: 2168.194508330838\n",
      "Total e: 2008.9315122357636\n",
      "Total e: 1872.043354868904\n",
      "Total e: 1752.2829314904734\n",
      "Total e: 1646.1503253952158\n",
      "Total e: 1551.1192546677585\n",
      "Total e: 1465.3171950155154\n",
      "Total e: 1387.483458502177\n",
      "Total e: 1316.4974734137697\n",
      "Total e: 1251.4714718091989\n",
      "Total e: 1191.738564209608\n",
      "Total e:"
     ]
    },
    {
     "name": "stderr",
     "output_type": "stream",
     "text": [
      "\r",
      " 89%|████████▉ | 17/19 [1:15:29<08:52, 266.44s/it]"
     ]
    },
    {
     "name": "stdout",
     "output_type": "stream",
     "text": [
      " 1136.6827083812473\n",
      "16line f1 score is 0.8212212072792892\n",
      "Total e: 7842.506199355752\n",
      "Total e: 5462.745708044521\n",
      "Total e: 4585.072250445902\n",
      "Total e: 4021.9407601453745\n",
      "Total e: 3605.696191686693\n",
      "Total e: 3276.2805429039577\n",
      "Total e: 3004.4584632062647\n",
      "Total e: 2773.7869174525867\n",
      "Total e: 2574.0073112021882\n",
      "Total e: 2398.5533455529685\n",
      "Total e: 2242.6101761731265\n",
      "Total e: 2102.8411179748523\n",
      "Total e: 1976.7605069877418\n",
      "Total e: 1862.3008008577985\n",
      "Total e: 1757.938029502478\n",
      "Total e: 1662.4064543471004\n",
      "Total e: 1574.7087363951823\n"
     ]
    },
    {
     "name": "stderr",
     "output_type": "stream",
     "text": [
      "\r",
      " 95%|█████████▍| 18/19 [1:20:00<04:26, 266.68s/it]"
     ]
    },
    {
     "name": "stdout",
     "output_type": "stream",
     "text": [
      "17line f1 score is 0.9329021596367901\n",
      "Total e: 8547.240670851004\n",
      "Total e: 6917.201799860261\n",
      "Total e: 6119.575887112235\n",
      "Total e: 5557.656291383474\n",
      "Total e: 5120.360609909966\n",
      "Total e: 4760.750491398193\n",
      "Total e: 4455.329622421723\n",
      "Total e: 4189.71971091489\n",
      "Total e: 3954.928617679425\n",
      "Total e: 3744.617922065219\n",
      "Total e: 3554.74251529059\n",
      "Total e: 3382.0823855413396\n",
      "Total e: 3224.053542326081\n",
      "Total e: 3078.5227930455662\n",
      "Total e: 2943.9909099510487\n",
      "Total e: 2819.1903640983096\n",
      "Total e: 2703.0603308024038\n"
     ]
    },
    {
     "name": "stderr",
     "output_type": "stream",
     "text": [
      "\r",
      "100%|██████████| 19/19 [1:24:25<00:00, 266.63s/it]"
     ]
    },
    {
     "name": "stdout",
     "output_type": "stream",
     "text": [
      "18line f1 score is 0.7350413640541301\n",
      "now is 6 fold\n"
     ]
    },
    {
     "name": "stderr",
     "output_type": "stream",
     "text": [
      "\n",
      "  0%|          | 0/19 [00:00<?, ?it/s]"
     ]
    },
    {
     "name": "stdout",
     "output_type": "stream",
     "text": [
      "Total e: 8150.294693887683\n",
      "Total e: 6562.643802402114\n",
      "Total e: 5843.573023735234\n",
      "Total e: 5346.711390737804\n",
      "Total e: 4960.705590436745\n",
      "Total e: 4642.351870073809\n",
      "Total e: 4370.703682726256\n",
      "Total e: 4133.253201338968\n",
      "Total e: 3922.149763805453\n",
      "Total e: 3732.264198475508\n",
      "Total e: 3559.9183827402103\n",
      "Total e: 3402.3201004404414\n",
      "Total e: 3257.280585827151\n",
      "Total e: 3123.0557069294036\n",
      "Total e: 2998.3642277764948\n",
      "Total e: 2882.169550413183\n",
      "Total e: 2773.6038280479747\n"
     ]
    },
    {
     "name": "stderr",
     "output_type": "stream",
     "text": [
      "\r",
      "  5%|▌         | 1/19 [04:24<1:19:23, 264.62s/it]"
     ]
    },
    {
     "name": "stdout",
     "output_type": "stream",
     "text": [
      "0line f1 score is 0.4813182076580604\n",
      "Total e: 4395.6966045049285\n",
      "Total e: 3300.6888911727624\n",
      "Total e: 2823.968242645502\n",
      "Total e: 2499.8279428536866\n",
      "Total e: 2252.979385629031\n",
      "Total e: 2053.2551352373794\n",
      "Total e: 1886.053264619597\n",
      "Total e: 1742.8762489153091\n",
      "Total e: 1618.0490266151778\n",
      "Total e: 1507.8363483186574\n",
      "Total e: 1409.6285388631504\n",
      "Total e: 1321.452167702615\n",
      "Total e: 1241.843952596626\n",
      "Total e: 1169.5722734472286\n",
      "Total e: 1103.7382984508622\n",
      "Total e: 1043.5946600132218\n",
      "Total e: 988.4510222303627\n"
     ]
    },
    {
     "name": "stderr",
     "output_type": "stream",
     "text": [
      "\r",
      " 11%|█         | 2/19 [08:47<1:14:45, 263.86s/it]"
     ]
    },
    {
     "name": "stdout",
     "output_type": "stream",
     "text": [
      "1line f1 score is 0.853915997731264\n",
      "Total e: 9719.257267820894\n",
      "Total e: 6892.44948027032\n",
      "Total e: 5812.802105690133\n",
      "Total e: 5131.719188294215\n",
      "Total e: 4634.633524534783\n",
      "Total e: 4244.688740612151\n",
      "Total e: 3924.3069543135693\n",
      "Total e: 3653.9389236667944\n",
      "Total e: 3420.343419002384\n",
      "Total e: 3215.4309284000838\n",
      "Total e: 3033.5318988081167\n",
      "Total e: 2870.5746279948426\n",
      "Total e: 2723.451877365867\n",
      "Total e: 2589.811381277434\n",
      "Total e: 2467.7894552315097\n",
      "Total e: 2355.892451348604\n",
      "Total e: 2252.883807366996\n"
     ]
    },
    {
     "name": "stderr",
     "output_type": "stream",
     "text": [
      "\r",
      " 16%|█▌        | 3/19 [13:15<1:10:43, 265.24s/it]"
     ]
    },
    {
     "name": "stdout",
     "output_type": "stream",
     "text": [
      "2line f1 score is 0.926256776632796\n",
      "Total e: 5173.272403005652\n",
      "Total e: 3748.001516444916\n",
      "Total e: 3156.036810576773\n",
      "Total e: 2768.089712178858\n",
      "Total e: 2480.5412968259\n",
      "Total e: 2252.8838581998343\n",
      "Total e: 2065.0581737197194\n",
      "Total e: 1905.9089236459786\n",
      "Total e: 1768.5649289096684\n",
      "Total e: 1648.4359647736615\n",
      "Total e: 1542.18160365583\n",
      "Total e: 1447.4385509567799\n",
      "Total e: 1362.4112677815717\n",
      "Total e: 1285.5678162492309\n",
      "Total e: 1215.8039266362296\n",
      "Total e: 1152.219855899585\n",
      "Total e: 1094.0543423253016\n"
     ]
    },
    {
     "name": "stderr",
     "output_type": "stream",
     "text": [
      "\r",
      " 21%|██        | 4/19 [17:42<1:06:26, 265.74s/it]"
     ]
    },
    {
     "name": "stdout",
     "output_type": "stream",
     "text": [
      "3line f1 score is 0.9086522001887449\n",
      "Total e: 3663.228818467624\n",
      "Total e: 2675.182210241025\n",
      "Total e: 2249.9335204477266\n",
      "Total e: 1967.9558807073745\n",
      "Total e: 1759.4962742916962\n",
      "Total e: 1594.7390410300534\n",
      "Total e: 1459.8397001675808\n",
      "Total e: 1346.4585779649492\n",
      "Total e: 1249.1154703338836\n",
      "Total e: 1164.5281889944588\n",
      "Total e: 1090.2043339081072\n",
      "Total e: 1024.3009367003015\n",
      "Total e: 965.3282255060956\n",
      "Total e: 912.2750477895263\n",
      "Total e: 864.2390172933862\n",
      "Total e: 820.5748626379507\n",
      "Total e: 780.7446635167397\n"
     ]
    },
    {
     "name": "stderr",
     "output_type": "stream",
     "text": [
      "\r",
      " 26%|██▋       | 5/19 [22:09<1:02:03, 265.93s/it]"
     ]
    },
    {
     "name": "stdout",
     "output_type": "stream",
     "text": [
      "4line f1 score is 0.8846739213879932\n",
      "Total e: 7777.393058053897\n",
      "Total e: 5126.355064000398\n",
      "Total e: 4232.495711702885\n",
      "Total e: 3684.630313349008\n",
      "Total e: 3292.391758204206\n",
      "Total e: 2988.4396181376296\n",
      "Total e: 2741.2719219009477\n",
      "Total e: 2533.9758256341447\n",
      "Total e: 2356.0475504108754\n",
      "Total e: 2200.7682432294127\n",
      "Total e: 2063.6519666452646\n",
      "Total e: 1941.439050996719\n",
      "Total e: 1831.4656728341918\n",
      "Total e: 1731.8152449049771\n",
      "Total e: 1640.988723136926\n",
      "Total e: 1557.8497272732839\n",
      "Total e: 1481.4833778714271\n"
     ]
    },
    {
     "name": "stderr",
     "output_type": "stream",
     "text": [
      "\r",
      " 32%|███▏      | 6/19 [26:34<57:34, 265.75s/it]  "
     ]
    },
    {
     "name": "stdout",
     "output_type": "stream",
     "text": [
      "5line f1 score is 0.9460777126835921\n",
      "Total e: 4894.449778171106\n",
      "Total e: 3796.0850912138294\n",
      "Total e: 3296.5603919603873\n",
      "Total e: 2954.5654439541604\n",
      "Total e: 2692.8350640848007\n",
      "Total e: 2480.5338189458585\n",
      "Total e: 2301.8553703702914\n",
      "Total e: 2147.4608849664087\n",
      "Total e: 2011.9626324941378\n",
      "Total e: 1891.6886041781718\n",
      "Total e: 1783.8179096566648\n",
      "Total e: 1686.3280140459615\n",
      "Total e: 1597.7181559269225\n",
      "Total e: 1516.8054442399068\n",
      "Total e: 1442.5612710076962\n",
      "Total e: 1374.2276166019335\n",
      "Total e: 1311.132861292496\n"
     ]
    },
    {
     "name": "stderr",
     "output_type": "stream",
     "text": [
      "\r",
      " 37%|███▋      | 7/19 [30:59<53:08, 265.68s/it]"
     ]
    },
    {
     "name": "stdout",
     "output_type": "stream",
     "text": [
      "6line f1 score is 0.807889269057458\n",
      "Total e: 8744.788892332544\n",
      "Total e: 6766.998232581289\n",
      "Total e: 5976.7380536108985\n",
      "Total e: 5438.446280852286\n",
      "Total e: 5023.337517244628\n",
      "Total e: 4683.524139463368\n",
      "Total e: 4394.90333326101\n",
      "Total e: 4143.798974567471\n",
      "Total e: 3921.756326562879\n",
      "Total e: 3722.92089637296\n",
      "Total e: 3543.0606896791564\n",
      "Total e: 3379.2256174882455\n",
      "Total e: 3229.1496293911077\n",
      "Total e: 3091.0194872593866\n",
      "Total e: 2963.2406953425266\n",
      "Total e: 2844.5951971177733\n",
      "Total e: 2734.103717209138\n"
     ]
    },
    {
     "name": "stderr",
     "output_type": "stream",
     "text": [
      "\r",
      " 42%|████▏     | 8/19 [35:24<48:40, 265.50s/it]"
     ]
    },
    {
     "name": "stdout",
     "output_type": "stream",
     "text": [
      "7line f1 score is 0.5442840397421151\n",
      "Total e: 6617.705619968268\n",
      "Total e: 4301.27061827872\n",
      "Total e: 3545.9211875223164\n",
      "Total e: 3070.9240821806748\n",
      "Total e: 2727.4297920979016\n",
      "Total e: 2460.4158355512013\n",
      "Total e: 2243.8130734421648\n",
      "Total e: 2062.4797028985677\n",
      "Total e: 1907.771531150477\n",
      "Total e: 1773.6853427185474\n",
      "Total e: 1655.9592962762526\n",
      "Total e: 1551.666519673634\n",
      "Total e: 1458.444029444742\n",
      "Total e: 1374.5563305330804\n",
      "Total e: 1298.6730680196574\n",
      "Total e: 1229.693499006356\n",
      "Total e: 1166.7091676392113\n"
     ]
    },
    {
     "name": "stderr",
     "output_type": "stream",
     "text": [
      "\r",
      " 47%|████▋     | 9/19 [39:46<44:12, 265.21s/it]"
     ]
    },
    {
     "name": "stdout",
     "output_type": "stream",
     "text": [
      "8line f1 score is 0.954594556200409\n",
      "Total e: 7291.040841126065\n",
      "Total e: 5681.748760408189\n",
      "Total e: 4979.095648196517\n",
      "Total e: 4495.832774175673\n",
      "Total e: 4122.562575142146\n",
      "Total e: 3817.6576984401822\n",
      "Total e: 3559.3892552998973\n",
      "Total e: 3335.594994161106\n",
      "Total e: 3138.4909315027894\n",
      "Total e: 2962.356091379296\n",
      "Total e: 2803.6717173065485\n",
      "Total e: 2659.6191140752926\n",
      "Total e: 2528.004865056462\n",
      "Total e: 2407.0589894867408\n",
      "Total e: 2295.4674999914614\n",
      "Total e: 2192.1240134658296\n",
      "Total e:"
     ]
    },
    {
     "name": "stderr",
     "output_type": "stream",
     "text": [
      "\r",
      " 53%|█████▎    | 10/19 [44:12<39:47, 265.29s/it]"
     ]
    },
    {
     "name": "stdout",
     "output_type": "stream",
     "text": [
      " 2096.1259331698925\n",
      "9line f1 score is 0.8024801486523093\n",
      "Total e: 6025.117415107561\n",
      "Total e: 4854.151123889987\n",
      "Total e: 4252.011068117628\n",
      "Total e: 3827.2019812072776\n",
      "Total e: 3499.0900045363655\n",
      "Total e: 3232.3472665409313\n",
      "Total e: 3009.344397778335\n",
      "Total e: 2818.805458217477\n",
      "Total e: 2653.1271581396477\n",
      "Total e: 2507.155797721631\n",
      "Total e: 2377.1032528317955\n",
      "Total e: 2260.4280594510824\n",
      "Total e: 2154.8198656707305\n",
      "Total e: 2058.6523675655067\n",
      "Total e: 1970.7167200963995\n",
      "Total e: 1889.918611965826\n",
      "Total e: 1815.450354207258\n"
     ]
    },
    {
     "name": "stderr",
     "output_type": "stream",
     "text": [
      "\r",
      " 58%|█████▊    | 11/19 [48:38<35:22, 265.32s/it]"
     ]
    },
    {
     "name": "stdout",
     "output_type": "stream",
     "text": [
      "10line f1 score is 0.8077235096345035\n",
      "Total e: 8018.165111682394\n",
      "Total e: 6458.797258554109\n",
      "Total e: 5722.970935273491\n",
      "Total e: 5203.975876133409\n",
      "Total e: 4800.718041457353\n",
      "Total e: 4470.368128404284\n",
      "Total e: 4190.151623127443\n",
      "Total e: 3946.8509867001426\n",
      "Total e: 3731.9362448427655\n",
      "Total e: 3540.0894024864047\n",
      "Total e: 3367.126514773751\n",
      "Total e: 3209.982706482228\n",
      "Total e: 3066.244377666195\n",
      "Total e: 2934.061753757986\n",
      "Total e: 2811.9961342729816\n",
      "Total e: 2698.7637723957787\n",
      "Total e: 2593.374982013268\n"
     ]
    },
    {
     "name": "stderr",
     "output_type": "stream",
     "text": [
      "\r",
      " 63%|██████▎   | 12/19 [53:03<30:57, 265.29s/it]"
     ]
    },
    {
     "name": "stdout",
     "output_type": "stream",
     "text": [
      "11line f1 score is 0.8021577281202227\n",
      "Total e: 9573.04875357755\n",
      "Total e: 7288.933067297019\n",
      "Total e: 6407.313917805259\n",
      "Total e: 5813.051994440067\n",
      "Total e: 5357.636820274416\n",
      "Total e: 4985.811706221688\n",
      "Total e: 4671.614360657288\n",
      "Total e: 4399.447143985183\n",
      "Total e: 4159.433569584436\n",
      "Total e: 3944.9482405834033\n",
      "Total e: 3751.600754790523\n",
      "Total e: 3575.997976802571\n",
      "Total e: 3415.4573282357214\n",
      "Total e: 3267.762430209292\n",
      "Total e: 3131.298805672035\n",
      "Total e: 3004.7768682814717\n",
      "Total e: 2886.9632039963835\n"
     ]
    },
    {
     "name": "stderr",
     "output_type": "stream",
     "text": [
      "\r",
      " 68%|██████▊   | 13/19 [57:30<26:32, 265.42s/it]"
     ]
    },
    {
     "name": "stdout",
     "output_type": "stream",
     "text": [
      "12line f1 score is 0.8491809684607885\n",
      "Total e: 7959.749191237705\n",
      "Total e: 5935.518045915942\n",
      "Total e: 5170.457286385771\n",
      "Total e: 4661.14060087346\n",
      "Total e: 4273.608181462618\n",
      "Total e: 3959.0989051210786\n",
      "Total e: 3693.6145953246264\n",
      "Total e: 3464.0198809523094\n",
      "Total e: 3261.815277813558\n",
      "Total e: 3081.332031625782\n",
      "Total e: 2918.5433983318767\n",
      "Total e: 2770.635947361477\n",
      "Total e: 2635.6174851433075\n",
      "Total e: 2511.6224038273012\n",
      "Total e: 2397.1916041661957\n",
      "Total e: 2291.1875584894615\n",
      "Total e: 2192.6488192562756\n"
     ]
    },
    {
     "name": "stderr",
     "output_type": "stream",
     "text": [
      "\r",
      " 74%|███████▎  | 14/19 [1:01:52<22:05, 265.16s/it]"
     ]
    },
    {
     "name": "stdout",
     "output_type": "stream",
     "text": [
      "13line f1 score is 0.8592584359357511\n",
      "Total e: 8430.238342374667\n",
      "Total e: 5706.903231359233\n",
      "Total e: 4756.159035086402\n",
      "Total e: 4164.341307037715\n",
      "Total e: 3736.835110045194\n",
      "Total e: 3404.0885648723893\n",
      "Total e: 3133.7669368816337\n",
      "Total e: 2907.2303671041536\n",
      "Total e: 2713.170552209687\n",
      "Total e: 2543.9763603611623\n",
      "Total e: 2394.458241346211\n",
      "Total e: 2261.238057650364\n",
      "Total e: 2141.4402373569324\n",
      "Total e: 2032.8854820306674\n",
      "Total e: 1933.9747832445066\n",
      "Total e: 1843.4781262786967\n",
      "Total e: 1760.2588813047928\n"
     ]
    },
    {
     "name": "stderr",
     "output_type": "stream",
     "text": [
      "\r",
      " 79%|███████▉  | 15/19 [1:06:18<17:41, 265.26s/it]"
     ]
    },
    {
     "name": "stdout",
     "output_type": "stream",
     "text": [
      "14line f1 score is 0.9356752747830075\n",
      "Total e: 5463.96209898108\n",
      "Total e: 4406.03298760336\n",
      "Total e: 3855.5338245577186\n",
      "Total e: 3458.831370722763\n",
      "Total e: 3146.6900681149677\n",
      "Total e: 2890.284273142995\n",
      "Total e: 2674.3627443001405\n",
      "Total e: 2488.9298748241645\n",
      "Total e: 2327.1468769273993\n",
      "Total e: 2184.5529894077663\n",
      "Total e: 2057.803454513494\n",
      "Total e: 1944.2776677675804\n",
      "Total e: 1841.9997107226623\n",
      "Total e: 1749.236169593405\n",
      "Total e: 1664.8471677377295\n",
      "Total e: 1587.7269524586932\n"
     ]
    },
    {
     "name": "stderr",
     "output_type": "stream",
     "text": [
      "\r",
      " 84%|████████▍ | 16/19 [1:10:45<13:16, 265.37s/it]"
     ]
    },
    {
     "name": "stdout",
     "output_type": "stream",
     "text": [
      "Total e: 1516.9674220763632\n",
      "15line f1 score is 0.8071968677525811\n",
      "Total e: 4555.851953259633\n",
      "Total e: 3399.969417568137\n",
      "Total e: 2930.1670948981496\n",
      "Total e: 2618.168826576059\n",
      "Total e: 2381.9543385211437\n",
      "Total e: 2191.149687487341\n",
      "Total e: 2030.6493142262998\n",
      "Total e: 1892.50606614827\n",
      "Total e: 1771.6646544800576\n",
      "Total e: 1664.6205272932202\n",
      "Total e: 1568.7736470223988\n",
      "Total e: 1482.3685078284307\n",
      "Total e: 1403.9440089509162\n",
      "Total e: 1332.4456292061125\n",
      "Total e: 1267.0119301264444\n",
      "Total e: 1206.9291716055204\n",
      "Total e: 1151.5858783729273\n"
     ]
    },
    {
     "name": "stderr",
     "output_type": "stream",
     "text": [
      "\r",
      " 89%|████████▉ | 17/19 [1:15:09<08:50, 265.24s/it]"
     ]
    },
    {
     "name": "stdout",
     "output_type": "stream",
     "text": [
      "16line f1 score is 0.5500543465539603\n",
      "Total e: 7821.306066964914\n",
      "Total e: 5450.088331683577\n",
      "Total e: 4573.767347998196\n",
      "Total e: 4010.1241021081505\n",
      "Total e: 3592.7409131191384\n",
      "Total e: 3261.9142694335033\n",
      "Total e: 2988.93886552007\n",
      "Total e: 2757.327258632849\n",
      "Total e: 2556.950697205736\n",
      "Total e: 2380.9819604948243\n",
      "Total e: 2224.803994534603\n",
      "Total e: 2084.947756425457\n",
      "Total e: 1958.7652741982033\n",
      "Total e: 1844.2820145582587\n",
      "Total e: 1740.0020809960633\n",
      "Total e: 1644.5596499768446\n"
     ]
    },
    {
     "name": "stderr",
     "output_type": "stream",
     "text": [
      "\r",
      " 95%|█████████▍| 18/19 [1:19:33<04:25, 265.19s/it]"
     ]
    },
    {
     "name": "stdout",
     "output_type": "stream",
     "text": [
      "Total e: 1556.9141019227575\n",
      "17line f1 score is 0.9222711223306488\n",
      "Total e: 8540.269680368232\n",
      "Total e: 6903.999347293245\n",
      "Total e: 6106.252976406643\n",
      "Total e: 5543.737943701353\n",
      "Total e: 5105.97670774242\n",
      "Total e: 4746.290482398736\n",
      "Total e: 4440.62542852748\n",
      "Total e: 4174.958900051267\n",
      "Total e: 3940.3137825293\n",
      "Total e: 3730.3627841711864\n",
      "Total e: 3540.623111798283\n",
      "Total e: 3367.950161023761\n",
      "Total e: 3209.809606276247\n",
      "Total e: 3064.1563571696697\n",
      "Total e: 2929.5536094395175\n",
      "Total e: 2804.756428675929\n",
      "Total e: 2688.6825655889315\n"
     ]
    },
    {
     "name": "stderr",
     "output_type": "stream",
     "text": [
      "\r",
      "100%|██████████| 19/19 [1:23:54<00:00, 264.99s/it]"
     ]
    },
    {
     "name": "stdout",
     "output_type": "stream",
     "text": [
      "18line f1 score is 0.7145224937482738\n",
      "now is 7 fold\n"
     ]
    },
    {
     "name": "stderr",
     "output_type": "stream",
     "text": [
      "\n",
      "  0%|          | 0/19 [00:00<?, ?it/s]"
     ]
    },
    {
     "name": "stdout",
     "output_type": "stream",
     "text": [
      "Total e: 8115.506878175139\n",
      "Total e: 6546.886440826448\n",
      "Total e: 5834.468806397372\n",
      "Total e: 5341.017903303048\n",
      "Total e: 4956.848435343814\n",
      "Total e: 4640.141290017592\n",
      "Total e: 4369.505492087858\n",
      "Total e: 4132.488109474914\n",
      "Total e: 3921.84052384349\n",
      "Total e: 3732.300538241831\n",
      "Total e: 3560.1550017858312\n",
      "Total e: 3402.639745880493\n",
      "Total e: 3257.7699277224\n",
      "Total e: 3123.825372722126\n",
      "Total e: 2999.470554798989\n",
      "Total e: 2883.628173646633\n",
      "Total e: 2775.4053658824314\n"
     ]
    },
    {
     "name": "stderr",
     "output_type": "stream",
     "text": [
      "\r",
      "  5%|▌         | 1/19 [04:21<1:18:32, 261.80s/it]"
     ]
    },
    {
     "name": "stdout",
     "output_type": "stream",
     "text": [
      "0line f1 score is 0.7262156524536656\n",
      "Total e: 4374.247625529533\n",
      "Total e: 3270.3129148715866\n",
      "Total e: 2795.2061569306884\n",
      "Total e: 2473.212913097421\n",
      "Total e: 2228.3062313873315\n",
      "Total e: 2030.079867807053\n",
      "Total e: 1864.0678037889907\n",
      "Total e: 1721.8352531436217\n",
      "Total e: 1597.888609825256\n",
      "Total e: 1488.4849092856339\n",
      "Total e: 1390.9254115558842\n",
      "Total e: 1303.2154866536503\n",
      "Total e: 1224.0278161081437\n",
      "Total e: 1152.1974261388013\n",
      "Total e: 1086.7639770013297\n",
      "Total e: 1026.9413132201869\n",
      "Total e:"
     ]
    },
    {
     "name": "stderr",
     "output_type": "stream",
     "text": [
      "\r",
      " 11%|█         | 2/19 [08:46<1:14:32, 263.10s/it]"
     ]
    },
    {
     "name": "stdout",
     "output_type": "stream",
     "text": [
      " 972.0512294907045\n",
      "1line f1 score is 0.8294309919284903\n",
      "Total e: 9715.702630031714\n",
      "Total e: 6893.3402016330065\n",
      "Total e: 5813.409307826991\n",
      "Total e: 5131.331680254453\n",
      "Total e: 4633.3914100116735\n",
      "Total e: 4242.572343218132\n",
      "Total e: 3922.3548913969425\n",
      "Total e: 3652.0029245559526\n",
      "Total e: 3418.4791860708015\n",
      "Total e: 3213.7349895179236\n",
      "Total e: 3031.98480760075\n",
      "Total e: 2869.1741171487465\n",
      "Total e: 2722.3350225630716\n",
      "Total e: 2588.9212005850204\n",
      "Total e: 2467.0793458093763\n",
      "Total e: 2355.389382263198\n",
      "Total e: 2252.4855273818207\n"
     ]
    },
    {
     "name": "stderr",
     "output_type": "stream",
     "text": [
      "\r",
      " 16%|█▌        | 3/19 [13:12<1:10:28, 264.28s/it]"
     ]
    },
    {
     "name": "stdout",
     "output_type": "stream",
     "text": [
      "2line f1 score is 0.9244608567208272\n",
      "Total e: 5169.1922251655515\n",
      "Total e: 3746.2762988205714\n",
      "Total e: 3156.1375876898273\n",
      "Total e: 2769.3387383669506\n",
      "Total e: 2482.528193081529\n",
      "Total e: 2255.2912969733375\n",
      "Total e: 2068.095133678876\n",
      "Total e: 1909.540442724952\n",
      "Total e: 1772.8243448685107\n",
      "Total e: 1653.2643475399148\n",
      "Total e: 1547.4118242941595\n",
      "Total e: 1452.9080806868865\n",
      "Total e: 1367.9979519957083\n",
      "Total e: 1291.2354501655993\n",
      "Total e: 1221.494095124177\n",
      "Total e: 1157.8991443695395\n",
      "Total e: 1099.6627572099208\n"
     ]
    },
    {
     "name": "stderr",
     "output_type": "stream",
     "text": [
      "\r",
      " 21%|██        | 4/19 [17:36<1:06:01, 264.10s/it]"
     ]
    },
    {
     "name": "stdout",
     "output_type": "stream",
     "text": [
      "3line f1 score is 0.9046883147945458\n",
      "Total e: 3683.679836042222\n",
      "Total e: 2688.196632222902\n",
      "Total e: 2258.640799904091\n",
      "Total e: 1974.2702408204332\n",
      "Total e: 1764.4704381421084\n",
      "Total e: 1599.3409139915962\n",
      "Total e: 1464.2319206983198\n",
      "Total e: 1350.7457490208449\n",
      "Total e: 1253.416133186289\n",
      "Total e: 1168.7217663855643\n",
      "Total e: 1094.2430744122096\n",
      "Total e: 1028.1641945974245\n",
      "Total e: 969.0418125184394\n",
      "Total e: 915.7786528693586\n",
      "Total e: 867.5308390867198\n",
      "Total e: 823.6488626589326\n",
      "Total e: 783.5928572984617\n"
     ]
    },
    {
     "name": "stderr",
     "output_type": "stream",
     "text": [
      "\r",
      " 26%|██▋       | 5/19 [22:02<1:01:41, 264.41s/it]"
     ]
    },
    {
     "name": "stdout",
     "output_type": "stream",
     "text": [
      "4line f1 score is 0.8872535977324052\n",
      "Total e: 7754.8214729571655\n",
      "Total e: 5098.2762739585205\n",
      "Total e: 4201.733873794085\n",
      "Total e: 3653.6907261000574\n",
      "Total e: 3261.7946596323904\n",
      "Total e: 2958.382028687058\n",
      "Total e: 2712.0875459934337\n",
      "Total e: 2505.429796458232\n",
      "Total e: 2328.4241080833544\n",
      "Total e: 2174.32742023846\n",
      "Total e: 2038.2777116821424\n",
      "Total e: 1916.9785588232419\n",
      "Total e: 1807.900803823007\n",
      "Total e: 1709.157254939566\n",
      "Total e: 1619.3465339968209\n",
      "Total e: 1537.2860498440843\n",
      "Total e: 1461.9237033512936\n"
     ]
    },
    {
     "name": "stderr",
     "output_type": "stream",
     "text": [
      "\r",
      " 32%|███▏      | 6/19 [26:29<57:22, 264.84s/it]  "
     ]
    },
    {
     "name": "stdout",
     "output_type": "stream",
     "text": [
      "5line f1 score is 0.9352779542296114\n",
      "Total e: 4880.395599933704\n",
      "Total e: 3784.4510553373416\n",
      "Total e: 3287.145253567085\n",
      "Total e: 2946.5467253201077\n",
      "Total e: 2685.6651643914533\n",
      "Total e: 2473.8541313141404\n",
      "Total e: 2295.594979898844\n",
      "Total e: 2141.8961236028076\n",
      "Total e: 2007.2696523538202\n",
      "Total e: 1887.6158149606624\n",
      "Total e: 1780.4060249416257\n",
      "Total e: 1683.5754144750083\n",
      "Total e: 1595.6079347508778\n",
      "Total e: 1515.218762763593\n",
      "Total e: 1441.5003897903728\n"
     ]
    },
    {
     "name": "stderr",
     "output_type": "stream",
     "text": [
      "\r",
      " 37%|███▋      | 7/19 [30:53<52:57, 264.82s/it]"
     ]
    },
    {
     "name": "stdout",
     "output_type": "stream",
     "text": [
      "Total e: 1373.6552991211497\n",
      "Total e: 1310.9331801677806\n",
      "6line f1 score is 0.8167784756031838\n",
      "Total e: 8744.483509070476\n",
      "Total e: 6759.032511534776\n",
      "Total e: 5969.235693631781\n",
      "Total e: 5432.695170549452\n",
      "Total e: 5019.026402188837\n",
      "Total e: 4680.421251792995\n",
      "Total e: 4393.017986057274\n",
      "Total e: 4143.122450630097\n",
      "Total e: 3922.002215809081\n",
      "Total e: 3723.9787989289684\n",
      "Total e: 3545.0545420929648\n",
      "Total e: 3382.086286676412\n",
      "Total e: 3232.773209531702\n",
      "Total e: 3095.2462367166786\n",
      "Total e: 2967.9067725384307\n",
      "Total e: 2849.6620645915746\n",
      "Total e: 2739.5113571373863\n"
     ]
    },
    {
     "name": "stderr",
     "output_type": "stream",
     "text": [
      "\r",
      " 42%|████▏     | 8/19 [35:19<48:34, 264.92s/it]"
     ]
    },
    {
     "name": "stdout",
     "output_type": "stream",
     "text": [
      "7line f1 score is 0.7963633985542922\n",
      "Total e: 6585.3217720234325\n",
      "Total e: 4281.055441848773\n",
      "Total e: 3531.6192544804176\n",
      "Total e: 3059.98290718947\n",
      "Total e: 2717.741818998258\n",
      "Total e: 2452.3545012895875\n",
      "Total e: 2236.5995860738735\n",
      "Total e: 2056.203101085854\n",
      "Total e: 1902.1247267223584\n",
      "Total e: 1768.537537959125\n",
      "Total e: 1651.1784246534262\n",
      "Total e: 1546.9937582462217\n",
      "Total e: 1453.8205520154115\n",
      "Total e: 1369.9528310247574\n",
      "Total e: 1294.1073527687788\n",
      "Total e: 1225.247673847949\n",
      "Total e: 1162.3785256502538\n"
     ]
    },
    {
     "name": "stderr",
     "output_type": "stream",
     "text": [
      "\r",
      " 47%|████▋     | 9/19 [39:44<44:09, 264.96s/it]"
     ]
    },
    {
     "name": "stdout",
     "output_type": "stream",
     "text": [
      "8line f1 score is 0.9578670430859055\n",
      "Total e: 7263.54579248937\n",
      "Total e: 5663.813407343309\n",
      "Total e: 4964.740884187662\n",
      "Total e: 4483.684553573147\n",
      "Total e: 4111.102972142542\n",
      "Total e: 3806.2501132344946\n",
      "Total e: 3548.025679868516\n",
      "Total e: 3324.2293791709562\n",
      "Total e: 3127.2065518778945\n",
      "Total e: 2951.267698289819\n",
      "Total e: 2792.6749843873117\n",
      "Total e: 2648.6752300578787\n",
      "Total e: 2517.058524964045\n",
      "Total e: 2396.2317427522057\n",
      "Total e: 2284.7898208405377\n",
      "Total e: 2181.622960995107\n",
      "Total e: 2085.8230988926757\n"
     ]
    },
    {
     "name": "stderr",
     "output_type": "stream",
     "text": [
      "\r",
      " 53%|█████▎    | 10/19 [44:11<39:46, 265.14s/it]"
     ]
    },
    {
     "name": "stdout",
     "output_type": "stream",
     "text": [
      "9line f1 score is 0.7827306900150545\n",
      "Total e: 6036.204135472737\n",
      "Total e: 4864.737917315027\n",
      "Total e: 4260.244004990328\n",
      "Total e: 3834.0391167894973\n",
      "Total e: 3504.7301362413964\n",
      "Total e: 3237.196329997364\n",
      "Total e: 3013.296224623209\n",
      "Total e: 2822.039222697618\n",
      "Total e: 2655.67820561298\n",
      "Total e: 2509.015632659581\n",
      "Total e: 2378.358525206475\n",
      "Total e: 2261.192496358368\n",
      "Total e: 2155.196866508722\n",
      "Total e: 2058.7395324393774\n",
      "Total e: 1970.5925128735869\n",
      "Total e: 1889.591418156685\n",
      "Total e: 1814.8566304965098\n"
     ]
    },
    {
     "name": "stderr",
     "output_type": "stream",
     "text": [
      "\r",
      " 58%|█████▊    | 11/19 [48:36<35:21, 265.18s/it]"
     ]
    },
    {
     "name": "stdout",
     "output_type": "stream",
     "text": [
      "10line f1 score is 0.8017120920284546\n",
      "Total e: 8001.929350973854\n",
      "Total e: 6452.292683665072\n",
      "Total e: 5719.249702127915\n",
      "Total e: 5202.886452524581\n",
      "Total e: 4801.653019203542\n",
      "Total e: 4473.017177106449\n",
      "Total e: 4194.303357481842\n",
      "Total e: 3952.0578950407426\n",
      "Total e: 3738.417159750141\n",
      "Total e: 3547.44709177006\n",
      "Total e: 3375.000874913447\n",
      "Total e: 3218.1244043907113\n",
      "Total e: 3074.4972979626227\n",
      "Total e: 2942.395378069521\n",
      "Total e: 2820.328793488047\n",
      "Total e: 2707.0648833938108\n",
      "Total e: 2601.5655078311383\n"
     ]
    },
    {
     "name": "stderr",
     "output_type": "stream",
     "text": [
      "\r",
      " 63%|██████▎   | 12/19 [53:00<30:55, 265.06s/it]"
     ]
    },
    {
     "name": "stdout",
     "output_type": "stream",
     "text": [
      "11line f1 score is 0.8035040931512093\n",
      "Total e: 9555.966807059256\n",
      "Total e: 7264.526930876515\n",
      "Total e: 6382.979210514558\n",
      "Total e: 5788.625831186691\n",
      "Total e: 5333.678499448299\n",
      "Total e: 4962.738680569671\n",
      "Total e: 4649.278889864776\n",
      "Total e: 4377.640927564415\n",
      "Total e: 4138.170233196178\n",
      "Total e: 3924.1426867444484\n",
      "Total e: 3731.2863804214567\n",
      "Total e: 3556.138217876254\n",
      "Total e: 3395.9307266613096\n",
      "Total e: 3248.5321655275984\n",
      "Total e: 3112.2989178348143\n",
      "Total e: 2985.917227541284\n",
      "Total e: 2868.2729657205173\n"
     ]
    },
    {
     "name": "stderr",
     "output_type": "stream",
     "text": [
      "\r",
      " 68%|██████▊   | 13/19 [57:21<26:28, 264.72s/it]"
     ]
    },
    {
     "name": "stdout",
     "output_type": "stream",
     "text": [
      "12line f1 score is 0.8393001110991853\n",
      "Total e: 7957.933994727085\n",
      "Total e: 5952.903608424274\n",
      "Total e: 5190.609291893684\n",
      "Total e: 4681.959834217324\n",
      "Total e: 4294.534618248534\n",
      "Total e: 3979.98325360985\n",
      "Total e: 3714.6611054862747\n",
      "Total e: 3485.0900230370876\n",
      "Total e: 3282.739664190106\n",
      "Total e: 3102.1068447254643\n",
      "Total e: 2939.2258285378075\n",
      "Total e: 2791.242245079985\n",
      "Total e: 2655.95311734421\n",
      "Total e: 2531.5785721152697\n",
      "Total e: 2416.7811728713523\n",
      "Total e: 2310.4474500965366\n",
      "Total e: 2211.5903500595637\n"
     ]
    },
    {
     "name": "stderr",
     "output_type": "stream",
     "text": [
      "\r",
      " 74%|███████▎  | 14/19 [1:01:45<22:03, 264.66s/it]"
     ]
    },
    {
     "name": "stdout",
     "output_type": "stream",
     "text": [
      "13line f1 score is 0.8689145651324228\n",
      "Total e: 8431.236452918962\n",
      "Total e: 5702.232270540446\n",
      "Total e: 4751.4600478665425\n",
      "Total e: 4159.865755142296\n",
      "Total e: 3732.796554008212\n",
      "Total e: 3401.1449729045626\n",
      "Total e: 3131.1096172387547\n",
      "Total e: 2904.7937067824455\n",
      "Total e: 2710.9939938349517\n",
      "Total e: 2542.0371618213685\n",
      "Total e: 2392.858520847328\n",
      "Total e: 2259.8872715326374\n",
      "Total e: 2140.293425512984\n",
      "Total e: 2031.8886746403732\n",
      "Total e: 1933.097660114748\n",
      "Total e: 1842.7232642898307\n",
      "Total e: 1759.6778118082682\n"
     ]
    },
    {
     "name": "stderr",
     "output_type": "stream",
     "text": [
      "\r",
      " 79%|███████▉  | 15/19 [1:06:08<17:38, 264.59s/it]"
     ]
    },
    {
     "name": "stdout",
     "output_type": "stream",
     "text": [
      "14line f1 score is 0.6217763718945925\n",
      "Total e: 5463.104754133702\n",
      "Total e: 4402.75029373514\n",
      "Total e: 3850.5423788885037\n",
      "Total e: 3453.3326494387306\n",
      "Total e: 3141.018228443907\n",
      "Total e: 2884.8486897909956\n",
      "Total e: 2669.187290381181\n",
      "Total e: 2483.9091915262225\n",
      "Total e: 2322.5850846340822\n",
      "Total e: 2180.3962755022403\n",
      "Total e: 2053.9551143107037\n",
      "Total e: 1940.7532784384491\n",
      "Total e: 1838.8224723146398\n",
      "Total e: 1746.622026065893\n",
      "Total e: 1662.6984108560052\n",
      "Total e: 1585.9215908666229\n",
      "Total e: 1515.4926389774982\n"
     ]
    },
    {
     "name": "stderr",
     "output_type": "stream",
     "text": [
      "\r",
      " 84%|████████▍ | 16/19 [1:10:34<13:14, 264.67s/it]"
     ]
    },
    {
     "name": "stdout",
     "output_type": "stream",
     "text": [
      "15line f1 score is 0.7914713676901943\n",
      "Total e: 4536.518362981679\n",
      "Total e: 3389.9743036405157\n",
      "Total e: 2923.550235593517\n",
      "Total e: 2612.1636773947157\n",
      "Total e: 2376.2785359286777\n",
      "Total e: 2185.3889844611317\n",
      "Total e: 2024.8911308494567\n",
      "Total e: 1886.8309369600042\n",
      "Total e: 1765.910018211191\n",
      "Total e: 1658.8121580143668\n",
      "Total e: 1563.04604192305\n",
      "Total e: 1476.704890581113\n",
      "Total e: 1398.405938566587\n",
      "Total e: 1327.0508957316779\n",
      "Total e: 1261.76154954284\n",
      "Total e: 1201.794729542327\n"
     ]
    },
    {
     "name": "stderr",
     "output_type": "stream",
     "text": [
      "\r",
      " 89%|████████▉ | 17/19 [1:14:59<08:49, 264.66s/it]"
     ]
    },
    {
     "name": "stdout",
     "output_type": "stream",
     "text": [
      "Total e: 1146.5415482401809\n",
      "16line f1 score is 0.8410021329669932\n",
      "Total e: 7848.8054763301\n",
      "Total e: 5471.260790713828\n",
      "Total e: 4592.216882627152\n",
      "Total e: 4027.2325070431575\n",
      "Total e: 3608.8162099309134\n",
      "Total e: 3277.8406148335907\n",
      "Total e: 3004.9555764998104\n",
      "Total e: 2773.516387978379\n",
      "Total e: 2573.1728931718385\n",
      "Total e: 2397.135929023306\n",
      "Total e: 2240.884019771974\n",
      "Total e: 2100.8390155364655\n",
      "Total e: 1974.4612036690355\n",
      "Total e: 1859.7541820827807\n",
      "Total e: 1755.1409304828508\n",
      "Total e: 1659.376791493233\n",
      "Total e: 1571.4307492347273\n"
     ]
    },
    {
     "name": "stderr",
     "output_type": "stream",
     "text": [
      "\r",
      " 95%|█████████▍| 18/19 [1:19:31<04:25, 265.11s/it]"
     ]
    },
    {
     "name": "stdout",
     "output_type": "stream",
     "text": [
      "17line f1 score is 0.6143354360336432\n",
      "Total e: 8593.597924801803\n",
      "Total e: 6954.785574559588\n",
      "Total e: 6154.613236409208\n",
      "Total e: 5590.876610093196\n",
      "Total e: 5152.403739343189\n",
      "Total e: 4792.504182798287\n",
      "Total e: 4486.144653455241\n",
      "Total e: 4219.660563963995\n",
      "Total e: 3983.91720024717\n",
      "Total e: 3772.8364898364043\n",
      "Total e: 3582.0969312682846\n",
      "Total e: 3408.359319758374\n",
      "Total e: 3249.203660048913\n",
      "Total e: 3102.7026368614793\n",
      "Total e: 2967.2409858045744\n",
      "Total e: 2841.4807226436683\n",
      "Total e: 2724.4191050466266\n"
     ]
    },
    {
     "name": "stderr",
     "output_type": "stream",
     "text": [
      "\r",
      "100%|██████████| 19/19 [1:23:56<00:00, 265.08s/it]"
     ]
    },
    {
     "name": "stdout",
     "output_type": "stream",
     "text": [
      "18line f1 score is 0.48470038391187686\n",
      "now is 8 fold\n"
     ]
    },
    {
     "name": "stderr",
     "output_type": "stream",
     "text": [
      "\n",
      "  0%|          | 0/19 [00:00<?, ?it/s]"
     ]
    },
    {
     "name": "stdout",
     "output_type": "stream",
     "text": [
      "Total e: 8206.645956590944\n",
      "Total e: 6621.292152664491\n",
      "Total e: 5897.009401631712\n",
      "Total e: 5396.548201157035\n",
      "Total e: 5008.223509159912\n",
      "Total e: 4687.8033330399185\n",
      "Total e: 4413.977421334001\n",
      "Total e: 4174.291154212839\n",
      "Total e: 3960.8510403631144\n",
      "Total e: 3768.548495540589\n",
      "Total e: 3593.7998829414946\n",
      "Total e: 3433.938167116447\n",
      "Total e: 3286.813097093855\n",
      "Total e: 3150.8055539472734\n",
      "Total e: 3024.615253450933\n"
     ]
    },
    {
     "name": "stderr",
     "output_type": "stream",
     "text": [
      "\r",
      "  5%|▌         | 1/19 [04:28<1:20:35, 268.61s/it]"
     ]
    },
    {
     "name": "stdout",
     "output_type": "stream",
     "text": [
      "Total e: 2907.095032020312\n",
      "Total e: 2797.322307721594\n",
      "0line f1 score is 0.7301038118191978\n",
      "Total e: 4364.822597578704\n",
      "Total e: 3264.4227149276653\n",
      "Total e: 2789.1008210488208\n",
      "Total e: 2465.6084854130186\n",
      "Total e: 2219.2802901869154\n",
      "Total e: 2020.133875559223\n",
      "Total e: 1853.5776040633136\n",
      "Total e: 1710.943812058959\n",
      "Total e: 1586.5961696548227\n",
      "Total e: 1476.9109082675338\n",
      "Total e: 1379.274887946429\n",
      "Total e: 1291.777572388788\n",
      "Total e: 1212.8714824523747\n",
      "Total e: 1141.318624085891\n",
      "Total e: 1076.1525522515\n",
      "Total e: 1016.6205238373676\n",
      "Total e: 962.0927919100018\n"
     ]
    },
    {
     "name": "stderr",
     "output_type": "stream",
     "text": [
      "\r",
      " 11%|█         | 2/19 [08:54<1:15:39, 267.02s/it]"
     ]
    },
    {
     "name": "stdout",
     "output_type": "stream",
     "text": [
      "1line f1 score is 0.8279115073382437\n",
      "Total e: 9696.806654584308\n",
      "Total e: 6868.3809908851645\n",
      "Total e: 5790.417273479597\n",
      "Total e: 5110.245687535781\n",
      "Total e: 4614.112509524436\n",
      "Total e: 4225.121094736985\n",
      "Total e: 3905.581656566937\n",
      "Total e: 3635.881176752626\n",
      "Total e: 3403.1858320240676\n",
      "Total e: 3199.228137396424\n",
      "Total e: 3018.0820804950704\n",
      "Total e: 2855.8323388446797\n",
      "Total e: 2709.40965822397\n",
      "Total e: 2576.3269098844967\n",
      "Total e: 2454.7994623014956\n",
      "Total e: 2343.3629304162528\n",
      "Total e: 2240.790684990145\n"
     ]
    },
    {
     "name": "stderr",
     "output_type": "stream",
     "text": [
      "\r",
      " 16%|█▌        | 3/19 [13:20<1:11:10, 266.91s/it]"
     ]
    },
    {
     "name": "stdout",
     "output_type": "stream",
     "text": [
      "2line f1 score is 0.917439720839974\n",
      "Total e: 5151.566584544548\n",
      "Total e: 3727.812783476738\n",
      "Total e: 3138.659282481532\n",
      "Total e: 2753.587930948793\n",
      "Total e: 2468.437779493965\n",
      "Total e: 2242.2964122224203\n",
      "Total e: 2055.3587373137366\n",
      "Total e: 1897.1184836576974\n",
      "Total e: 1760.4924470559304\n",
      "Total e: 1641.0714793076443\n",
      "Total e: 1535.3938755183644\n",
      "Total e: 1441.1176010998938\n",
      "Total e: 1356.3355383457479\n",
      "Total e: 1279.7392553160923\n",
      "Total e: 1210.2820429400003\n",
      "Total e: 1146.9798709705842\n",
      "Total e: 1089.0530599113144\n"
     ]
    },
    {
     "name": "stderr",
     "output_type": "stream",
     "text": [
      "\r",
      " 21%|██        | 4/19 [17:46<1:06:38, 266.55s/it]"
     ]
    },
    {
     "name": "stdout",
     "output_type": "stream",
     "text": [
      "3line f1 score is 0.8947277957799824\n",
      "Total e: 3655.45894275762\n",
      "Total e: 2668.74877793765\n",
      "Total e: 2245.1739138255707\n",
      "Total e: 1964.2669485553602\n",
      "Total e: 1756.0931463957825\n",
      "Total e: 1591.887405207055\n",
      "Total e: 1457.2785353505328\n",
      "Total e: 1344.2366037599295\n",
      "Total e: 1247.200030495842\n",
      "Total e: 1162.602533342835\n",
      "Total e: 1088.1974784329675\n",
      "Total e: 1022.1946441671805\n",
      "Total e: 963.1246233584175\n",
      "Total e: 909.9633393393469\n",
      "Total e: 861.8848855385708\n",
      "Total e: 818.1884613170386\n",
      "Total e: 778.3032383031765\n"
     ]
    },
    {
     "name": "stderr",
     "output_type": "stream",
     "text": [
      "\r",
      " 26%|██▋       | 5/19 [22:12<1:02:09, 266.41s/it]"
     ]
    },
    {
     "name": "stdout",
     "output_type": "stream",
     "text": [
      "4line f1 score is 0.8894930912921918\n",
      "Total e: 7756.285791651104\n",
      "Total e: 5110.509889482273\n",
      "Total e: 4219.987945270522\n",
      "Total e: 3672.0514229255314\n",
      "Total e: 3279.5057246887723\n",
      "Total e: 2975.734685515607\n",
      "Total e: 2729.3048023470374\n",
      "Total e: 2522.6147617771508\n",
      "Total e: 2345.2887864478644\n",
      "Total e: 2190.4343371610885\n",
      "Total e: 2053.5239558840735\n",
      "Total e: 1931.5775944934214\n",
      "Total e: 1822.0738758909306\n",
      "Total e: 1723.0073114663737\n",
      "Total e: 1632.845197470537\n",
      "Total e: 1550.3700568661038\n",
      "Total e: 1474.6257654952153\n"
     ]
    },
    {
     "name": "stderr",
     "output_type": "stream",
     "text": [
      "\r",
      " 32%|███▏      | 6/19 [26:36<57:39, 266.08s/it]  "
     ]
    },
    {
     "name": "stdout",
     "output_type": "stream",
     "text": [
      "5line f1 score is 0.9438835688009046\n",
      "Total e: 4911.238837901085\n",
      "Total e: 3805.3675675722257\n",
      "Total e: 3303.0674329838525\n",
      "Total e: 2958.846215281736\n",
      "Total e: 2695.6654704561815\n",
      "Total e: 2482.135465852579\n",
      "Total e: 2302.5444926740797\n",
      "Total e: 2147.8229016933037\n",
      "Total e: 2012.2201870450467\n",
      "Total e: 1891.7902972793981\n",
      "Total e: 1783.894372391343\n",
      "Total e: 1686.5280254589386\n",
      "Total e: 1598.1102741177065\n",
      "Total e: 1517.409448562587\n",
      "Total e: 1443.3906993741978\n",
      "Total e:"
     ]
    },
    {
     "name": "stderr",
     "output_type": "stream",
     "text": [
      "\r",
      " 37%|███▋      | 7/19 [31:00<53:08, 265.72s/it]"
     ]
    },
    {
     "name": "stdout",
     "output_type": "stream",
     "text": [
      " 1375.242128519481\n",
      "Total e: 1312.3164998589234\n",
      "6line f1 score is 0.7937080773071937\n",
      "Total e: 8758.90031047224\n",
      "Total e: 6778.610748207896\n",
      "Total e: 5986.395532512082\n",
      "Total e: 5447.061045006638\n",
      "Total e: 5031.386011344592\n",
      "Total e: 4691.260643036947\n",
      "Total e: 4403.1182792755535\n",
      "Total e: 4152.723711564826\n",
      "Total e: 3931.223610176138\n",
      "Total e: 3732.7820957726744\n",
      "Total e: 3553.3254102575565\n",
      "Total e: 3389.821453443811\n",
      "Total e: 3239.8917042367207\n",
      "Total e: 3101.779001121275\n",
      "Total e: 2974.010367107683\n",
      "Total e: 2855.392540225325\n",
      "Total e: 2744.97598331071\n"
     ]
    },
    {
     "name": "stderr",
     "output_type": "stream",
     "text": [
      "\r",
      " 42%|████▏     | 8/19 [35:27<48:45, 265.94s/it]"
     ]
    },
    {
     "name": "stdout",
     "output_type": "stream",
     "text": [
      "7line f1 score is 0.8270274841437631\n",
      "Total e: 6622.827771924699\n",
      "Total e: 4307.580693045651\n",
      "Total e: 3554.0254327077782\n",
      "Total e: 3079.252755384887\n",
      "Total e: 2734.957093088252\n",
      "Total e: 2467.573264423107\n",
      "Total e: 2250.176548872147\n",
      "Total e: 2068.247071305834\n",
      "Total e: 1912.7892754133504\n",
      "Total e: 1777.9301619203243\n",
      "Total e: 1659.4829508604948\n",
      "Total e: 1554.3263227413627\n",
      "Total e: 1460.2868985038306\n",
      "Total e: 1375.7150857997972\n",
      "Total e: 1299.148148710606\n",
      "Total e: 1229.5980930062537\n",
      "Total e: 1166.1386075857813\n"
     ]
    },
    {
     "name": "stderr",
     "output_type": "stream",
     "text": [
      "\r",
      " 47%|████▋     | 9/19 [39:56<44:22, 266.27s/it]"
     ]
    },
    {
     "name": "stdout",
     "output_type": "stream",
     "text": [
      "8line f1 score is 0.6371139516886449\n",
      "Total e: 7257.801558290612\n",
      "Total e: 5663.411845803068\n",
      "Total e: 4967.96731321519\n",
      "Total e: 4488.649739558431\n",
      "Total e: 4117.825500079487\n",
      "Total e: 3814.467844432935\n",
      "Total e: 3557.3177825699654\n",
      "Total e: 3334.282160721961\n",
      "Total e: 3137.6043403716117\n",
      "Total e: 2961.981914097419\n",
      "Total e: 2803.6025584323993\n",
      "Total e: 2659.727650826226\n",
      "Total e: 2528.1098323617607\n",
      "Total e: 2407.2743354835015\n",
      "Total e: 2295.8535880201152\n",
      "Total e: 2192.7334516371166\n",
      "Total e: 2096.951182626569\n"
     ]
    },
    {
     "name": "stderr",
     "output_type": "stream",
     "text": [
      "\r",
      " 53%|█████▎    | 10/19 [44:31<40:04, 267.11s/it]"
     ]
    },
    {
     "name": "stdout",
     "output_type": "stream",
     "text": [
      "9line f1 score is 0.807807212452841\n",
      "Total e: 6062.798733041756\n",
      "Total e: 4888.155880877618\n",
      "Total e: 4285.734276957076\n",
      "Total e: 3859.261853197716\n",
      "Total e: 3529.5354037132674\n",
      "Total e: 3261.089828371021\n",
      "Total e: 3036.221297853288\n",
      "Total e: 2843.926095672963\n",
      "Total e: 2676.7673922569693\n",
      "Total e: 2529.2933125247764\n",
      "Total e: 2398.038654795932\n",
      "Total e: 2280.2197570404696\n",
      "Total e: 2173.6542096887033\n",
      "Total e: 2076.7093569375247\n",
      "Total e: 1988.059576553077\n",
      "Total e: 1906.5839270455783\n",
      "Total e: 1831.4655399003734\n"
     ]
    },
    {
     "name": "stderr",
     "output_type": "stream",
     "text": [
      "\r",
      " 58%|█████▊    | 11/19 [49:13<35:47, 268.49s/it]"
     ]
    },
    {
     "name": "stdout",
     "output_type": "stream",
     "text": [
      "10line f1 score is 0.8224998173048816\n",
      "Total e: 8023.337582045632\n",
      "Total e: 6464.677288221944\n",
      "Total e: 5728.009330310661\n",
      "Total e: 5208.720304525847\n",
      "Total e: 4804.710368075244\n",
      "Total e: 4474.0150238307415\n",
      "Total e: 4193.658075536443\n",
      "Total e: 3950.455940384303\n",
      "Total e: 3735.86124819289\n",
      "Total e: 3544.2406659369344\n",
      "Total e: 3371.5136853578656\n",
      "Total e: 3214.4302188319675\n",
      "Total e: 3070.6911483565505\n",
      "Total e: 2938.5413036156515\n",
      "Total e: 2816.479238473029\n",
      "Total e: 2703.280943789379\n",
      "Total e: 2597.8794376376723\n"
     ]
    },
    {
     "name": "stderr",
     "output_type": "stream",
     "text": [
      "\r",
      " 63%|██████▎   | 12/19 [53:38<31:17, 268.22s/it]"
     ]
    },
    {
     "name": "stdout",
     "output_type": "stream",
     "text": [
      "11line f1 score is 0.797899880287352\n",
      "Total e: 9550.665692632425\n",
      "Total e: 7254.179198302307\n",
      "Total e: 6372.5785884358575\n",
      "Total e: 5779.158973307243\n",
      "Total e: 5324.8933961968805\n",
      "Total e: 4954.7447191342135\n",
      "Total e: 4641.852488579253\n",
      "Total e: 4370.623995912532\n",
      "Total e: 4131.28994985012\n",
      "Total e: 3917.496406509033\n",
      "Total e: 3724.935946522497\n",
      "Total e: 3549.8577559901223\n",
      "Total e: 3389.6217060840204\n",
      "Total e: 3242.3002827972023\n",
      "Total e: 3106.217110083481\n",
      "Total e: 2979.907797680018\n",
      "Total e: 2862.299216308773\n"
     ]
    },
    {
     "name": "stderr",
     "output_type": "stream",
     "text": [
      "\r",
      " 68%|██████▊   | 13/19 [58:06<26:49, 268.18s/it]"
     ]
    },
    {
     "name": "stdout",
     "output_type": "stream",
     "text": [
      "12line f1 score is 0.8371935809099389\n",
      "Total e: 7904.615087429823\n",
      "Total e: 5888.649895575121\n",
      "Total e: 5128.785430705995\n",
      "Total e: 4623.210912346251\n",
      "Total e: 4238.090792939546\n",
      "Total e: 3925.970091424394\n",
      "Total e: 3662.803398935442\n",
      "Total e: 3435.07449710265\n",
      "Total e: 3234.6541625455075\n",
      "Total e: 3055.739485768256\n",
      "Total e: 2894.391496308238\n",
      "Total e: 2747.8410969375027\n",
      "Total e: 2613.817921041818\n",
      "Total e: 2490.6611949519524\n",
      "Total e: 2377.079912235838\n",
      "Total e: 2271.878577892083\n",
      "Total e:"
     ]
    },
    {
     "name": "stderr",
     "output_type": "stream",
     "text": [
      "\r",
      " 74%|███████▎  | 14/19 [1:02:34<22:20, 268.17s/it]"
     ]
    },
    {
     "name": "stdout",
     "output_type": "stream",
     "text": [
      " 2174.1198347350182\n",
      "13line f1 score is 0.8580779983607472\n",
      "Total e: 8406.238774579908\n",
      "Total e: 5681.652110962408\n",
      "Total e: 4730.796463287934\n",
      "Total e: 4140.026665465494\n",
      "Total e: 3713.896607494934\n",
      "Total e: 3382.385596585189\n",
      "Total e: 3112.5564966553766\n",
      "Total e: 2886.73293017339\n",
      "Total e: 2693.322109827959\n",
      "Total e: 2524.6566117322113\n",
      "Total e: 2375.846406127994\n",
      "Total e: 2243.212057376043\n",
      "Total e: 2123.906614298418\n",
      "Total e: 2015.846614392234\n",
      "Total e: 1917.4647375338552\n",
      "Total e: 1827.5623703559818\n",
      "Total e:"
     ]
    },
    {
     "name": "stderr",
     "output_type": "stream",
     "text": [
      "\r",
      " 79%|███████▉  | 15/19 [1:06:59<17:51, 267.99s/it]"
     ]
    },
    {
     "name": "stdout",
     "output_type": "stream",
     "text": [
      " 1744.9907629085787\n",
      "14line f1 score is 0.9312377075907867\n",
      "Total e: 5480.328084147438\n",
      "Total e: 4408.226688536227\n",
      "Total e: 3849.34228269651\n",
      "Total e: 3448.1402190160607\n",
      "Total e: 3133.780834050695\n",
      "Total e: 2875.9797607423457\n",
      "Total e: 2659.2513980038007\n",
      "Total e: 2472.8310605955644\n",
      "Total e: 2310.5306082808756\n",
      "Total e: 2167.806200229292\n",
      "Total e: 2041.1057437046748\n",
      "Total e: 1927.8704564213956\n",
      "Total e: 1825.899629786705\n",
      "Total e: 1733.6170849892494\n",
      "Total e: 1649.7070892723334\n",
      "Total e: 1573.0670541874933\n",
      "Total e: 1502.7999384092059\n"
     ]
    },
    {
     "name": "stderr",
     "output_type": "stream",
     "text": [
      "\r",
      " 84%|████████▍ | 16/19 [1:11:21<13:22, 267.62s/it]"
     ]
    },
    {
     "name": "stdout",
     "output_type": "stream",
     "text": [
      "15line f1 score is 0.7766250218416915\n",
      "Total e: 4574.755154458393\n",
      "Total e: 3420.944603251621\n",
      "Total e: 2950.5926646201706\n",
      "Total e: 2637.3880772013226\n",
      "Total e: 2399.738766417239\n",
      "Total e: 2207.485302837677\n",
      "Total e: 2045.8178897351913\n",
      "Total e: 1906.5887229725276\n",
      "Total e: 1784.7528280673314\n",
      "Total e: 1676.8719022811479\n",
      "Total e: 1580.3617617212694\n",
      "Total e: 1493.251824143897\n",
      "Total e: 1414.176972520292\n",
      "Total e: 1342.110753169692\n",
      "Total e: 1276.1418552728035\n",
      "Total e: 1215.509006189154\n",
      "Total e: 1159.6156798256595\n"
     ]
    },
    {
     "name": "stderr",
     "output_type": "stream",
     "text": [
      "\r",
      " 89%|████████▉ | 17/19 [1:15:49<08:55, 267.59s/it]"
     ]
    },
    {
     "name": "stdout",
     "output_type": "stream",
     "text": [
      "16line f1 score is 0.8307732877779695\n",
      "Total e: 7856.64839009976\n",
      "Total e: 5476.9175740296305\n",
      "Total e: 4599.531271315676\n",
      "Total e: 4034.5348838270047\n",
      "Total e: 3616.2448832667897\n",
      "Total e: 3284.978137283086\n",
      "Total e: 3011.4344354809887\n",
      "Total e: 2779.181036966501\n",
      "Total e: 2578.0997902391914\n",
      "Total e: 2401.2904174949886\n",
      "Total e: 2244.112638869018\n",
      "Total e: 2103.2423228656285\n",
      "Total e: 1976.2358677159891\n",
      "Total e: 1860.9961502933763\n",
      "Total e: 1755.918995465249\n",
      "Total e: 1659.8775538248012\n",
      "Total e: 1571.6599994156438\n"
     ]
    },
    {
     "name": "stderr",
     "output_type": "stream",
     "text": [
      "\r",
      " 95%|█████████▍| 18/19 [1:20:24<04:28, 268.01s/it]"
     ]
    },
    {
     "name": "stdout",
     "output_type": "stream",
     "text": [
      "17line f1 score is 0.9272817338048331\n",
      "Total e: 8575.10037946601\n",
      "Total e: 6939.306384318606\n",
      "Total e: 6140.869413741058\n",
      "Total e: 5578.055396844392\n",
      "Total e: 5140.349925760016\n",
      "Total e: 4780.881238598329\n",
      "Total e: 4474.891697023244\n",
      "Total e: 4208.958397817443\n",
      "Total e: 3973.8698163868767\n",
      "Total e: 3763.5676046132166\n",
      "Total e: 3573.549506124744\n",
      "Total e: 3400.610503429098\n",
      "Total e: 3242.1569232233246\n",
      "Total e: 3096.2253662233074\n",
      "Total e: 2961.3524081885917\n",
      "Total e: 2836.184797427791\n",
      "Total e: 2719.6615998631787\n"
     ]
    },
    {
     "name": "stderr",
     "output_type": "stream",
     "text": [
      "\r",
      "100%|██████████| 19/19 [1:25:20<00:00, 269.53s/it]"
     ]
    },
    {
     "name": "stdout",
     "output_type": "stream",
     "text": [
      "18line f1 score is 0.7231831100284206\n",
      "now is 9 fold\n"
     ]
    },
    {
     "name": "stderr",
     "output_type": "stream",
     "text": [
      "\n",
      "  0%|          | 0/19 [00:00<?, ?it/s]"
     ]
    },
    {
     "name": "stdout",
     "output_type": "stream",
     "text": [
      "Total e: 8169.61023663668\n",
      "Total e: 6583.4476954959155\n",
      "Total e: 5861.5552874868845\n",
      "Total e: 5362.762869537062\n",
      "Total e: 4975.382766897656\n",
      "Total e: 4655.911599350124\n",
      "Total e: 4383.144015022468\n",
      "Total e: 4144.586154294906\n",
      "Total e: 3932.3960459673067\n",
      "Total e: 3741.538328637901\n",
      "Total e: 3568.3393631056642\n",
      "Total e: 3409.969327357135\n",
      "Total e: 3264.232262429518\n",
      "Total e: 3129.424606585972\n",
      "Total e: 3004.248305207906\n",
      "Total e: 2887.64288488667\n",
      "Total e: 2778.742868525044\n"
     ]
    },
    {
     "name": "stderr",
     "output_type": "stream",
     "text": [
      "\r",
      "  5%|▌         | 1/19 [05:11<1:33:31, 311.76s/it]"
     ]
    },
    {
     "name": "stdout",
     "output_type": "stream",
     "text": [
      "0line f1 score is 0.71504798309178\n",
      "Total e: 4371.665392339072\n",
      "Total e: 3270.2590188520726\n",
      "Total e: 2793.93834898742\n",
      "Total e: 2472.3023387336475\n",
      "Total e: 2227.211755653463\n",
      "Total e: 2029.0289489012644\n",
      "Total e: 1862.9968981059055\n",
      "Total e: 1720.5629013622715\n",
      "Total e: 1596.491697302683\n",
      "Total e: 1486.8592622221186\n",
      "Total e: 1389.1166760782844\n",
      "Total e: 1301.3785862090142\n",
      "Total e: 1222.1719066285268\n",
      "Total e: 1150.2886105670411\n",
      "Total e: 1084.8413040482887\n",
      "Total e: 1025.0381933426343\n",
      "Total e: 970.2026981093721\n"
     ]
    },
    {
     "name": "stderr",
     "output_type": "stream",
     "text": [
      "\r",
      " 11%|█         | 2/19 [09:41<1:22:25, 290.93s/it]"
     ]
    },
    {
     "name": "stdout",
     "output_type": "stream",
     "text": [
      "1line f1 score is 0.8330591227002342\n",
      "Total e: 9682.672456368009\n",
      "Total e: 6864.173409534099\n",
      "Total e: 5787.922910082938\n",
      "Total e: 5109.719371205817\n",
      "Total e: 4614.70233019328\n",
      "Total e: 4226.119274986032\n",
      "Total e: 3907.2590552504175\n",
      "Total e: 3637.806422473495\n",
      "Total e: 3405.1646627549517\n",
      "Total e: 3201.2397550413057\n",
      "Total e: 3020.428191167279\n",
      "Total e: 2858.529392466889\n",
      "Total e: 2712.2860843533535\n",
      "Total e: 2579.532640934856\n",
      "Total e: 2458.311063276405\n",
      "Total e: 2347.143870317246\n",
      "Total e: 2244.721545722767\n"
     ]
    },
    {
     "name": "stderr",
     "output_type": "stream",
     "text": [
      "\r",
      " 16%|█▌        | 3/19 [14:07<1:15:20, 282.51s/it]"
     ]
    },
    {
     "name": "stdout",
     "output_type": "stream",
     "text": [
      "2line f1 score is 0.922067815859668\n",
      "Total e: 5144.398077983478\n",
      "Total e: 3717.632097037907\n",
      "Total e: 3130.997882991854\n",
      "Total e: 2747.6008034906004\n",
      "Total e: 2463.4771254217735\n",
      "Total e: 2238.142984979077\n",
      "Total e: 2052.1144872133846\n",
      "Total e: 1894.4436655061336\n",
      "Total e: 1758.2545847540398\n",
      "Total e: 1639.0965186346293\n",
      "Total e: 1533.701260874689\n",
      "Total e: 1439.5711014631072\n",
      "Total e: 1354.9764578359723\n",
      "Total e: 1278.519807813958\n",
      "Total e: 1209.0696734690453\n",
      "Total e: 1145.7827290413784\n",
      "Total e: 1087.8443838176895\n"
     ]
    },
    {
     "name": "stderr",
     "output_type": "stream",
     "text": [
      "\r",
      " 21%|██        | 4/19 [18:41<1:10:05, 280.39s/it]"
     ]
    },
    {
     "name": "stdout",
     "output_type": "stream",
     "text": [
      "3line f1 score is 0.8929059909858219\n",
      "Total e: 3649.13128063629\n",
      "Total e: 2659.8276375611563\n",
      "Total e: 2236.359612561902\n",
      "Total e: 1956.1624936708367\n",
      "Total e: 1748.3163391525773\n",
      "Total e: 1583.9276193995872\n",
      "Total e: 1449.309026955902\n",
      "Total e: 1336.1444398177289\n",
      "Total e: 1239.0966098180502\n",
      "Total e: 1154.6113301469957\n",
      "Total e: 1080.4436808783084\n",
      "Total e: 1014.6503091989159\n",
      "Total e: 955.7598263128344\n",
      "Total e: 902.7987465819418\n",
      "Total e: 854.8888501490127\n",
      "Total e: 811.3408827823835\n",
      "Total e: 771.6249633123676\n"
     ]
    },
    {
     "name": "stderr",
     "output_type": "stream",
     "text": [
      "\r",
      " 26%|██▋       | 5/19 [23:09<1:04:49, 277.82s/it]"
     ]
    },
    {
     "name": "stdout",
     "output_type": "stream",
     "text": [
      "4line f1 score is 0.8669707978332977\n",
      "Total e: 7782.695741644657\n",
      "Total e: 5132.529576304181\n",
      "Total e: 4234.654781776481\n",
      "Total e: 3684.29749540079\n",
      "Total e: 3289.64345732807\n",
      "Total e: 2984.4920223639297\n",
      "Total e: 2736.847341114868\n",
      "Total e: 2529.477477119085\n",
      "Total e: 2351.563678545571\n",
      "Total e: 2196.2549929614693\n",
      "Total e: 2059.0991137328333\n",
      "Total e: 1936.9962356402025\n",
      "Total e: 1827.2547165730516\n",
      "Total e: 1727.9055850809232\n",
      "Total e: 1637.5258051837554\n",
      "Total e: 1554.8386631379976\n",
      "Total e: 1478.910206100117\n"
     ]
    },
    {
     "name": "stderr",
     "output_type": "stream",
     "text": [
      "\r",
      " 32%|███▏      | 6/19 [27:37<59:51, 276.23s/it]  "
     ]
    },
    {
     "name": "stdout",
     "output_type": "stream",
     "text": [
      "5line f1 score is 0.9452348328084391\n",
      "Total e: 4909.573385858417\n",
      "Total e: 3809.557230829468\n",
      "Total e: 3307.3557427476803\n",
      "Total e: 2963.4154147585905\n",
      "Total e: 2700.546945055371\n",
      "Total e: 2487.256382706879\n",
      "Total e: 2307.616963119495\n",
      "Total e: 2152.7988004266\n",
      "Total e: 2017.065185537407\n",
      "Total e: 1896.6047833805512\n",
      "Total e: 1788.6305978738746\n",
      "Total e: 1691.2468389640096\n",
      "Total e: 1602.89603861693\n",
      "Total e: 1522.2910513139361\n",
      "Total e: 1448.4201936613235\n",
      "Total e: 1380.423482784891\n",
      "Total e: 1317.6278606586854\n"
     ]
    },
    {
     "name": "stderr",
     "output_type": "stream",
     "text": [
      "\r",
      " 37%|███▋      | 7/19 [32:09<55:08, 275.69s/it]"
     ]
    },
    {
     "name": "stdout",
     "output_type": "stream",
     "text": [
      "6line f1 score is 0.8000764567508922\n",
      "Total e: 8748.618876010956\n",
      "Total e: 6763.622740553966\n",
      "Total e: 5971.757739222405\n",
      "Total e: 5432.792260326761\n",
      "Total e: 5018.4628690527625\n",
      "Total e: 4679.676715376988\n",
      "Total e: 4391.7841835905165\n",
      "Total e: 4141.481264553351\n",
      "Total e: 3920.229667240053\n",
      "Total e: 3722.1808428079935\n",
      "Total e: 3543.1021646911\n",
      "Total e: 3379.963897922524\n",
      "Total e: 3230.4223327410673\n",
      "Total e: 3092.645848418632\n",
      "Total e: 2965.1602793304937\n",
      "Total e: 2846.8246157375015\n",
      "Total e: 2736.6633016783117\n"
     ]
    },
    {
     "name": "stderr",
     "output_type": "stream",
     "text": [
      "\r",
      " 42%|████▏     | 8/19 [36:35<50:19, 274.49s/it]"
     ]
    },
    {
     "name": "stdout",
     "output_type": "stream",
     "text": [
      "7line f1 score is 0.5315380148830136\n",
      "Total e: 6619.1953892823185\n",
      "Total e: 4296.432940909598\n",
      "Total e: 3541.0120366093156\n",
      "Total e: 3065.615532138126\n",
      "Total e: 2720.8634717843565\n",
      "Total e: 2453.2698764822694\n",
      "Total e: 2235.873932976087\n",
      "Total e: 2054.079754424024\n",
      "Total e: 1898.7851212612616\n",
      "Total e: 1764.0521451345141\n",
      "Total e: 1645.8133066188618\n",
      "Total e: 1541.0251947401837\n",
      "Total e: 1447.4125245742716\n",
      "Total e: 1363.3134122324423\n",
      "Total e: 1287.222565331979\n",
      "Total e: 1218.0653613211666\n",
      "Total e: 1154.9667337886133\n"
     ]
    },
    {
     "name": "stderr",
     "output_type": "stream",
     "text": [
      "\r",
      " 47%|████▋     | 9/19 [41:02<45:35, 273.58s/it]"
     ]
    },
    {
     "name": "stdout",
     "output_type": "stream",
     "text": [
      "8line f1 score is 0.6376213576252965\n",
      "Total e: 7270.89089311016\n",
      "Total e: 5666.550292252372\n",
      "Total e: 4963.5251338562175\n",
      "Total e: 4481.577006408903\n",
      "Total e: 4109.634880930633\n",
      "Total e: 3805.0476549551986\n",
      "Total e: 3546.876734447311\n",
      "Total e: 3323.336766395198\n",
      "Total e: 3126.4795316743594\n",
      "Total e: 2950.668051526626\n",
      "Total e: 2792.209633419513\n",
      "Total e: 2648.2863713056263\n",
      "Total e: 2516.813541399526\n",
      "Total e: 2396.0711616171675\n",
      "Total e: 2284.731412998544\n",
      "Total e: 2181.666338002426\n",
      "Total e: 2085.96839070162\n"
     ]
    },
    {
     "name": "stderr",
     "output_type": "stream",
     "text": [
      "\r",
      " 53%|█████▎    | 10/19 [45:28<40:55, 272.87s/it]"
     ]
    },
    {
     "name": "stdout",
     "output_type": "stream",
     "text": [
      "9line f1 score is 0.7787057950624788\n",
      "Total e: 6001.416782110157\n",
      "Total e: 4823.53175490449\n",
      "Total e: 4226.474449651285\n",
      "Total e: 3805.310559901662\n",
      "Total e: 3480.0061769007416\n",
      "Total e: 3215.715751909219\n",
      "Total e: 2994.656762772618\n",
      "Total e: 2805.522461124134\n",
      "Total e: 2641.1216131877018\n",
      "Total e: 2496.221447105042\n",
      "Total e: 2367.1415218177694\n",
      "Total e: 2251.2429141721173\n",
      "Total e: 2146.2881589679464\n",
      "Total e: 2050.9035036877467\n",
      "Total e: 1963.67289555402\n"
     ]
    },
    {
     "name": "stderr",
     "output_type": "stream",
     "text": [
      "\r",
      " 58%|█████▊    | 11/19 [49:55<36:18, 272.32s/it]"
     ]
    },
    {
     "name": "stdout",
     "output_type": "stream",
     "text": [
      "Total e: 1883.5188525678\n",
      "Total e: 1809.5289992223313\n",
      "10line f1 score is 0.8214130224704242\n",
      "Total e: 7999.512885686615\n",
      "Total e: 6450.571048531299\n",
      "Total e: 5716.601740222481\n",
      "Total e: 5199.004807396625\n",
      "Total e: 4797.219956899428\n",
      "Total e: 4467.68291226925\n",
      "Total e: 4188.267512342887\n",
      "Total e: 3945.786747828306\n",
      "Total e: 3731.790104409647\n",
      "Total e: 3540.6289828454524\n",
      "Total e: 3368.197553068122\n",
      "Total e: 3211.381555734236\n",
      "Total e: 3067.9459121370414\n",
      "Total e: 2936.007209005118\n",
      "Total e: 2814.1411366094458\n",
      "Total e: 2701.1273825014027\n",
      "Total e: 2595.884397506945\n"
     ]
    },
    {
     "name": "stderr",
     "output_type": "stream",
     "text": [
      "\r",
      " 63%|██████▎   | 12/19 [54:24<31:44, 272.07s/it]"
     ]
    },
    {
     "name": "stdout",
     "output_type": "stream",
     "text": [
      "11line f1 score is 0.7990156717044135\n",
      "Total e: 9577.549272680484\n",
      "Total e: 7287.50500383432\n",
      "Total e: 6403.372159445079\n",
      "Total e: 5807.963570619973\n",
      "Total e: 5351.76176860266\n",
      "Total e: 4979.893540721198\n",
      "Total e: 4665.541502303474\n",
      "Total e: 4393.144664798836\n",
      "Total e: 4153.034418300359\n",
      "Total e: 3938.7019998374535\n",
      "Total e: 3745.438033203798\n",
      "Total e: 3569.858486622069\n",
      "Total e: 3409.246912898913\n",
      "Total e: 3261.47243277588\n",
      "Total e: 3124.9025259505293\n",
      "Total e: 2998.222780253422\n",
      "Total e: 2880.321955595519\n"
     ]
    },
    {
     "name": "stderr",
     "output_type": "stream",
     "text": [
      "\r",
      " 68%|██████▊   | 13/19 [58:59<27:13, 272.24s/it]"
     ]
    },
    {
     "name": "stdout",
     "output_type": "stream",
     "text": [
      "12line f1 score is 0.8328702557605587\n",
      "Total e: 7945.8171971319325\n",
      "Total e: 5936.274693423348\n",
      "Total e: 5178.370809022993\n",
      "Total e: 4672.480434076922\n",
      "Total e: 4287.377960822346\n",
      "Total e: 3974.484370941618\n",
      "Total e: 3710.1836276841327\n",
      "Total e: 3481.5308622483626\n",
      "Total e: 3280.004838293097\n",
      "Total e: 3100.020786568084\n",
      "Total e: 2937.7377456440663\n",
      "Total e: 2790.151390558784\n",
      "Total e: 2655.1906556125937\n",
      "Total e: 2531.1400858727184\n",
      "Total e: 2416.6385143693865\n",
      "Total e: 2310.5012440890473\n",
      "Total e: 2211.782390606294\n"
     ]
    },
    {
     "name": "stderr",
     "output_type": "stream",
     "text": [
      "\r",
      " 74%|███████▎  | 14/19 [1:03:28<22:40, 272.02s/it]"
     ]
    },
    {
     "name": "stdout",
     "output_type": "stream",
     "text": [
      "13line f1 score is 0.8732760863908405\n",
      "Total e: 8429.101131577756\n",
      "Total e: 5701.759833997143\n",
      "Total e: 4750.222560894378\n",
      "Total e: 4159.001235729191\n",
      "Total e: 3731.380320975473\n",
      "Total e: 3399.4548082716055\n",
      "Total e: 3129.5632164775916\n",
      "Total e: 2903.5445035343214\n",
      "Total e: 2709.869821386839\n",
      "Total e: 2541.028822894487\n",
      "Total e: 2392.0041938715567\n",
      "Total e: 2259.109921609046\n",
      "Total e: 2139.7209731643457\n",
      "Total e: 2031.652973709769\n",
      "Total e: 1933.2548012298073\n",
      "Total e: 1843.181356952595\n",
      "Total e: 1760.4460585101601\n"
     ]
    },
    {
     "name": "stderr",
     "output_type": "stream",
     "text": [
      "\r",
      " 79%|███████▉  | 15/19 [1:07:54<18:06, 271.63s/it]"
     ]
    },
    {
     "name": "stdout",
     "output_type": "stream",
     "text": [
      "14line f1 score is 0.9330117110277545\n",
      "Total e: 5475.835618089742\n",
      "Total e: 4404.0374869503685\n",
      "Total e: 3848.472134870595\n",
      "Total e: 3449.6848798446576\n",
      "Total e: 3136.7639839057324\n",
      "Total e: 2880.162365504746\n",
      "Total e: 2664.285032489139\n",
      "Total e: 2479.114014949076\n",
      "Total e: 2317.651203086585\n",
      "Total e: 2175.471956005335\n",
      "Total e: 2049.158190619559\n",
      "Total e: 1935.9920884620271\n",
      "Total e: 1833.9833271491184\n",
      "Total e: 1741.6224467097481\n",
      "Total e: 1657.6490305690218\n",
      "Total e: 1580.9958131452113\n",
      "Total e:"
     ]
    },
    {
     "name": "stderr",
     "output_type": "stream",
     "text": [
      "\r",
      " 84%|████████▍ | 16/19 [1:12:23<13:34, 271.48s/it]"
     ]
    },
    {
     "name": "stdout",
     "output_type": "stream",
     "text": [
      " 1510.7166204793732\n",
      "15line f1 score is 0.801093894163605\n",
      "Total e: 4568.850971299267\n",
      "Total e: 3416.9873315504215\n",
      "Total e: 2948.827445189478\n",
      "Total e: 2636.4196778956134\n",
      "Total e: 2399.4668646624937\n",
      "Total e: 2207.8623176710857\n",
      "Total e: 2047.0547827811579\n",
      "Total e: 1908.6312357241009\n",
      "Total e: 1787.4142317474164\n",
      "Total e: 1680.0947607113471\n",
      "Total e: 1584.1786970163128\n",
      "Total e: 1497.7329047782985\n",
      "Total e: 1419.349451906589\n",
      "Total e: 1347.899708068186\n",
      "Total e: 1282.484104544409\n",
      "Total e: 1222.3626411057278\n",
      "Total e: 1166.9571137641572\n"
     ]
    },
    {
     "name": "stderr",
     "output_type": "stream",
     "text": [
      "\r",
      " 89%|████████▉ | 17/19 [1:16:57<09:03, 271.61s/it]"
     ]
    },
    {
     "name": "stdout",
     "output_type": "stream",
     "text": [
      "16line f1 score is 0.838508855800425\n",
      "Total e: 7842.975747191069\n",
      "Total e: 5461.387947386704\n",
      "Total e: 4583.342671360279\n",
      "Total e: 4018.889979512763\n",
      "Total e: 3601.536728386002\n",
      "Total e: 3270.9878211872383\n",
      "Total e: 2998.1611915053986\n",
      "Total e: 2766.7627356427174\n",
      "Total e: 2566.407051036731\n",
      "Total e: 2390.546889773287\n",
      "Total e: 2234.291844130473\n",
      "Total e: 2094.3797423011756\n",
      "Total e: 1968.2261667878865\n",
      "Total e: 1853.7334635889283\n",
      "Total e: 1749.3895745389718\n",
      "Total e: 1653.8960675310109\n",
      "Total e: 1566.2270560223863\n"
     ]
    },
    {
     "name": "stderr",
     "output_type": "stream",
     "text": [
      "\r",
      " 95%|█████████▍| 18/19 [1:21:25<04:31, 271.42s/it]"
     ]
    },
    {
     "name": "stdout",
     "output_type": "stream",
     "text": [
      "17line f1 score is 0.6154493691002595\n",
      "Total e: 8548.873745963792\n",
      "Total e: 6911.944174977695\n",
      "Total e: 6115.81700734245\n",
      "Total e: 5554.50130628919\n",
      "Total e: 5117.643157986896\n",
      "Total e: 4758.727679639613\n",
      "Total e: 4453.517044408495\n",
      "Total e: 4188.13415163951\n",
      "Total e: 3953.979792756453\n",
      "Total e: 3744.5908376321695\n",
      "Total e: 3555.343982158043\n",
      "Total e: 3383.0714870126353\n",
      "Total e: 3225.229457823954\n",
      "Total e: 3079.9596596555625\n",
      "Total e: 2945.61595038591\n",
      "Total e: 2820.9519413925404\n",
      "Total e: 2704.9442627131966\n"
     ]
    },
    {
     "name": "stderr",
     "output_type": "stream",
     "text": [
      "\r",
      "100%|██████████| 19/19 [1:25:54<00:00, 271.27s/it]"
     ]
    },
    {
     "name": "stdout",
     "output_type": "stream",
     "text": [
      "18line f1 score is 0.7303906294814279\n",
      "now is 10 fold\n"
     ]
    },
    {
     "name": "stderr",
     "output_type": "stream",
     "text": [
      "\n",
      "  0%|          | 0/19 [00:00<?, ?it/s]"
     ]
    },
    {
     "name": "stdout",
     "output_type": "stream",
     "text": [
      "Total e: 8142.835721569904\n",
      "Total e: 6555.806467878557\n",
      "Total e: 5842.18985898594\n",
      "Total e: 5348.830989301616\n",
      "Total e: 4965.207605340353\n",
      "Total e: 4648.348184762427\n",
      "Total e: 4377.666892873513\n",
      "Total e: 4140.870910838279\n",
      "Total e: 3930.270270468313\n",
      "Total e: 3740.6225901188996\n",
      "Total e: 3568.421612771217\n",
      "Total e: 3410.912751478018\n",
      "Total e: 3265.9304493804307\n",
      "Total e: 3131.795852043752\n",
      "Total e: 3007.2220521599834\n",
      "Total e:"
     ]
    },
    {
     "name": "stderr",
     "output_type": "stream",
     "text": [
      "\r",
      "  5%|▌         | 1/19 [04:25<1:19:40, 265.60s/it]"
     ]
    },
    {
     "name": "stdout",
     "output_type": "stream",
     "text": [
      " 2891.149779886193\n",
      "Total e: 2782.7268670355265\n",
      "0line f1 score is 0.7434895064382381\n",
      "Total e: 4371.546296280312\n",
      "Total e: 3273.030984558858\n",
      "Total e: 2799.459360443914\n",
      "Total e: 2477.9904416187433\n",
      "Total e: 2233.2784127806544\n",
      "Total e: 2035.345490114704\n",
      "Total e: 1869.6657999599452\n",
      "Total e: 1727.7389981015244\n",
      "Total e: 1604.0699086724626\n",
      "Total e: 1494.9820135751706\n",
      "Total e: 1397.7242259200427\n",
      "Total e: 1310.436093427572\n",
      "Total e: 1231.6714244876748\n",
      "Total e: 1160.2671803165076\n",
      "Total e: 1095.200406356022\n",
      "Total e: 1035.726696649266\n",
      "Total e: 981.1293848850871\n"
     ]
    },
    {
     "name": "stderr",
     "output_type": "stream",
     "text": [
      "\r",
      " 11%|█         | 2/19 [08:51<1:15:13, 265.51s/it]"
     ]
    },
    {
     "name": "stdout",
     "output_type": "stream",
     "text": [
      "1line f1 score is 0.5687175234255576\n",
      "Total e: 9716.054886968732\n",
      "Total e: 6901.416300228562\n",
      "Total e: 5823.118693040566\n",
      "Total e: 5142.495520372834\n",
      "Total e: 4645.748078649244\n",
      "Total e: 4255.608323941002\n",
      "Total e: 3935.570686209019\n",
      "Total e: 3665.1367663869582\n",
      "Total e: 3431.7350857802658\n",
      "Total e: 3226.9730547866707\n",
      "Total e: 3045.1691934175706\n",
      "Total e: 2882.3815518888027\n",
      "Total e: 2735.5206326103753\n",
      "Total e: 2602.1048942527145\n",
      "Total e: 2480.28353560828\n",
      "Total e: 2368.5607527897128\n",
      "Total e: 2265.747078673468\n"
     ]
    },
    {
     "name": "stderr",
     "output_type": "stream",
     "text": [
      "\r",
      " 16%|█▌        | 3/19 [13:12<1:10:28, 264.29s/it]"
     ]
    },
    {
     "name": "stdout",
     "output_type": "stream",
     "text": [
      "2line f1 score is 0.6214720889853238\n",
      "Total e: 5156.955827151887\n",
      "Total e: 3738.1635062266882\n",
      "Total e: 3145.7145438722728\n",
      "Total e: 2758.265712695168\n",
      "Total e: 2471.2337385024994\n",
      "Total e: 2243.9292974070772\n",
      "Total e: 2056.398999332231\n",
      "Total e: 1897.3207120251516\n",
      "Total e: 1760.3019660719929\n",
      "Total e: 1640.604077391123\n",
      "Total e: 1534.693655280328\n",
      "Total e: 1440.1204466464474\n",
      "Total e: 1355.1234270510392\n",
      "Total e: 1278.3032931395321\n",
      "Total e: 1208.6700141122926\n",
      "Total e: 1145.2476852692323\n",
      "Total e: 1087.2197002190303\n"
     ]
    },
    {
     "name": "stderr",
     "output_type": "stream",
     "text": [
      "\r",
      " 21%|██        | 4/19 [17:37<1:06:05, 264.38s/it]"
     ]
    },
    {
     "name": "stdout",
     "output_type": "stream",
     "text": [
      "3line f1 score is 0.5942908259030167\n",
      "Total e: 3674.7485083797214\n",
      "Total e: 2685.1903396169355\n",
      "Total e: 2254.5324519274295\n",
      "Total e: 1971.1001883608174\n",
      "Total e: 1761.6315717146433\n",
      "Total e: 1596.5686257139362\n",
      "Total e: 1461.5324191543032\n",
      "Total e: 1348.1011504905312\n",
      "Total e: 1250.8033796744817\n",
      "Total e: 1166.222865135769\n",
      "Total e: 1091.8011494067784\n",
      "Total e: 1025.6878868992953\n",
      "Total e: 966.4506137913417\n",
      "Total e: 913.0752376094567\n",
      "Total e: 864.7349475269515\n",
      "Total e: 820.7543867649608\n",
      "Total e: 780.5661635548505\n"
     ]
    },
    {
     "name": "stderr",
     "output_type": "stream",
     "text": [
      "\r",
      " 26%|██▋       | 5/19 [22:00<1:01:37, 264.09s/it]"
     ]
    },
    {
     "name": "stdout",
     "output_type": "stream",
     "text": [
      "4line f1 score is 0.8612485415291107\n",
      "Total e: 7775.995342129927\n",
      "Total e: 5112.581705849348\n",
      "Total e: 4217.558801173447\n",
      "Total e: 3668.8611800673575\n",
      "Total e: 3275.6349472720676\n",
      "Total e: 2971.4543643165866\n",
      "Total e: 2724.4644147171957\n",
      "Total e: 2517.4266738616825\n",
      "Total e: 2339.9809042112943\n",
      "Total e: 2185.137866149645\n",
      "Total e: 2048.342822178623\n",
      "Total e: 1926.4540439699267\n",
      "Total e: 1816.9586644424976\n",
      "Total e: 1717.9366994098743\n",
      "Total e: 1627.8569873630042\n",
      "Total e: 1545.5654015917137\n",
      "Total e: 1469.9807285673194\n"
     ]
    },
    {
     "name": "stderr",
     "output_type": "stream",
     "text": [
      "\r",
      " 32%|███▏      | 6/19 [26:25<57:14, 264.22s/it]  "
     ]
    },
    {
     "name": "stdout",
     "output_type": "stream",
     "text": [
      "5line f1 score is 0.6232123621886991\n",
      "Total e: 4891.325931609315\n",
      "Total e: 3781.7055640586696\n",
      "Total e: 3281.821678235172\n",
      "Total e: 2940.0547791758186\n",
      "Total e: 2679.0931328029656\n",
      "Total e: 2467.4041266993563\n",
      "Total e: 2289.122188802588\n",
      "Total e: 2135.2867569831997\n",
      "Total e: 2000.552166465703\n",
      "Total e: 1881.0198858354354\n",
      "Total e: 1773.758236665488\n",
      "Total e: 1676.7876138721983\n",
      "Total e: 1588.668833857707\n",
      "Total e: 1508.2124203395692\n",
      "Total e: 1434.5009127373703\n",
      "Total e: 1366.67017088396\n",
      "Total e: 1304.0552633198142\n"
     ]
    },
    {
     "name": "stderr",
     "output_type": "stream",
     "text": [
      "\r",
      " 37%|███▋      | 7/19 [30:50<52:51, 264.31s/it]"
     ]
    },
    {
     "name": "stdout",
     "output_type": "stream",
     "text": [
      "6line f1 score is 0.768605940563899\n",
      "Total e: 8761.55665996074\n",
      "Total e: 6779.753905407022\n",
      "Total e: 5987.398878928763\n",
      "Total e: 5448.872816718865\n",
      "Total e: 5034.432954585976\n",
      "Total e: 4695.254242886962\n",
      "Total e: 4407.56854059342\n",
      "Total e: 4157.417660798555\n",
      "Total e: 3936.191580238153\n",
      "Total e: 3738.147386146369\n",
      "Total e: 3559.169906418168\n",
      "Total e: 3396.13460403343\n",
      "Total e: 3246.694201843231\n",
      "Total e: 3109.078698029383\n",
      "Total e: 2981.74487105519\n",
      "Total e: 2863.405629100416\n",
      "Total e: 2753.1051352853697\n"
     ]
    },
    {
     "name": "stderr",
     "output_type": "stream",
     "text": [
      "\r",
      " 42%|████▏     | 8/19 [35:16<48:30, 264.61s/it]"
     ]
    },
    {
     "name": "stdout",
     "output_type": "stream",
     "text": [
      "7line f1 score is 0.8145175964219651\n",
      "Total e: 6618.945733859556\n",
      "Total e: 4306.074822747263\n",
      "Total e: 3555.771064858937\n",
      "Total e: 3082.741381232358\n",
      "Total e: 2738.890339997128\n",
      "Total e: 2471.640574074444\n",
      "Total e: 2254.4570985394507\n",
      "Total e: 2072.568962296797\n",
      "Total e: 1917.122643484088\n",
      "Total e: 1782.0479393339615\n",
      "Total e: 1663.384705990402\n",
      "Total e: 1558.1579250180039\n",
      "Total e: 1464.1270775473488\n",
      "Total e: 1379.6105786561018\n",
      "Total e: 1303.1865638062268\n",
      "Total e: 1233.6768675933374\n",
      "Total e: 1170.2207208556786\n"
     ]
    },
    {
     "name": "stderr",
     "output_type": "stream",
     "text": [
      "\r",
      " 47%|████▋     | 9/19 [39:43<44:08, 264.83s/it]"
     ]
    },
    {
     "name": "stdout",
     "output_type": "stream",
     "text": [
      "8line f1 score is 0.640145485217401\n",
      "Total e: 7278.9496080907575\n",
      "Total e: 5672.807600600891\n",
      "Total e: 4974.224349825485\n",
      "Total e: 4494.665166863534\n",
      "Total e: 4123.984751778387\n",
      "Total e: 3820.2571586409604\n",
      "Total e: 3562.8716781203484\n",
      "Total e: 3339.7070703810004\n",
      "Total e: 3142.8728020586805\n",
      "Total e: 2967.1401421717555\n",
      "Total e: 2808.6965329926443\n",
      "Total e: 2664.6591863579947\n",
      "Total e: 2533.022924657548\n",
      "Total e: 2412.153279177615\n",
      "Total e: 2300.6355752220293\n",
      "Total e: 2197.415130066234\n",
      "Total e: 2101.522795909702\n"
     ]
    },
    {
     "name": "stderr",
     "output_type": "stream",
     "text": [
      "\r",
      " 53%|█████▎    | 10/19 [44:08<39:43, 264.86s/it]"
     ]
    },
    {
     "name": "stdout",
     "output_type": "stream",
     "text": [
      "9line f1 score is 0.7935804184813289\n",
      "Total e: 6016.064728882363\n",
      "Total e: 4848.611000295994\n",
      "Total e: 4249.629704023414\n",
      "Total e: 3826.0073397586334\n",
      "Total e: 3498.3481169329675\n",
      "Total e: 3232.2747433433515\n",
      "Total e: 3010.011445077851\n",
      "Total e: 2820.0258452826033\n",
      "Total e: 2654.862315577429\n",
      "Total e: 2509.2666403166186\n",
      "Total e: 2379.618876414518\n",
      "Total e: 2263.0088080448404\n",
      "Total e: 2157.5448539357562\n",
      "Total e: 2061.6589093972784\n",
      "Total e: 1973.8867504477905\n",
      "Total e: 1893.3091165502985\n",
      "Total e: 1818.9928962699635\n"
     ]
    },
    {
     "name": "stderr",
     "output_type": "stream",
     "text": [
      "\r",
      " 58%|█████▊    | 11/19 [48:34<35:19, 264.96s/it]"
     ]
    },
    {
     "name": "stdout",
     "output_type": "stream",
     "text": [
      "10line f1 score is 0.817231142404042\n",
      "Total e: 8014.373776591885\n",
      "Total e: 6460.881760791329\n",
      "Total e: 5723.401002037501\n",
      "Total e: 5203.35949593966\n",
      "Total e: 4799.45928867823\n",
      "Total e: 4468.397530886395\n",
      "Total e: 4187.784383910554\n",
      "Total e: 3944.5018135885507\n",
      "Total e: 3729.980507514732\n",
      "Total e: 3538.332588523987\n",
      "Total e: 3365.5734441552922\n",
      "Total e: 3208.592054787539\n",
      "Total e: 3064.966690743349\n",
      "Total e: 2932.900045315391\n",
      "Total e: 2810.942977892928\n",
      "Total e: 2697.851991412981\n",
      "Total e: 2592.575368445586\n"
     ]
    },
    {
     "name": "stderr",
     "output_type": "stream",
     "text": [
      "\r",
      " 63%|██████▎   | 12/19 [52:55<30:52, 264.61s/it]"
     ]
    },
    {
     "name": "stdout",
     "output_type": "stream",
     "text": [
      "11line f1 score is 0.7901594537891595\n",
      "Total e: 9559.11618946817\n",
      "Total e: 7278.856082821798\n",
      "Total e: 6396.737626981119\n",
      "Total e: 5801.617559479077\n",
      "Total e: 5346.155414955029\n",
      "Total e: 4975.082434518557\n",
      "Total e: 4661.450573392037\n",
      "Total e: 4389.767341701999\n",
      "Total e: 4150.221597155351\n",
      "Total e: 3936.272500260505\n",
      "Total e: 3743.319780159404\n",
      "Total e: 3568.0339112251927\n",
      "Total e: 3407.761554947858\n",
      "Total e: 3260.280711664701\n",
      "Total e: 3124.00199467235\n",
      "Total e: 2997.645397149953\n",
      "Total e: 2880.0775407332276\n"
     ]
    },
    {
     "name": "stderr",
     "output_type": "stream",
     "text": [
      "\r",
      " 68%|██████▊   | 13/19 [57:19<26:27, 264.58s/it]"
     ]
    },
    {
     "name": "stdout",
     "output_type": "stream",
     "text": [
      "12line f1 score is 0.8506143464471738\n",
      "Total e: 7942.86903781301\n",
      "Total e: 5939.891141436752\n",
      "Total e: 5179.280943064681\n",
      "Total e: 4672.42835746874\n",
      "Total e: 4285.736654124694\n",
      "Total e: 3971.4133167146874\n",
      "Total e: 3706.186942183747\n",
      "Total e: 3476.832468050709\n",
      "Total e: 3274.8936169343083\n",
      "Total e: 3094.5087618057605\n",
      "Total e: 2931.824723939639\n",
      "Total e: 2784.037985263266\n",
      "Total e: 2648.913128586917\n",
      "Total e: 2524.79104172923\n",
      "Total e: 2410.211279806196\n",
      "Total e: 2304.1566696256714\n",
      "Total e: 2205.613367823177\n"
     ]
    },
    {
     "name": "stderr",
     "output_type": "stream",
     "text": [
      "\r",
      " 74%|███████▎  | 14/19 [1:01:53<22:06, 265.26s/it]"
     ]
    },
    {
     "name": "stdout",
     "output_type": "stream",
     "text": [
      "13line f1 score is 0.8718361190258374\n",
      "Total e: 8409.412249434676\n",
      "Total e: 5688.466094538685\n",
      "Total e: 4738.271818153014\n",
      "Total e: 4147.781929292915\n",
      "Total e: 3720.4178117139454\n",
      "Total e: 3388.2358807382716\n",
      "Total e: 3117.899318723865\n",
      "Total e: 2891.6129298020373\n",
      "Total e: 2697.793660670524\n",
      "Total e: 2528.9891818818187\n",
      "Total e: 2379.8562465577374\n",
      "Total e: 2247.0123810699833\n",
      "Total e: 2127.5760835499123\n",
      "Total e: 2019.4303668444693\n",
      "Total e: 1920.979379290709\n",
      "Total e: 1830.9101250265153\n",
      "Total e: 1748.1937973199906\n"
     ]
    },
    {
     "name": "stderr",
     "output_type": "stream",
     "text": [
      "\r",
      " 79%|███████▉  | 15/19 [1:06:44<17:47, 266.99s/it]"
     ]
    },
    {
     "name": "stdout",
     "output_type": "stream",
     "text": [
      "14line f1 score is 0.6243088840903318\n",
      "Total e: 5474.170988446625\n",
      "Total e: 4411.282161489763\n",
      "Total e: 3855.145455513353\n",
      "Total e: 3455.0604679672606\n",
      "Total e: 3141.1499991286137\n",
      "Total e: 2883.841158178845\n",
      "Total e: 2667.4196274924348\n",
      "Total e: 2481.8424732818557\n",
      "Total e: 2320.312533618192\n",
      "Total e: 2178.1275111863906\n",
      "Total e: 2051.8488892203254\n",
      "Total e: 1938.8747965541927\n",
      "Total e: 1837.0976298688431\n",
      "Total e: 1744.898022751248\n",
      "Total e: 1660.9035845871558\n",
      "Total e: 1584.2051261317088\n",
      "Total e: 1513.9266134022146\n"
     ]
    },
    {
     "name": "stderr",
     "output_type": "stream",
     "text": [
      "\r",
      " 84%|████████▍ | 16/19 [1:11:42<13:26, 268.90s/it]"
     ]
    },
    {
     "name": "stdout",
     "output_type": "stream",
     "text": [
      "15line f1 score is 0.8080376968469347\n",
      "Total e: 4583.178258936795\n",
      "Total e: 3435.1964311363936\n",
      "Total e: 2966.029954430821\n",
      "Total e: 2652.655742366688\n",
      "Total e: 2414.7416159428167\n",
      "Total e: 2221.88923913887\n",
      "Total e: 2059.7284518524298\n",
      "Total e: 1919.970591460986\n",
      "Total e: 1797.7004321436116\n",
      "Total e: 1689.3203910933557\n",
      "Total e: 1592.2817785439345\n",
      "Total e: 1504.796758891085\n",
      "Total e: 1425.421968932711\n",
      "Total e: 1353.0419249979377\n",
      "Total e: 1286.8068950487955\n",
      "Total e: 1225.9788147757981\n",
      "Total e: 1169.9177454997025\n"
     ]
    },
    {
     "name": "stderr",
     "output_type": "stream",
     "text": [
      "\r",
      " 89%|████████▉ | 17/19 [1:16:23<08:59, 269.63s/it]"
     ]
    },
    {
     "name": "stdout",
     "output_type": "stream",
     "text": [
      "16line f1 score is 0.8592927272736401\n",
      "Total e: 7825.9385397585775\n",
      "Total e: 5442.55708016185\n",
      "Total e: 4568.287218538973\n",
      "Total e: 4007.263149039557\n",
      "Total e: 3592.31565054961\n",
      "Total e: 3263.80289933163\n",
      "Total e: 2992.958658915123\n",
      "Total e: 2763.2301299929036\n",
      "Total e: 2564.411843984262\n",
      "Total e: 2389.7169324011015\n",
      "Total e: 2234.401139872254\n",
      "Total e: 2095.276781769043\n",
      "Total e: 1969.7193086567297\n",
      "Total e: 1855.785662252722\n",
      "Total e: 1751.9241536293023\n",
      "Total e: 1656.8346290618383\n",
      "Total e: 1569.4635353841488\n"
     ]
    },
    {
     "name": "stderr",
     "output_type": "stream",
     "text": [
      "\r",
      " 95%|█████████▍| 18/19 [1:20:46<04:29, 269.23s/it]"
     ]
    },
    {
     "name": "stdout",
     "output_type": "stream",
     "text": [
      "17line f1 score is 0.9221044860360832\n",
      "Total e: 8549.751330677655\n",
      "Total e: 6916.629326720462\n",
      "Total e: 6120.104782476442\n",
      "Total e: 5559.616613634102\n",
      "Total e: 5123.314327212374\n",
      "Total e: 4765.016012625153\n",
      "Total e: 4460.281523022411\n",
      "Total e: 4195.063992741188\n",
      "Total e: 3960.3774855092042\n",
      "Total e: 3750.499391755333\n",
      "Total e: 3560.9103287655958\n",
      "Total e: 3388.330383048669\n",
      "Total e: 3230.204922877293\n",
      "Total e: 3084.4335867762297\n",
      "Total e: 2949.6325418218885\n",
      "Total e: 2824.5327974403326\n",
      "Total e: 2708.1120470707697\n"
     ]
    },
    {
     "name": "stderr",
     "output_type": "stream",
     "text": [
      "\r",
      "100%|██████████| 19/19 [1:25:10<00:00, 268.99s/it]"
     ]
    },
    {
     "name": "stdout",
     "output_type": "stream",
     "text": [
      "18line f1 score is 0.7362554757934826\n"
     ]
    },
    {
     "name": "stderr",
     "output_type": "stream",
     "text": [
      "\n"
     ]
    }
   ],
   "source": [
    "train_pred,test_pred = kf_train(fold_cnt=10,rnd=4)"
   ]
  },
  {
   "cell_type": "code",
   "execution_count": 19,
   "metadata": {},
   "outputs": [
    {
     "data": {
      "text/plain": [
       "array([-4.48980604e-02,  7.97121887e-03,  3.87572750e-04,  4.90017502e-02,\n",
       "        8.87402939e-01,  3.48357102e-02,  5.40027465e-02,  1.75255933e-02,\n",
       "        3.50844372e-02, -1.15918754e-01,  7.11722374e-02,  1.87814438e-02,\n",
       "       -3.76947944e-02,  3.48229131e-02,  6.06087253e-03, -3.59507870e-03,\n",
       "        8.93293604e-02, -3.91087109e-02,  8.48882779e-02])"
      ]
     },
     "execution_count": 19,
     "metadata": {},
     "output_type": "execute_result"
    }
   ],
   "source": [
    "test_pred[0]"
   ]
  },
  {
   "cell_type": "code",
   "execution_count": 20,
   "metadata": {},
   "outputs": [],
   "source": [
    "import pickle\n",
    "with open('../feature/stacking_pkl_file/10_fold_fm.pkl','wb') as fout:\n",
    "    pickle.dump([train_pred,test_pred],fout)"
   ]
  },
  {
   "cell_type": "code",
   "execution_count": null,
   "metadata": {},
   "outputs": [],
   "source": []
  }
 ],
 "metadata": {
  "kernelspec": {
   "display_name": "Python 3",
   "language": "python",
   "name": "python3"
  },
  "language_info": {
   "codemirror_mode": {
    "name": "ipython",
    "version": 3
   },
   "file_extension": ".py",
   "mimetype": "text/x-python",
   "name": "python",
   "nbconvert_exporter": "python",
   "pygments_lexer": "ipython3",
   "version": "3.5.2"
  }
 },
 "nbformat": 4,
 "nbformat_minor": 2
}

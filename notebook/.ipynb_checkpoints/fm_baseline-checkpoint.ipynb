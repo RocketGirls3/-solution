{
 "cells": [
  {
   "cell_type": "code",
   "execution_count": 35,
   "metadata": {},
   "outputs": [],
   "source": [
    "import pandas as pd, numpy as np\n",
    "from sklearn.linear_model import LogisticRegression\n",
    "from sklearn.feature_extraction.text import CountVectorizer, TfidfVectorizer\n",
    "import time\n",
    "from sklearn.model_selection import train_test_split\n",
    "from wordbatch.extractors import WordHash, WordBag\n",
    "from wordbatch.models import FM_FTRL,FTRL\n",
    "from sklearn.metrics import f1_score\n",
    "import wordbatch\n",
    "from keras.utils import np_utils\n",
    "from sklearn.metrics import f1_score\n",
    "import pickle\n",
    "from scipy.sparse import csr_matrix, hstack"
   ]
  },
  {
   "cell_type": "code",
   "execution_count": 36,
   "metadata": {},
   "outputs": [],
   "source": [
    "t1=time.time()\n",
    "train = pd.read_csv('../input/train2.csv')\n",
    "test = pd.read_csv('../input/test2.csv')\n",
    "test_id = pd.read_csv('../input/new_data/test_set.csv')[[\"id\"]].copy()\n"
   ]
  },
  {
   "cell_type": "code",
   "execution_count": 37,
   "metadata": {},
   "outputs": [],
   "source": [
    "y=(train[\"class\"]-1).astype(int)"
   ]
  },
  {
   "cell_type": "code",
   "execution_count": 38,
   "metadata": {},
   "outputs": [],
   "source": [
    "merge = pd.concat([train, test])"
   ]
  },
  {
   "cell_type": "code",
   "execution_count": 39,
   "metadata": {},
   "outputs": [],
   "source": [
    "\n",
    "def sigmoid(x):\n",
    "    return 1 / (1 + np.exp(-x))\n",
    "new=False"
   ]
  },
  {
   "cell_type": "code",
   "execution_count": 40,
   "metadata": {},
   "outputs": [],
   "source": [
    "\n",
    "\n",
    "if new:\n",
    "    trn_term_doc, test_term_doc= pickle.load(open('../feature/tifi_min4.pkl','rb'))\n",
    "    \n",
    "    column=\"article\"\n",
    "    n = train.shape[0]\n",
    "    vec = TfidfVectorizer(ngram_range=(1,3),min_df=4, max_df=0.9,use_idf=1,smooth_idf=1, sublinear_tf=1, max_features=60000)\n",
    "    vec.fit(merge[column])\n",
    "    trn_article_doc = vec.transform(train[column])\n",
    "    test_article_doc = vec.transform(test[column])\n",
    "else:\n",
    "    trn_term_doc, test_term_doc= pickle.load(open('../feature/tifi_min4.pkl','rb'))\n",
    "#     train_svd, test_svd= pickle.load(open('../feature/svd_5.pkl','rb'))"
   ]
  },
  {
   "cell_type": "code",
   "execution_count": 26,
   "metadata": {},
   "outputs": [],
   "source": [
    "# lda1 = pd.read_csv('../feature/other_features/features-vinson/ldaFeature10.csv')\n",
    "# w2v =  pd.read_csv('../feature/other_features/features-vinson/w2vFeatureSum100.csv')"
   ]
  },
  {
   "cell_type": "code",
   "execution_count": 27,
   "metadata": {
    "scrolled": true
   },
   "outputs": [],
   "source": [
    "# lda2 = pd.read_csv('../feature/other_features/features-vinson/ldaFeature20.csv')\n",
    "# lda3 = pd.read_csv('../feature/other_features/features-vinson/ldaFeature30.csv')\n",
    "# lda4 = pd.read_csv('../feature/other_features/features-vinson/ldaFeature40.csv')"
   ]
  },
  {
   "cell_type": "code",
   "execution_count": 41,
   "metadata": {
    "scrolled": true
   },
   "outputs": [],
   "source": [
    "def self_f1_score(data, y_hat):\n",
    "    y_true = data\n",
    "    y_hat = np.round(y_hat) # scikits f1 doesn't like probabilities\n",
    "    return f1_score(y_true, y_hat, average='macro')"
   ]
  },
  {
   "cell_type": "code",
   "execution_count": 42,
   "metadata": {},
   "outputs": [],
   "source": [
    "\n",
    "name = [\"class_prob_%s\"%i for i in range(1,20)]"
   ]
  },
  {
   "cell_type": "code",
   "execution_count": 44,
   "metadata": {},
   "outputs": [],
   "source": [
    "# X_train = hstack((trn_term_doc)).tocsr()\n",
    "# X_test = hstack((test_term_doc)).tocsr()\n",
    "X_train = trn_term_doc\n",
    "X_test = test_term_doc"
   ]
  },
  {
   "cell_type": "code",
   "execution_count": 45,
   "metadata": {},
   "outputs": [],
   "source": [
    "X_train, X_valid, Y_train, Y_valid = train_test_split(X_train, y, test_size=0.1, random_state=42)"
   ]
  },
  {
   "cell_type": "code",
   "execution_count": 46,
   "metadata": {},
   "outputs": [],
   "source": [
    "test_prob = pd.DataFrame([],columns=[\"class_prob_%s\"%i for i in range(1,20)])\n",
    "train_prob = pd.DataFrame([],columns=[\"class_prob_%s\"%i for i in range(1,20)])"
   ]
  },
  {
   "cell_type": "code",
   "execution_count": 47,
   "metadata": {},
   "outputs": [],
   "source": [
    "one_y_train=np_utils.to_categorical(y,num_classes=19)\n",
    "one_y_val=np_utils.to_categorical(Y_valid,num_classes=20)"
   ]
  },
  {
   "cell_type": "code",
   "execution_count": null,
   "metadata": {},
   "outputs": [
    {
     "name": "stderr",
     "output_type": "stream",
     "text": [
      "\r",
      "  0%|          | 0/20 [00:00<?, ?it/s]"
     ]
    }
   ],
   "source": [
    "from tqdm import tqdm\n",
    "for i in tqdm(range(20)):\n",
    "    model = FM_FTRL(alpha=0.0001, beta=0.01, L1=0.00001, L2=0.00001, D=X_train.shape[1], alpha_fm=0.01, L2_fm=0.0, init_fm=0.01,\n",
    "                    D_fm=200, e_noise=0.0001, iters=10, inv_link=\"identity\", threads=4)\n",
    "\n",
    "    model.fit(X_train, one_y_train[:,i])\n",
    "    valid_re = model.predict(X_valid)\n",
    "    score= self_f1_score(one_y_val[:,i],valid_re)\n",
    "    test_re = model.predict(X_test)\n",
    "    print ('score is {}'.format(score))\n",
    "    test_prob['class_prob_%s'%(i+1)] = test_re\n",
    "    train_prob['class_prob_%s'%(i+1)] = valid_re"
   ]
  },
  {
   "cell_type": "code",
   "execution_count": 12,
   "metadata": {},
   "outputs": [],
   "source": [
    "# predsF = model.predict(X_valid)"
   ]
  },
  {
   "cell_type": "code",
   "execution_count": 15,
   "metadata": {},
   "outputs": [
    {
     "name": "stdout",
     "output_type": "stream",
     "text": [
      "score is 0.772927091817362\n"
     ]
    }
   ],
   "source": [
    "val_result = np.argmax(train_prob[name].values,axis=1)\n",
    "print ('score is {}'.format(f1_score(Y_valid, val_result, average='macro')))"
   ]
  },
  {
   "cell_type": "code",
   "execution_count": 14,
   "metadata": {},
   "outputs": [],
   "source": [
    "with open('../feature/stackint_pkl_file/fm.pkl','wb') as fout:\n",
    "    pickle.dump([train_prob,test_prob],fout)"
   ]
  },
  {
   "cell_type": "code",
   "execution_count": 15,
   "metadata": {
    "scrolled": true
   },
   "outputs": [],
   "source": [
    "test_prob[\"id\"]=list(test_id[\"id\"])\n",
    "test_prob.to_csv('../output/prob_fm_baseline2.csv',index=None)"
   ]
  },
  {
   "cell_type": "code",
   "execution_count": 28,
   "metadata": {},
   "outputs": [
    {
     "name": "stdout",
     "output_type": "stream",
     "text": [
      "(102277, 1)\n",
      "(102277, 1)\n"
     ]
    }
   ],
   "source": [
    "c = [\"class_prob_%s\"%i for i in range(1,21)]\n",
    "preds=np.argmax(test_prob[c].values,axis=1)\n",
    "test_pred=pd.DataFrame(preds)\n",
    "test_pred.columns=[\"class\"]\n",
    "test_pred[\"class\"]=(test_pred[\"class\"]+1).astype(int)\n",
    "print(test_pred.shape)\n",
    "print(test_id.shape)\n",
    "test_pred[\"id\"]=list(test_id[\"id\"])\n",
    "test_pred[[\"id\",\"class\"]].to_csv('../output/fm_baseline3.csv',index=None)"
   ]
  },
  {
   "cell_type": "code",
   "execution_count": 21,
   "metadata": {},
   "outputs": [
    {
     "data": {
      "text/plain": [
       "array([ 5, 21, 21, ..., 21, 21, 21])"
      ]
     },
     "execution_count": 21,
     "metadata": {},
     "output_type": "execute_result"
    }
   ],
   "source": [
    "preds"
   ]
  },
  {
   "cell_type": "code",
   "execution_count": 27,
   "metadata": {},
   "outputs": [
    {
     "data": {
      "text/plain": [
       "array([ 4,  3, 12, ...,  5, 13, 12])"
      ]
     },
     "execution_count": 27,
     "metadata": {},
     "output_type": "execute_result"
    }
   ],
   "source": [
    "np.argmax(test_prob[c].values,axis=1)"
   ]
  },
  {
   "cell_type": "code",
   "execution_count": 23,
   "metadata": {},
   "outputs": [],
   "source": []
  },
  {
   "cell_type": "code",
   "execution_count": 24,
   "metadata": {},
   "outputs": [
    {
     "data": {
      "text/plain": [
       "['class_prob_1',\n",
       " 'class_prob_2',\n",
       " 'class_prob_3',\n",
       " 'class_prob_4',\n",
       " 'class_prob_5',\n",
       " 'class_prob_6',\n",
       " 'class_prob_7',\n",
       " 'class_prob_8',\n",
       " 'class_prob_9',\n",
       " 'class_prob_10',\n",
       " 'class_prob_11',\n",
       " 'class_prob_12',\n",
       " 'class_prob_13',\n",
       " 'class_prob_14',\n",
       " 'class_prob_15',\n",
       " 'class_prob_16',\n",
       " 'class_prob_17',\n",
       " 'class_prob_18',\n",
       " 'class_prob_19',\n",
       " 'class_prob_20']"
      ]
     },
     "execution_count": 24,
     "metadata": {},
     "output_type": "execute_result"
    }
   ],
   "source": [
    "c"
   ]
  },
  {
   "cell_type": "code",
   "execution_count": null,
   "metadata": {},
   "outputs": [],
   "source": []
  }
 ],
 "metadata": {
  "kernelspec": {
   "display_name": "Python 3",
   "language": "python",
   "name": "python3"
  },
  "language_info": {
   "codemirror_mode": {
    "name": "ipython",
    "version": 3
   },
   "file_extension": ".py",
   "mimetype": "text/x-python",
   "name": "python",
   "nbconvert_exporter": "python",
   "pygments_lexer": "ipython3",
   "version": "3.5.2"
  }
 },
 "nbformat": 4,
 "nbformat_minor": 2
}

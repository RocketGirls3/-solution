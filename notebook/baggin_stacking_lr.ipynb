{
 "cells": [
  {
   "cell_type": "code",
   "execution_count": 1,
   "metadata": {},
   "outputs": [
    {
     "name": "stderr",
     "output_type": "stream",
     "text": [
      "/usr/local/lib/python3.5/dist-packages/h5py/__init__.py:36: FutureWarning: Conversion of the second argument of issubdtype from `float` to `np.floating` is deprecated. In future, it will be treated as `np.float64 == np.dtype(float).type`.\n",
      "  from ._conv import register_converters as _register_converters\n",
      "Using TensorFlow backend.\n"
     ]
    }
   ],
   "source": [
    "import pickle\n",
    "import glob\n",
    "import pandas as pd\n",
    "import numpy as np\n",
    "from sklearn.linear_model import LogisticRegression\n",
    "from sklearn.metrics import log_loss\n",
    "from keras.layers import *\n",
    "from keras import optimizers\n",
    "from keras import backend as K\n",
    "from sklearn.metrics import f1_score"
   ]
  },
  {
   "cell_type": "code",
   "execution_count": 2,
   "metadata": {},
   "outputs": [
    {
     "name": "stdout",
     "output_type": "stream",
     "text": [
      "file path ../feature/bagging/rnn_model_bagging1.pkl\n",
      "(56590, 19) (56590, 19)\n",
      "file path ../feature/bagging/rnn_model_bagging2.pkl\n",
      "(56590, 19) (56590, 19)\n",
      "file path ../feature/bagging/rnn_model_bagging3.pkl\n",
      "(56590, 19) (56590, 19)\n",
      "(56590, 57)\n"
     ]
    }
   ],
   "source": [
    "train_x,test_x = [],[]\n",
    "for feat in sorted(glob.glob('../feature/bagging/*')):\n",
    "    print('file path',feat)\n",
    "    a,b,c = pickle.load(open(feat,'rb'))\n",
    "    print(a.shape,b.shape)\n",
    "    train_x.append(a)\n",
    "    test_x.append(c)\n",
    "# load y\n",
    "train = pd.read_csv(\"../input/new_data/train_set.csv\")\n",
    "train_x = np.nan_to_num(np.hstack(train_x))\n",
    "test_x = np.nan_to_num(np.hstack(test_x))\n",
    "print(train_x.shape)"
   ]
  },
  {
   "cell_type": "code",
   "execution_count": 15,
   "metadata": {},
   "outputs": [],
   "source": [
    "train_y=b\n",
    "train_y = np.argmax(train_y,axis=1)"
   ]
  },
  {
   "cell_type": "code",
   "execution_count": 4,
   "metadata": {},
   "outputs": [],
   "source": [
    "def self_f1_score(data, y_hat):\n",
    "    y_true = data\n",
    "    y_hat = np.round(y_hat) # scikits f1 doesn't like probabilities\n",
    "    return f1_score(y_true, y_hat, average='macro')"
   ]
  },
  {
   "cell_type": "code",
   "execution_count": 17,
   "metadata": {},
   "outputs": [
    {
     "name": "stdout",
     "output_type": "stream",
     "text": [
      "done\n"
     ]
    }
   ],
   "source": [
    "from sklearn.model_selection import KFold, StratifiedKFold\n",
    "from sklearn.metrics import roc_auc_score\n",
    "def simple_ens(model_name,k=3,rnd=233,lr=0.05,feature_fraction=0.9,bagging_fraction=0.9,\n",
    "               bag_frec=3,met='binary_logloss'):\n",
    "#     kf = StratifiedKFold(n_splits=k, shuffle=True, random_state=rnd)\n",
    "    kf = KFold(n_splits=10, shuffle=False, random_state=233*rnd)\n",
    "    test_pred, train_pred = np.zeros((102277,19)), np.zeros((102277,19))\n",
    "    now_nfold=0\n",
    "    for train_index, test_index in kf.split(train_x):\n",
    "        \n",
    "        now_nfold+=1\n",
    "        print (\"now is {} fold\".format(now_nfold))\n",
    "        curr_x,curr_y = train_x[train_index],train_y[train_index]\n",
    "        hold_out_x,hold_out_y = train_x[test_index],train_y[test_index]\n",
    "        d_test = test_x\n",
    "        \n",
    "        model = LogisticRegression(C=4, dual=True)\n",
    "        model.fit(curr_x, curr_y)\n",
    "        vaild = model.predict_proba(hold_out_x)\n",
    "        train_pred[test_index] = vaild\n",
    "        val_result = np.argmax(vaild,axis=1)\n",
    "        print ('score is {}'.format(f1_score(hold_out_y, val_result, average='macro')))\n",
    "        curr_test_pred = model.predict_proba(d_test)\n",
    "        test_pred += curr_test_pred\n",
    "\n",
    "    test_pred = test_pred / 10\n",
    "    print('-------------------------------')\n",
    "    return train_pred, test_pred\n",
    "\n",
    "print('done')"
   ]
  },
  {
   "cell_type": "code",
   "execution_count": 18,
   "metadata": {},
   "outputs": [
    {
     "name": "stdout",
     "output_type": "stream",
     "text": [
      "now is 1 fold\n",
      "score is 0.8039810270702624\n",
      "now is 2 fold\n",
      "score is 0.8030457387930755\n",
      "now is 3 fold\n",
      "score is 0.8146128808873921\n",
      "now is 4 fold\n",
      "score is 0.8054256702430308\n",
      "now is 5 fold\n",
      "score is 0.7948980959271739\n",
      "now is 6 fold\n",
      "score is 0.8091409654932807\n",
      "now is 7 fold\n",
      "score is 0.7980826811421065\n",
      "now is 8 fold\n",
      "score is 0.800144809811262\n",
      "now is 9 fold\n",
      "score is 0.8034801150736163\n",
      "now is 10 fold\n",
      "score is 0.8009246980641775\n",
      "-------------------------------\n"
     ]
    }
   ],
   "source": [
    "train_pred, lr_res = simple_ens('lgb',10,233,0.05,0.6)"
   ]
  },
  {
   "cell_type": "code",
   "execution_count": 21,
   "metadata": {},
   "outputs": [],
   "source": [
    "name = [\"class_prob_%s\"%i for i in range(1,20)]\n",
    "df_lgb = pd.DataFrame(lr_res, columns=name)\n",
    "# df_lgb = df_lgb.drop('class_prob_20', axis=1)\n",
    "df_lgb.to_csv('../pro/stacking_lr_bagging.csv', index=False)"
   ]
  },
  {
   "cell_type": "code",
   "execution_count": 19,
   "metadata": {},
   "outputs": [
    {
     "data": {
      "text/plain": [
       "(102277, 19)"
      ]
     },
     "execution_count": 19,
     "metadata": {},
     "output_type": "execute_result"
    }
   ],
   "source": []
  },
  {
   "cell_type": "code",
   "execution_count": null,
   "metadata": {},
   "outputs": [],
   "source": []
  }
 ],
 "metadata": {
  "kernelspec": {
   "display_name": "Python 3",
   "language": "python",
   "name": "python3"
  },
  "language_info": {
   "codemirror_mode": {
    "name": "ipython",
    "version": 3
   },
   "file_extension": ".py",
   "mimetype": "text/x-python",
   "name": "python",
   "nbconvert_exporter": "python",
   "pygments_lexer": "ipython3",
   "version": "3.5.2"
  }
 },
 "nbformat": 4,
 "nbformat_minor": 2
}
